{
 "cells": [
  {
   "cell_type": "code",
   "execution_count": 35,
   "id": "fcabbe6f",
   "metadata": {},
   "outputs": [],
   "source": [
    "%matplotlib inline\n",
    "\n",
    "import numpy as np\n",
    "from tqdm import tqdm"
   ]
  },
  {
   "cell_type": "code",
   "execution_count": 89,
   "id": "f95baeb2",
   "metadata": {},
   "outputs": [],
   "source": [
    "class Venus:\n",
    "    \n",
    "    def __init__(\n",
    "        self,\n",
    "        inj_limits=[175, 185],\n",
    "        mid_limits=[145, 155],\n",
    "        ext_limits=[135, 145],\n",
    "        beam_range=[50, 100],\n",
    "        jitter=0\n",
    "    ):\n",
    "        \"\"\"The limits on the magnetic solenoids currents and the beam range (ouput).\n",
    "        A random jitter can be added also (fraction of 1.).\"\"\"\n",
    "        self.inj_limits = inj_limits\n",
    "        self.mid_limits = mid_limits\n",
    "        self.ext_limits = ext_limits\n",
    "        self.beam_range = beam_range\n",
    "        self.currents = np.zeros(3)\n",
    "        self.jitter = jitter\n",
    "        self.rng = np.random.default_rng(42)\n",
    "\n",
    "    def set_mag_currents(self, inj, mid, ext):\n",
    "        \"\"\"Set the magnetic currents on the coils.\"\"\"\n",
    "        for v, lim in zip([inj, mid, ext], [self.inj_limits, self.mid_limits, self.ext_limits]):\n",
    "            if v < lim[0] or v > lim[1]:\n",
    "                raise ValueError(\"Setting outside limits\")\n",
    "        self.currents = np.array([inj, mid, ext])\n",
    "\n",
    "    def _rescale_inputs(self, inputs):\n",
    "        \"\"\"input to himmelblau4 must be in [-6, 6].\"\"\"\n",
    "        return (\n",
    "            (c - l[0]) * 12.0 / (l[1] - l[0]) - 6.0\n",
    "            for c, l in zip(inputs, [self.inj_limits, self.mid_limits, self.ext_limits])\n",
    "        )\n",
    "    \n",
    "    def get_noise_level(self):\n",
    "        # return std of the noise\n",
    "        noise = self.jitter*(self.beam_range[1] - self.beam_range[0])\n",
    "        return noise\n",
    "    \n",
    "    def _rescale_output(self, output):\n",
    "        \"\"\"himmelblau4 returns values betwen 0 and 4899 for w, x, y, z in [-6, 6].\"\"\"\n",
    "        return (\n",
    "            (1. - (output / 4899) + self.rng.normal(0.0, self.jitter)) *\n",
    "            (self.beam_range[1] - self.beam_range[0]) + self.beam_range[0]\n",
    "        )\n",
    "\n",
    "    def get_beam_current(self):\n",
    "        \"\"\"Read the current value of the beam current\"\"\"\n",
    "        return self._rescale_output(self._himmelblau4(*self._rescale_inputs(self.currents)))\n",
    "\n",
    "    @staticmethod\n",
    "    def _himmelblau4(w, x, y):\n",
    "        \"\"\"A funky 4 dimensional parameter space with a bunch of local minima.\"\"\"\n",
    "        return (\n",
    "            (w**2 + x + y - 11)**2 +\n",
    "            (w + x**2 + y - 7)**2 +\n",
    "            (w + x + y**2 - 5)**2 + 0.001 * x\n",
    "        )"
   ]
  },
  {
   "cell_type": "markdown",
   "id": "11120a9a",
   "metadata": {},
   "source": [
    "create a venus object, defaults might be refined by values from Damon. For simpler algorithm the jitter can be set to 0 initially but it should work with a value larger than that in the end."
   ]
  },
  {
   "cell_type": "code",
   "execution_count": 90,
   "id": "e2fbb622",
   "metadata": {},
   "outputs": [],
   "source": [
    "venus = Venus(jitter=0.)"
   ]
  },
  {
   "cell_type": "markdown",
   "id": "9a1c49e2",
   "metadata": {},
   "source": [
    "set the currents and read the beam value"
   ]
  },
  {
   "cell_type": "code",
   "execution_count": 91,
   "id": "182df4b0",
   "metadata": {},
   "outputs": [
    {
     "name": "stdout",
     "output_type": "stream",
     "text": [
      "49.99993876301285\n"
     ]
    }
   ],
   "source": [
    "venus.set_mag_currents(185, 155, 145)\n",
    "bc = venus.get_beam_current()\n",
    "print(bc)"
   ]
  },
  {
   "cell_type": "markdown",
   "id": "08ad2af8",
   "metadata": {},
   "source": [
    "if currents are outside the range a `ValueError` is raised and can be captured."
   ]
  },
  {
   "cell_type": "code",
   "execution_count": 92,
   "id": "7d180c10",
   "metadata": {},
   "outputs": [
    {
     "ename": "ValueError",
     "evalue": "Setting outside limits",
     "output_type": "error",
     "traceback": [
      "\u001b[0;31m---------------------------------------------------------------------------\u001b[0m",
      "\u001b[0;31mValueError\u001b[0m                                Traceback (most recent call last)",
      "Input \u001b[0;32mIn [92]\u001b[0m, in \u001b[0;36m<module>\u001b[0;34m\u001b[0m\n\u001b[0;32m----> 1\u001b[0m \u001b[43mvenus\u001b[49m\u001b[38;5;241;43m.\u001b[39;49m\u001b[43mset_mag_currents\u001b[49m\u001b[43m(\u001b[49m\u001b[38;5;241;43m50\u001b[39;49m\u001b[43m,\u001b[49m\u001b[43m \u001b[49m\u001b[38;5;241;43m200\u001b[39;49m\u001b[43m,\u001b[49m\u001b[43m \u001b[49m\u001b[38;5;241;43m200\u001b[39;49m\u001b[43m)\u001b[49m\n",
      "Input \u001b[0;32mIn [89]\u001b[0m, in \u001b[0;36mVenus.set_mag_currents\u001b[0;34m(self, inj, mid, ext)\u001b[0m\n\u001b[1;32m     23\u001b[0m \u001b[38;5;28;01mfor\u001b[39;00m v, lim \u001b[38;5;129;01min\u001b[39;00m \u001b[38;5;28mzip\u001b[39m([inj, mid, ext], [\u001b[38;5;28mself\u001b[39m\u001b[38;5;241m.\u001b[39minj_limits, \u001b[38;5;28mself\u001b[39m\u001b[38;5;241m.\u001b[39mmid_limits, \u001b[38;5;28mself\u001b[39m\u001b[38;5;241m.\u001b[39mext_limits]):\n\u001b[1;32m     24\u001b[0m     \u001b[38;5;28;01mif\u001b[39;00m v \u001b[38;5;241m<\u001b[39m lim[\u001b[38;5;241m0\u001b[39m] \u001b[38;5;129;01mor\u001b[39;00m v \u001b[38;5;241m>\u001b[39m lim[\u001b[38;5;241m1\u001b[39m]:\n\u001b[0;32m---> 25\u001b[0m         \u001b[38;5;28;01mraise\u001b[39;00m \u001b[38;5;167;01mValueError\u001b[39;00m(\u001b[38;5;124m\"\u001b[39m\u001b[38;5;124mSetting outside limits\u001b[39m\u001b[38;5;124m\"\u001b[39m)\n\u001b[1;32m     26\u001b[0m \u001b[38;5;28mself\u001b[39m\u001b[38;5;241m.\u001b[39mcurrents \u001b[38;5;241m=\u001b[39m np\u001b[38;5;241m.\u001b[39marray([inj, mid, ext])\n",
      "\u001b[0;31mValueError\u001b[0m: Setting outside limits"
     ]
    }
   ],
   "source": [
    "venus.set_mag_currents(50, 200, 200)"
   ]
  },
  {
   "cell_type": "code",
   "execution_count": 93,
   "id": "d7ec7545",
   "metadata": {},
   "outputs": [
    {
     "data": {
      "text/plain": [
       "4899.006"
      ]
     },
     "execution_count": 93,
     "metadata": {},
     "output_type": "execute_result"
    }
   ],
   "source": [
    "venus._himmelblau4(6, 6, 6)"
   ]
  },
  {
   "cell_type": "markdown",
   "id": "193aacdc-9109-4165-abe8-a160bfc1830d",
   "metadata": {},
   "source": [
    "# Bayesian Optimization"
   ]
  },
  {
   "cell_type": "code",
   "execution_count": 94,
   "id": "e9c59706",
   "metadata": {},
   "outputs": [
    {
     "name": "stdout",
     "output_type": "stream",
     "text": [
      "0.0\n",
      "|   iter    |  target   |     A     |     B     |     C     |\n",
      "-------------------------------------------------------------\n",
      "| \u001b[0m 1       \u001b[0m | \u001b[0m 90.43   \u001b[0m | \u001b[0m 178.8   \u001b[0m | \u001b[0m 153.6   \u001b[0m | \u001b[0m 144.4   \u001b[0m |\n",
      "| \u001b[95m 2       \u001b[0m | \u001b[95m 99.94   \u001b[0m | \u001b[95m 182.0   \u001b[0m | \u001b[95m 151.3   \u001b[0m | \u001b[95m 141.1   \u001b[0m |\n",
      "| \u001b[0m 3       \u001b[0m | \u001b[0m 98.53   \u001b[0m | \u001b[0m 177.0   \u001b[0m | \u001b[0m 148.9   \u001b[0m | \u001b[0m 137.6   \u001b[0m |\n",
      "| \u001b[0m 4       \u001b[0m | \u001b[0m 96.73   \u001b[0m | \u001b[0m 175.7   \u001b[0m | \u001b[0m 147.8   \u001b[0m | \u001b[0m 139.4   \u001b[0m |\n",
      "| \u001b[0m 5       \u001b[0m | \u001b[0m 97.96   \u001b[0m | \u001b[0m 179.8   \u001b[0m | \u001b[0m 153.7   \u001b[0m | \u001b[0m 140.3   \u001b[0m |\n",
      "| \u001b[0m 6       \u001b[0m | \u001b[0m 98.86   \u001b[0m | \u001b[0m 181.0   \u001b[0m | \u001b[0m 151.1   \u001b[0m | \u001b[0m 139.4   \u001b[0m |\n",
      "| \u001b[0m 7       \u001b[0m | \u001b[0m 95.28   \u001b[0m | \u001b[0m 184.4   \u001b[0m | \u001b[0m 152.6   \u001b[0m | \u001b[0m 139.7   \u001b[0m |\n",
      "| \u001b[0m 8       \u001b[0m | \u001b[0m 99.14   \u001b[0m | \u001b[0m 181.0   \u001b[0m | \u001b[0m 150.2   \u001b[0m | \u001b[0m 141.2   \u001b[0m |\n",
      "| \u001b[0m 9       \u001b[0m | \u001b[0m 98.97   \u001b[0m | \u001b[0m 183.5   \u001b[0m | \u001b[0m 149.1   \u001b[0m | \u001b[0m 142.2   \u001b[0m |\n",
      "| \u001b[0m 10      \u001b[0m | \u001b[0m 95.39   \u001b[0m | \u001b[0m 177.7   \u001b[0m | \u001b[0m 152.2   \u001b[0m | \u001b[0m 135.9   \u001b[0m |\n",
      "| \u001b[0m 11      \u001b[0m | \u001b[0m 99.61   \u001b[0m | \u001b[0m 182.5   \u001b[0m | \u001b[0m 148.1   \u001b[0m | \u001b[0m 139.5   \u001b[0m |\n",
      "| \u001b[0m 12      \u001b[0m | \u001b[0m 96.56   \u001b[0m | \u001b[0m 180.3   \u001b[0m | \u001b[0m 146.8   \u001b[0m | \u001b[0m 137.5   \u001b[0m |\n",
      "| \u001b[0m 13      \u001b[0m | \u001b[0m 94.87   \u001b[0m | \u001b[0m 184.4   \u001b[0m | \u001b[0m 146.4   \u001b[0m | \u001b[0m 140.5   \u001b[0m |\n",
      "| \u001b[0m 14      \u001b[0m | \u001b[0m 99.84   \u001b[0m | \u001b[0m 182.7   \u001b[0m | \u001b[0m 149.8   \u001b[0m | \u001b[0m 140.3   \u001b[0m |\n",
      "| \u001b[0m 15      \u001b[0m | \u001b[0m 98.3    \u001b[0m | \u001b[0m 180.9   \u001b[0m | \u001b[0m 147.5   \u001b[0m | \u001b[0m 141.5   \u001b[0m |\n",
      "| \u001b[0m 16      \u001b[0m | \u001b[0m 75.87   \u001b[0m | \u001b[0m 184.9   \u001b[0m | \u001b[0m 150.6   \u001b[0m | \u001b[0m 145.0   \u001b[0m |\n",
      "| \u001b[0m 17      \u001b[0m | \u001b[0m 94.21   \u001b[0m | \u001b[0m 175.2   \u001b[0m | \u001b[0m 145.1   \u001b[0m | \u001b[0m 135.5   \u001b[0m |\n",
      "| \u001b[0m 18      \u001b[0m | \u001b[0m 81.35   \u001b[0m | \u001b[0m 175.0   \u001b[0m | \u001b[0m 145.0   \u001b[0m | \u001b[0m 145.0   \u001b[0m |\n",
      "| \u001b[0m 19      \u001b[0m | \u001b[0m 75.65   \u001b[0m | \u001b[0m 183.1   \u001b[0m | \u001b[0m 155.0   \u001b[0m | \u001b[0m 135.0   \u001b[0m |\n",
      "| \u001b[0m 20      \u001b[0m | \u001b[0m 91.29   \u001b[0m | \u001b[0m 175.0   \u001b[0m | \u001b[0m 153.4   \u001b[0m | \u001b[0m 139.4   \u001b[0m |\n",
      "| \u001b[0m 21      \u001b[0m | \u001b[0m 79.88   \u001b[0m | \u001b[0m 185.0   \u001b[0m | \u001b[0m 145.0   \u001b[0m | \u001b[0m 135.0   \u001b[0m |\n",
      "| \u001b[0m 22      \u001b[0m | \u001b[0m 86.53   \u001b[0m | \u001b[0m 175.0   \u001b[0m | \u001b[0m 149.8   \u001b[0m | \u001b[0m 135.0   \u001b[0m |\n",
      "| \u001b[0m 23      \u001b[0m | \u001b[0m 90.88   \u001b[0m | \u001b[0m 177.8   \u001b[0m | \u001b[0m 145.0   \u001b[0m | \u001b[0m 138.9   \u001b[0m |\n",
      "| \u001b[0m 24      \u001b[0m | \u001b[0m 98.34   \u001b[0m | \u001b[0m 177.9   \u001b[0m | \u001b[0m 150.3   \u001b[0m | \u001b[0m 139.7   \u001b[0m |\n",
      "| \u001b[0m 25      \u001b[0m | \u001b[0m 83.11   \u001b[0m | \u001b[0m 182.6   \u001b[0m | \u001b[0m 145.2   \u001b[0m | \u001b[0m 144.4   \u001b[0m |\n",
      "| \u001b[0m 26      \u001b[0m | \u001b[0m 87.22   \u001b[0m | \u001b[0m 182.5   \u001b[0m | \u001b[0m 155.0   \u001b[0m | \u001b[0m 141.7   \u001b[0m |\n",
      "| \u001b[0m 27      \u001b[0m | \u001b[0m 95.18   \u001b[0m | \u001b[0m 179.6   \u001b[0m | \u001b[0m 149.6   \u001b[0m | \u001b[0m 136.6   \u001b[0m |\n",
      "| \u001b[0m 28      \u001b[0m | \u001b[0m 67.64   \u001b[0m | \u001b[0m 175.0   \u001b[0m | \u001b[0m 155.0   \u001b[0m | \u001b[0m 145.0   \u001b[0m |\n",
      "| \u001b[0m 29      \u001b[0m | \u001b[0m 90.18   \u001b[0m | \u001b[0m 175.6   \u001b[0m | \u001b[0m 155.0   \u001b[0m | \u001b[0m 136.1   \u001b[0m |\n",
      "| \u001b[0m 30      \u001b[0m | \u001b[0m 93.92   \u001b[0m | \u001b[0m 185.0   \u001b[0m | \u001b[0m 149.4   \u001b[0m | \u001b[0m 140.1   \u001b[0m |\n",
      "| \u001b[0m 31      \u001b[0m | \u001b[0m 99.68   \u001b[0m | \u001b[0m 178.3   \u001b[0m | \u001b[0m 152.6   \u001b[0m | \u001b[0m 138.5   \u001b[0m |\n",
      "| \u001b[0m 32      \u001b[0m | \u001b[0m 97.45   \u001b[0m | \u001b[0m 179.4   \u001b[0m | \u001b[0m 148.2   \u001b[0m | \u001b[0m 139.2   \u001b[0m |\n",
      "| \u001b[0m 33      \u001b[0m | \u001b[0m 99.89   \u001b[0m | \u001b[0m 182.8   \u001b[0m | \u001b[0m 148.2   \u001b[0m | \u001b[0m 141.2   \u001b[0m |\n",
      "| \u001b[0m 34      \u001b[0m | \u001b[0m 91.78   \u001b[0m | \u001b[0m 181.8   \u001b[0m | \u001b[0m 145.5   \u001b[0m | \u001b[0m 139.6   \u001b[0m |\n",
      "| \u001b[0m 35      \u001b[0m | \u001b[0m 85.65   \u001b[0m | \u001b[0m 178.6   \u001b[0m | \u001b[0m 145.0   \u001b[0m | \u001b[0m 135.0   \u001b[0m |\n",
      "| \u001b[0m 36      \u001b[0m | \u001b[0m 97.14   \u001b[0m | \u001b[0m 179.5   \u001b[0m | \u001b[0m 149.7   \u001b[0m | \u001b[0m 143.8   \u001b[0m |\n",
      "| \u001b[0m 37      \u001b[0m | \u001b[0m 99.7    \u001b[0m | \u001b[0m 179.0   \u001b[0m | \u001b[0m 152.0   \u001b[0m | \u001b[0m 141.6   \u001b[0m |\n",
      "| \u001b[0m 38      \u001b[0m | \u001b[0m 98.41   \u001b[0m | \u001b[0m 176.6   \u001b[0m | \u001b[0m 151.2   \u001b[0m | \u001b[0m 138.1   \u001b[0m |\n",
      "| \u001b[0m 39      \u001b[0m | \u001b[0m 99.46   \u001b[0m | \u001b[0m 181.8   \u001b[0m | \u001b[0m 148.9   \u001b[0m | \u001b[0m 142.6   \u001b[0m |\n",
      "| \u001b[0m 40      \u001b[0m | \u001b[0m 98.85   \u001b[0m | \u001b[0m 180.6   \u001b[0m | \u001b[0m 151.7   \u001b[0m | \u001b[0m 142.8   \u001b[0m |\n",
      "| \u001b[0m 41      \u001b[0m | \u001b[0m 99.23   \u001b[0m | \u001b[0m 179.3   \u001b[0m | \u001b[0m 152.1   \u001b[0m | \u001b[0m 139.9   \u001b[0m |\n",
      "| \u001b[0m 42      \u001b[0m | \u001b[0m 99.09   \u001b[0m | \u001b[0m 182.4   \u001b[0m | \u001b[0m 149.2   \u001b[0m | \u001b[0m 137.8   \u001b[0m |\n",
      "| \u001b[0m 43      \u001b[0m | \u001b[0m 99.46   \u001b[0m | \u001b[0m 177.6   \u001b[0m | \u001b[0m 149.8   \u001b[0m | \u001b[0m 142.2   \u001b[0m |\n",
      "| \u001b[0m 44      \u001b[0m | \u001b[0m 93.22   \u001b[0m | \u001b[0m 175.4   \u001b[0m | \u001b[0m 150.0   \u001b[0m | \u001b[0m 140.8   \u001b[0m |\n",
      "| \u001b[0m 45      \u001b[0m | \u001b[0m 99.28   \u001b[0m | \u001b[0m 178.4   \u001b[0m | \u001b[0m 148.3   \u001b[0m | \u001b[0m 141.9   \u001b[0m |\n",
      "=============================================================\n",
      "Best result: {'A': 182.0282489361073, 'B': 151.33634097171407, 'C': 141.059612819906}; f(x) = 99.9408366274527.\n"
     ]
    }
   ],
   "source": [
    "import numpy as np\n",
    "import matplotlib.pyplot as plt\n",
    "\n",
    "from bayes_opt import BayesianOptimization, UtilityFunction\n",
    "import warnings\n",
    "warnings.filterwarnings(\"ignore\")\n",
    "\n",
    "# Define the black box function to optimize.\n",
    "def black_box_function(A, B, C):\n",
    "    # C: SVC hyper parameter to optimize for.\n",
    "    venus.set_mag_currents(A, B, C)\n",
    "    v = venus.get_beam_current()\n",
    "    return v\n",
    "\n",
    "# Set range of C to optimize for.\n",
    "# bayes_opt requires this to be a dictionary.\n",
    "pbounds = {\"A\": [175, 185], \"B\": [145, 155], \"C\": [135, 145]}\n",
    "# Create a BayesianOptimization optimizer,\n",
    "# and optimize the given black_box_function.\n",
    "noise = venus.get_noise_level()\n",
    "print(noise)\n",
    "optimizer = BayesianOptimization(f = black_box_function,\n",
    "                                 pbounds = pbounds, verbose = 2,\n",
    "                                 random_state = 38)\n",
    "optimizer.maximize(init_points = 5, n_iter = 40, kappa=2.3, alpha=noise**2)\n",
    "print(\"Best result: {}; f(x) = {}.\".format(optimizer.max[\"params\"], optimizer.max[\"target\"]))"
   ]
  },
  {
   "cell_type": "code",
   "execution_count": 72,
   "id": "940a04dc-f4b7-4719-beab-cb11dff501a2",
   "metadata": {},
   "outputs": [],
   "source": [
    "# try a certain times and see how many converges\n",
    "def trial(N, n_iter = 15, init_points = 5, kappa = 3, verbose = 0, rand_adder = 0):\n",
    "    # higher kappa prefers exploration\n",
    "    # initial points are randomly chosen within bounds\n",
    "    # rand_adder is to make sure we probe some different randstates in each trial\n",
    "    rand_adder = int(rand_adder)\n",
    "    results = []\n",
    "    noise = venus.get_noise_level()\n",
    "    for i in tqdm(range(N)):\n",
    "        optimizer = BayesianOptimization(f = black_box_function,\n",
    "                                         pbounds = pbounds, verbose = 0,\n",
    "                                         random_state = i+rand_adder)\n",
    "        optimizer.maximize(init_points = init_points, n_iter = n_iter, kappa=kappa, alpha=noise)\n",
    "        if verbose>1:\n",
    "            print(\"Best result: {}; f(x) = {}.\".format(optimizer.max[\"params\"], optimizer.max[\"target\"]))\n",
    "        results.append(optimizer.max[\"target\"])\n",
    "    \n",
    "    plt.title(\"n_iter = {}, init_points = {}, kappa = {}\".format(n_iter, init_points, kappa))\n",
    "    plt.hist(results)\n",
    "    plt.show()\n",
    "    if verbose > 0:\n",
    "        print(list(reversed(sorted(results))))\n",
    "    "
   ]
  },
  {
   "cell_type": "markdown",
   "id": "69b294a0-31a3-4eba-a812-6e41527acf96",
   "metadata": {},
   "source": [
    "## Simple Trial"
   ]
  },
  {
   "cell_type": "code",
   "execution_count": 55,
   "id": "dfa75204-adea-4ed8-8ce6-ef297ae2eebb",
   "metadata": {},
   "outputs": [
    {
     "name": "stderr",
     "output_type": "stream",
     "text": [
      "100%|███████████████████████████████████████████| 20/20 [00:02<00:00,  7.26it/s]\n"
     ]
    },
    {
     "data": {
      "image/png": "[encoded data removed]",
      "text/plain": [
       "<Figure size 432x288 with 1 Axes>"
      ]
     },
     "metadata": {
      "needs_background": "light"
     },
     "output_type": "display_data"
    }
   ],
   "source": [
    "trial(20, n_iter = 5, init_points = 5, kappa = 3, verbose = 0, rand_adder = 1e2)"
   ]
  },
  {
   "cell_type": "markdown",
   "id": "0db7b939-1d08-41f2-afb9-cbf4a4434555",
   "metadata": {},
   "source": [
    "## Making sure our method is better than random"
   ]
  },
  {
   "cell_type": "code",
   "execution_count": 56,
   "id": "5d5a3003-9d85-4b98-ae00-3be66e4418c0",
   "metadata": {},
   "outputs": [
    {
     "name": "stderr",
     "output_type": "stream",
     "text": [
      "100%|███████████████████████████████████████████| 20/20 [00:09<00:00,  2.16it/s]\n"
     ]
    },
    {
     "data": {
      "image/png": "[encoded data removed]",
      "text/plain": [
       "<Figure size 432x288 with 1 Axes>"
      ]
     },
     "metadata": {
      "needs_background": "light"
     },
     "output_type": "display_data"
    },
    {
     "name": "stdout",
     "output_type": "stream",
     "text": [
      "[105.45860239542026, 104.99938158323536, 101.12039506165013, 100.34431655181133, 100.3008318567152, 100.14664158351715, 100.09170010116173, 100.01552861983808, 99.62226854884051, 99.29356421053619, 99.25201683847403, 99.04579006789132, 98.99747454259096, 98.85846420089052, 98.59458520577599, 98.0535721048324, 97.99665920939044, 97.80309553239684, 97.74319522876087, 97.01084747974284]\n"
     ]
    }
   ],
   "source": [
    "trial(20, n_iter = 15, init_points = 5, kappa = 3, verbose = 1, rand_adder = 2e2)"
   ]
  },
  {
   "cell_type": "code",
   "execution_count": 57,
   "id": "47bcd372-beaa-4a38-a7e8-8f68ebd8b59a",
   "metadata": {},
   "outputs": [
    {
     "name": "stderr",
     "output_type": "stream",
     "text": [
      "100%|███████████████████████████████████████████| 20/20 [00:02<00:00,  7.76it/s]\n"
     ]
    },
    {
     "data": {
      "image/png": "[encoded data removed]",
      "text/plain": [
       "<Figure size 432x288 with 1 Axes>"
      ]
     },
     "metadata": {
      "needs_background": "light"
     },
     "output_type": "display_data"
    },
    {
     "name": "stdout",
     "output_type": "stream",
     "text": [
      "[104.37729520897736, 104.25400471089094, 103.25278312144948, 102.57689575339673, 102.06381408560108, 102.0328937441221, 101.82359941242304, 101.78574617979186, 101.65945368440251, 101.16788909470822, 101.15612425270233, 100.84079947110325, 100.66053228861149, 100.60222128142783, 100.57493446961941, 100.45841930774756, 99.90528027483265, 99.83993658023951, 99.39260950312645, 99.02386263087098]\n"
     ]
    }
   ],
   "source": [
    "# we see that more iteration is better than more initial points, meaning our sampling is more efficient than random sample\n",
    "trial(20, n_iter = 5, init_points = 15, kappa = 3, verbose = 1, rand_adder = 3e2)"
   ]
  },
  {
   "cell_type": "markdown",
   "id": "6baa9e13-bf5f-441e-a031-fd6ae6a6dda2",
   "metadata": {},
   "source": [
    "## Trying out kappa"
   ]
  },
  {
   "cell_type": "code",
   "execution_count": 38,
   "id": "cc6af69c-1b5e-4333-be0f-9022b593732f",
   "metadata": {},
   "outputs": [
    {
     "name": "stderr",
     "output_type": "stream",
     "text": [
      "100%|███████████████████████████████████████████| 30/30 [01:12<00:00,  2.41s/it]\n"
     ]
    },
    {
     "data": {
      "image/png": "[encoded data removed]",
      "text/plain": [
       "<Figure size 432x288 with 1 Axes>"
      ]
     },
     "metadata": {
      "needs_background": "light"
     },
     "output_type": "display_data"
    },
    {
     "name": "stdout",
     "output_type": "stream",
     "text": [
      "[99.9896012532723, 99.98847556935769, 99.97633356826746, 99.97001395125984, 99.94790393563196, 99.94148630086559, 99.92317136717276, 99.91428246896828, 99.90464032898475, 99.89770648981448, 99.89608510764927, 99.88680112350411, 99.88663449881209, 99.88372783057369, 99.86302752618872, 99.85698484892177, 99.85458132892353, 99.84565447510573, 99.80624210530794, 99.79794856524416, 99.7881054648525, 99.7478083442753, 99.73464553709096, 99.7289757006588, 99.71201293772367, 99.62733021792755, 99.6159342909774, 99.61333734266914, 99.59862623238189, 99.42269268147444]\n"
     ]
    }
   ],
   "source": [
    "trial(30, n_iter = 30, init_points = 5, kappa = 3, verbose = 1, rand_adder = 5e2)"
   ]
  },
  {
   "cell_type": "code",
   "execution_count": 39,
   "id": "54aa2cea-4acc-4db4-a0a2-37f92b72f2cf",
   "metadata": {},
   "outputs": [
    {
     "name": "stderr",
     "output_type": "stream",
     "text": [
      "100%|███████████████████████████████████████████| 30/30 [01:16<00:00,  2.56s/it]\n"
     ]
    },
    {
     "data": {
      "image/png": "[encoded data removed]",
      "text/plain": [
       "<Figure size 432x288 with 1 Axes>"
      ]
     },
     "metadata": {
      "needs_background": "light"
     },
     "output_type": "display_data"
    },
    {
     "name": "stdout",
     "output_type": "stream",
     "text": [
      "[99.9440806968612, 99.93415292603405, 99.92563341256914, 99.9170920822363, 99.89290512323879, 99.89229629503043, 99.89023030162332, 99.86961217254424, 99.86116527045309, 99.85802912167102, 99.85692488504438, 99.85134043318678, 99.81697720471885, 99.80215312267578, 99.80211940436965, 99.79504477378475, 99.7871645915383, 99.7723427358491, 99.76366173574179, 99.75901161017849, 99.75727933324521, 99.75574420862179, 99.73296480801542, 99.72743586371831, 99.70538905992692, 99.70347610980538, 99.52300426218625, 99.48721672745968, 99.32685444996844, 99.10299493816234]\n"
     ]
    }
   ],
   "source": [
    "trial(30, n_iter = 30, init_points = 5, kappa = 3.7, verbose = 1, rand_adder = 7e2)"
   ]
  },
  {
   "cell_type": "code",
   "execution_count": 40,
   "id": "1d138a05-2037-48f5-b9b1-032adfe8857c",
   "metadata": {},
   "outputs": [
    {
     "name": "stderr",
     "output_type": "stream",
     "text": [
      "100%|███████████████████████████████████████████| 30/30 [01:21<00:00,  2.71s/it]\n"
     ]
    },
    {
     "data": {
      "image/png": "[encoded data removed]",
      "text/plain": [
       "<Figure size 432x288 with 1 Axes>"
      ]
     },
     "metadata": {
      "needs_background": "light"
     },
     "output_type": "display_data"
    },
    {
     "name": "stdout",
     "output_type": "stream",
     "text": [
      "[99.99282846986006, 99.97597157526137, 99.97381887913336, 99.95848251715611, 99.94669809402147, 99.94349666436293, 99.9323005851941, 99.91785678733544, 99.91049550864764, 99.90759234051518, 99.90600535622806, 99.82615429735219, 99.82523947059997, 99.8173288808542, 99.80632711068418, 99.78293490685765, 99.78235714668465, 99.78221976778241, 99.76976637516661, 99.76716684035767, 99.75288044370397, 99.74672888477299, 99.73483897857535, 99.73336252745008, 99.72601180202874, 99.7061224741984, 99.5202214527682, 99.46140461983055, 99.44285337592964, 99.24061662979827]\n"
     ]
    }
   ],
   "source": [
    "trial(30, n_iter = 30, init_points = 5, kappa = 4.2, verbose = 1, rand_adder = 8e2)"
   ]
  },
  {
   "cell_type": "code",
   "execution_count": 118,
   "id": "ee312365-fde1-4a6c-85aa-2e7fc003a39f",
   "metadata": {},
   "outputs": [
    {
     "name": "stderr",
     "output_type": "stream",
     "text": [
      "100%|███████████████████████████████████████████| 30/30 [01:27<00:00,  2.92s/it]\n"
     ]
    },
    {
     "data": {
      "image/png": "[encoded data removed]",
      "text/plain": [
       "<Figure size 432x288 with 1 Axes>"
      ]
     },
     "metadata": {
      "needs_background": "light"
     },
     "output_type": "display_data"
    }
   ],
   "source": [
    "trial(30, n_iter = 30, init_points = 5, kappa = 4.5, verbose = 1, rand_adder = 9e2)"
   ]
  },
  {
   "cell_type": "markdown",
   "id": "1e067ec5-9c7a-4c89-b8ea-ccf8fdb46aee",
   "metadata": {},
   "source": [
    "## Increase n_iter"
   ]
  },
  {
   "cell_type": "code",
   "execution_count": 130,
   "id": "ac5b06b2-7a7d-4785-b8e8-2d2cd6686531",
   "metadata": {},
   "outputs": [
    {
     "name": "stderr",
     "output_type": "stream",
     "text": [
      "100%|███████████████████████████████████████████| 30/30 [04:09<00:00,  8.30s/it]\n"
     ]
    },
    {
     "data": {
      "image/png": "[encoded data removed]",
      "text/plain": [
       "<Figure size 432x288 with 1 Axes>"
      ]
     },
     "metadata": {
      "needs_background": "light"
     },
     "output_type": "display_data"
    },
    {
     "name": "stdout",
     "output_type": "stream",
     "text": [
      "[-83.41717482507394, -108.00906940923039, -195.0, -195.0, -195.0, -195.0, -195.0, -195.0, -195.0, -195.0, -195.0, -195.0, -195.0, -195.0, -195.0, -195.0, -195.0, -195.0, -195.0, -195.0, -195.0, -195.0, -195.0, -195.0, -195.0, -195.0, -195.0, -195.0, -195.0, -195.0]\n"
     ]
    }
   ],
   "source": [
    "trial(30, n_iter = 70, init_points = 5, kappa = 4.2, verbose = 1, rand_adder = 1e3)"
   ]
  },
  {
   "cell_type": "code",
   "execution_count": 142,
   "id": "990649e2-6c4f-4136-9547-4fc86f5fc273",
   "metadata": {},
   "outputs": [
    {
     "name": "stderr",
     "output_type": "stream",
     "text": [
      "100%|███████████████████████████████████████████| 30/30 [04:24<00:00,  8.83s/it]\n"
     ]
    },
    {
     "data": {
      "image/png": "[encoded data removed]",
      "text/plain": [
       "<Figure size 432x288 with 1 Axes>"
      ]
     },
     "metadata": {
      "needs_background": "light"
     },
     "output_type": "display_data"
    },
    {
     "name": "stdout",
     "output_type": "stream",
     "text": [
      "[-195.0, -195.0, -195.0, -195.0, -195.0, -195.0, -195.0, -195.0, -195.0, -195.0, -195.0, -195.0, -195.0, -195.0, -195.0, -195.0, -195.0, -195.0, -195.0, -195.0, -195.0, -195.0, -195.0, -195.0, -195.0, -195.0, -195.0, -195.0, -195.0, -195.0]\n"
     ]
    }
   ],
   "source": [
    "trial(30, n_iter = 70, init_points = 10, kappa = 15, verbose = 1, rand_adder = 1.1e3)"
   ]
  },
  {
   "cell_type": "code",
   "execution_count": 137,
   "id": "2e3a4c11-f6d2-47e0-a630-5406f09afe52",
   "metadata": {},
   "outputs": [
    {
     "name": "stderr",
     "output_type": "stream",
     "text": [
      "100%|███████████████████████████████████████████| 30/30 [04:37<00:00,  9.25s/it]\n"
     ]
    },
    {
     "data": {
      "image/png": "[encoded data removed]",
      "text/plain": [
       "<Figure size 432x288 with 1 Axes>"
      ]
     },
     "metadata": {
      "needs_background": "light"
     },
     "output_type": "display_data"
    },
    {
     "name": "stdout",
     "output_type": "stream",
     "text": [
      "[-9.460997841425904, -194.99999999999991, -195.0, -195.0, -195.0, -195.0, -195.0, -195.0, -195.0, -195.0, -195.0, -195.0, -195.0, -195.0, -195.0, -195.0, -195.0, -195.0, -195.0, -195.0, -195.0, -195.0, -195.0, -195.0, -195.0, -195.0, -195.0, -195.0, -195.0, -2510.300282621165]\n"
     ]
    }
   ],
   "source": [
    "trial(30, n_iter = 70, init_points = 5, kappa = 15, verbose = 1, rand_adder = 1.2e3)"
   ]
  },
  {
   "cell_type": "code",
   "execution_count": null,
   "id": "e2b44010-91f5-46ac-893d-e8693e4b519e",
   "metadata": {},
   "outputs": [],
   "source": [
    "# TODO: guide optimization to known good points"
   ]
  },
  {
   "cell_type": "code",
   "execution_count": 65,
   "id": "025bef17-311f-40f3-819d-68a9f45a64eb",
   "metadata": {},
   "outputs": [],
   "source": [
    "# unused. Potentially for future tests\n",
    "# from deap import benchmarks\n",
    "\n",
    "# def ackley_arg0(sol):\n",
    "#     return benchmarks.ackley(sol)[0]"
   ]
  },
  {
   "cell_type": "code",
   "execution_count": 66,
   "id": "9d43af8d-8583-4e72-be03-e944eb6f2e06",
   "metadata": {},
   "outputs": [],
   "source": [
    "# ackley_arg0((0,0,0))"
   ]
  },
  {
   "cell_type": "code",
   "execution_count": null,
   "id": "486c7f39-5b6c-4034-bdda-7c2b104cc985",
   "metadata": {},
   "outputs": [],
   "source": [
    "# Global min: (182.5, 151.7, 140.0) value\n",
    "# TODO: use get current function\n",
    "# scikit optimization\n",
    "# skopt2"
   ]
  },
  {
   "cell_type": "code",
   "execution_count": null,
   "id": "fa6ec86d-a20e-4b1c-9633-6dac10b8bd93",
   "metadata": {},
   "outputs": [],
   "source": []
  },
  {
   "cell_type": "code",
   "execution_count": null,
   "id": "819cc73a-413d-4179-9b19-afb4f0463937",
   "metadata": {},
   "outputs": [],
   "source": []
  }
 ],
 "metadata": {
  "kernelspec": {
   "display_name": "Python 3 (ipykernel)",
   "language": "python",
   "name": "python3"
  },
  "language_info": {
   "codemirror_mode": {
    "name": "ipython",
    "version": 3
   },
   "file_extension": ".py",
   "mimetype": "text/x-python",
   "name": "python",
   "nbconvert_exporter": "python",
   "pygments_lexer": "ipython3",
   "version": "3.9.7"
  }
 },
 "nbformat": 4,
 "nbformat_minor": 5
}

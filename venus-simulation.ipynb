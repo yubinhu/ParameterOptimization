{
 "cells": [
  {
   "cell_type": "code",
   "execution_count": 35,
   "id": "fcabbe6f",
   "metadata": {},
   "outputs": [],
   "source": [
    "%matplotlib inline\n",
    "\n",
    "import numpy as np\n",
    "from tqdm import tqdm"
   ]
  },
  {
   "cell_type": "code",
   "execution_count": 153,
   "id": "f95baeb2",
   "metadata": {},
   "outputs": [],
   "source": [
    "class Venus:\n",
    "    \n",
    "    def __init__(\n",
    "        self,\n",
    "        inj_limits=[175, 185],\n",
    "        mid_limits=[145, 155],\n",
    "        ext_limits=[135, 145],\n",
    "        beam_range=[50, 100],\n",
    "        jitter=0\n",
    "    ):\n",
    "        \"\"\"The limits on the magnetic solenoids currents and the beam range (ouput).\n",
    "        A random jitter can be added also (fraction of 1.).\"\"\"\n",
    "        self.inj_limits = inj_limits\n",
    "        self.mid_limits = mid_limits\n",
    "        self.ext_limits = ext_limits\n",
    "        self.beam_range = beam_range\n",
    "        self.currents = np.zeros(3)\n",
    "        self.jitter = jitter\n",
    "        self.rng = np.random.default_rng(42)\n",
    "\n",
    "    def set_mag_currents(self, inj, mid, ext):\n",
    "        \"\"\"Set the magnetic currents on the coils.\"\"\"\n",
    "        for v, lim in zip([inj, mid, ext], [self.inj_limits, self.mid_limits, self.ext_limits]):\n",
    "            if v < lim[0] or v > lim[1]:\n",
    "                raise ValueError(\"Setting outside limits\")\n",
    "        self.currents = np.array([inj, mid, ext])\n",
    "\n",
    "    def _rescale_inputs(self, inputs):\n",
    "        \"\"\"input to himmelblau4 must be in [-6, 6].\"\"\"\n",
    "        return (\n",
    "            (c - l[0]) * 12.0 / (l[1] - l[0]) - 6.0\n",
    "            for c, l in zip(inputs, [self.inj_limits, self.mid_limits, self.ext_limits])\n",
    "        )\n",
    "    \n",
    "    def get_noise_level(self):\n",
    "        # return std of the noise\n",
    "        noise = self.jitter*(self.beam_range[1] - self.beam_range[0])\n",
    "        return noise\n",
    "    \n",
    "    def get_bounds(self, i):\n",
    "        if i == 0:\n",
    "            return self.inj_limits\n",
    "        elif i==1:\n",
    "            return self.mid_limits\n",
    "        elif i==2:\n",
    "            return self.ext_limits\n",
    "    \n",
    "    def _rescale_output(self, output):\n",
    "        \"\"\"himmelblau4 returns values betwen 0 and 4899 for w, x, y, z in [-6, 6].\"\"\"\n",
    "        return (\n",
    "            (1. - (output / 4899) + self.rng.normal(0.0, self.jitter)) *\n",
    "            (self.beam_range[1] - self.beam_range[0]) + self.beam_range[0]\n",
    "        )\n",
    "\n",
    "    def get_beam_current(self):\n",
    "        \"\"\"Read the current value of the beam current\"\"\"\n",
    "        return self._rescale_output(self._himmelblau4(*self._rescale_inputs(self.currents)))\n",
    "\n",
    "    @staticmethod\n",
    "    def _himmelblau4(w, x, y):\n",
    "        \"\"\"A funky 4 dimensional parameter space with a bunch of local minima.\"\"\"\n",
    "        return (\n",
    "            (w**2 + x + y - 11)**2 +\n",
    "            (w + x**2 + y - 7)**2 +\n",
    "            (w + x + y**2 - 5)**2 + 0.1 * x\n",
    "        )"
   ]
  },
  {
   "cell_type": "markdown",
   "id": "11120a9a",
   "metadata": {},
   "source": [
    "create a venus object, defaults might be refined by values from Damon. For simpler algorithm the jitter can be set to 0 initially but it should work with a value larger than that in the end."
   ]
  },
  {
   "cell_type": "code",
   "execution_count": 367,
   "id": "e2fbb622",
   "metadata": {},
   "outputs": [],
   "source": [
    "venus = Venus(jitter=0.0)"
   ]
  },
  {
   "cell_type": "markdown",
   "id": "9a1c49e2",
   "metadata": {},
   "source": [
    "set the currents and read the beam value"
   ]
  },
  {
   "cell_type": "code",
   "execution_count": 368,
   "id": "182df4b0",
   "metadata": {},
   "outputs": [
    {
     "name": "stdout",
     "output_type": "stream",
     "text": [
      "49.99387630128598\n"
     ]
    }
   ],
   "source": [
    "venus.set_mag_currents(185, 155, 145)\n",
    "bc = venus.get_beam_current()\n",
    "print(bc)"
   ]
  },
  {
   "cell_type": "markdown",
   "id": "08ad2af8",
   "metadata": {},
   "source": [
    "if currents are outside the range a `ValueError` is raised and can be captured."
   ]
  },
  {
   "cell_type": "code",
   "execution_count": 369,
   "id": "7d180c10",
   "metadata": {},
   "outputs": [
    {
     "ename": "ValueError",
     "evalue": "Setting outside limits",
     "output_type": "error",
     "traceback": [
      "\u001b[0;31m---------------------------------------------------------------------------\u001b[0m",
      "\u001b[0;31mValueError\u001b[0m                                Traceback (most recent call last)",
      "Input \u001b[0;32mIn [369]\u001b[0m, in \u001b[0;36m<module>\u001b[0;34m\u001b[0m\n\u001b[0;32m----> 1\u001b[0m \u001b[43mvenus\u001b[49m\u001b[38;5;241;43m.\u001b[39;49m\u001b[43mset_mag_currents\u001b[49m\u001b[43m(\u001b[49m\u001b[38;5;241;43m50\u001b[39;49m\u001b[43m,\u001b[49m\u001b[43m \u001b[49m\u001b[38;5;241;43m200\u001b[39;49m\u001b[43m,\u001b[49m\u001b[43m \u001b[49m\u001b[38;5;241;43m200\u001b[39;49m\u001b[43m)\u001b[49m\n",
      "Input \u001b[0;32mIn [153]\u001b[0m, in \u001b[0;36mVenus.set_mag_currents\u001b[0;34m(self, inj, mid, ext)\u001b[0m\n\u001b[1;32m     23\u001b[0m \u001b[38;5;28;01mfor\u001b[39;00m v, lim \u001b[38;5;129;01min\u001b[39;00m \u001b[38;5;28mzip\u001b[39m([inj, mid, ext], [\u001b[38;5;28mself\u001b[39m\u001b[38;5;241m.\u001b[39minj_limits, \u001b[38;5;28mself\u001b[39m\u001b[38;5;241m.\u001b[39mmid_limits, \u001b[38;5;28mself\u001b[39m\u001b[38;5;241m.\u001b[39mext_limits]):\n\u001b[1;32m     24\u001b[0m     \u001b[38;5;28;01mif\u001b[39;00m v \u001b[38;5;241m<\u001b[39m lim[\u001b[38;5;241m0\u001b[39m] \u001b[38;5;129;01mor\u001b[39;00m v \u001b[38;5;241m>\u001b[39m lim[\u001b[38;5;241m1\u001b[39m]:\n\u001b[0;32m---> 25\u001b[0m         \u001b[38;5;28;01mraise\u001b[39;00m \u001b[38;5;167;01mValueError\u001b[39;00m(\u001b[38;5;124m\"\u001b[39m\u001b[38;5;124mSetting outside limits\u001b[39m\u001b[38;5;124m\"\u001b[39m)\n\u001b[1;32m     26\u001b[0m \u001b[38;5;28mself\u001b[39m\u001b[38;5;241m.\u001b[39mcurrents \u001b[38;5;241m=\u001b[39m np\u001b[38;5;241m.\u001b[39marray([inj, mid, ext])\n",
      "\u001b[0;31mValueError\u001b[0m: Setting outside limits"
     ]
    }
   ],
   "source": [
    "venus.set_mag_currents(50, 200, 200)"
   ]
  },
  {
   "cell_type": "code",
   "execution_count": 370,
   "id": "d7ec7545",
   "metadata": {},
   "outputs": [
    {
     "data": {
      "text/plain": [
       "4899.6"
      ]
     },
     "execution_count": 370,
     "metadata": {},
     "output_type": "execute_result"
    }
   ],
   "source": [
    "venus._himmelblau4(6, 6, 6)"
   ]
  },
  {
   "cell_type": "markdown",
   "id": "193aacdc-9109-4165-abe8-a160bfc1830d",
   "metadata": {},
   "source": [
    "# Bayesian Optimization"
   ]
  },
  {
   "cell_type": "code",
   "execution_count": 371,
   "id": "e9c59706",
   "metadata": {},
   "outputs": [
    {
     "name": "stdout",
     "output_type": "stream",
     "text": [
      "|   iter    |  target   |     A     |     B     |     C     |\n",
      "-------------------------------------------------------------\n",
      "| \u001b[0m 1       \u001b[0m | \u001b[0m 90.43   \u001b[0m | \u001b[0m 178.8   \u001b[0m | \u001b[0m 153.6   \u001b[0m | \u001b[0m 144.4   \u001b[0m |\n",
      "| \u001b[95m 2       \u001b[0m | \u001b[95m 99.94   \u001b[0m | \u001b[95m 182.0   \u001b[0m | \u001b[95m 151.3   \u001b[0m | \u001b[95m 141.1   \u001b[0m |\n",
      "| \u001b[0m 3       \u001b[0m | \u001b[0m 98.53   \u001b[0m | \u001b[0m 177.0   \u001b[0m | \u001b[0m 148.9   \u001b[0m | \u001b[0m 137.6   \u001b[0m |\n",
      "| \u001b[0m 4       \u001b[0m | \u001b[0m 96.73   \u001b[0m | \u001b[0m 175.7   \u001b[0m | \u001b[0m 147.8   \u001b[0m | \u001b[0m 139.4   \u001b[0m |\n",
      "| \u001b[0m 5       \u001b[0m | \u001b[0m 97.95   \u001b[0m | \u001b[0m 179.8   \u001b[0m | \u001b[0m 153.7   \u001b[0m | \u001b[0m 140.3   \u001b[0m |\n",
      "| \u001b[0m 6       \u001b[0m | \u001b[0m 98.83   \u001b[0m | \u001b[0m 180.9   \u001b[0m | \u001b[0m 151.0   \u001b[0m | \u001b[0m 139.4   \u001b[0m |\n",
      "| \u001b[0m 7       \u001b[0m | \u001b[0m 94.93   \u001b[0m | \u001b[0m 184.5   \u001b[0m | \u001b[0m 152.5   \u001b[0m | \u001b[0m 139.6   \u001b[0m |\n",
      "| \u001b[0m 8       \u001b[0m | \u001b[0m 99.38   \u001b[0m | \u001b[0m 181.5   \u001b[0m | \u001b[0m 149.4   \u001b[0m | \u001b[0m 141.3   \u001b[0m |\n",
      "| \u001b[0m 9       \u001b[0m | \u001b[0m 96.6    \u001b[0m | \u001b[0m 183.7   \u001b[0m | \u001b[0m 149.6   \u001b[0m | \u001b[0m 143.2   \u001b[0m |\n",
      "| \u001b[0m 10      \u001b[0m | \u001b[0m 97.42   \u001b[0m | \u001b[0m 180.3   \u001b[0m | \u001b[0m 147.8   \u001b[0m | \u001b[0m 138.8   \u001b[0m |\n",
      "| \u001b[0m 11      \u001b[0m | \u001b[0m 98.62   \u001b[0m | \u001b[0m 177.9   \u001b[0m | \u001b[0m 151.9   \u001b[0m | \u001b[0m 137.1   \u001b[0m |\n",
      "| \u001b[0m 12      \u001b[0m | \u001b[0m 88.25   \u001b[0m | \u001b[0m 175.6   \u001b[0m | \u001b[0m 150.5   \u001b[0m | \u001b[0m 135.0   \u001b[0m |\n",
      "| \u001b[0m 13      \u001b[0m | \u001b[0m 98.25   \u001b[0m | \u001b[0m 178.3   \u001b[0m | \u001b[0m 150.5   \u001b[0m | \u001b[0m 139.3   \u001b[0m |\n",
      "| \u001b[0m 14      \u001b[0m | \u001b[0m 97.47   \u001b[0m | \u001b[0m 180.0   \u001b[0m | \u001b[0m 153.4   \u001b[0m | \u001b[0m 137.2   \u001b[0m |\n",
      "| \u001b[0m 15      \u001b[0m | \u001b[0m 99.88   \u001b[0m | \u001b[0m 183.1   \u001b[0m | \u001b[0m 149.0   \u001b[0m | \u001b[0m 139.5   \u001b[0m |\n",
      "| \u001b[0m 16      \u001b[0m | \u001b[0m 97.13   \u001b[0m | \u001b[0m 184.0   \u001b[0m | \u001b[0m 146.6   \u001b[0m | \u001b[0m 140.0   \u001b[0m |\n",
      "| \u001b[0m 17      \u001b[0m | \u001b[0m 98.14   \u001b[0m | \u001b[0m 183.0   \u001b[0m | \u001b[0m 149.1   \u001b[0m | \u001b[0m 136.9   \u001b[0m |\n",
      "| \u001b[0m 18      \u001b[0m | \u001b[0m 96.85   \u001b[0m | \u001b[0m 176.9   \u001b[0m | \u001b[0m 154.5   \u001b[0m | \u001b[0m 138.6   \u001b[0m |\n",
      "| \u001b[0m 19      \u001b[0m | \u001b[0m 95.44   \u001b[0m | \u001b[0m 179.9   \u001b[0m | \u001b[0m 150.1   \u001b[0m | \u001b[0m 136.7   \u001b[0m |\n",
      "| \u001b[0m 20      \u001b[0m | \u001b[0m 99.03   \u001b[0m | \u001b[0m 180.2   \u001b[0m | \u001b[0m 150.7   \u001b[0m | \u001b[0m 141.3   \u001b[0m |\n",
      "| \u001b[0m 21      \u001b[0m | \u001b[0m 87.37   \u001b[0m | \u001b[0m 185.0   \u001b[0m | \u001b[0m 146.6   \u001b[0m | \u001b[0m 135.2   \u001b[0m |\n",
      "| \u001b[0m 22      \u001b[0m | \u001b[0m 87.68   \u001b[0m | \u001b[0m 180.0   \u001b[0m | \u001b[0m 145.1   \u001b[0m | \u001b[0m 143.2   \u001b[0m |\n",
      "| \u001b[0m 23      \u001b[0m | \u001b[0m 66.16   \u001b[0m | \u001b[0m 185.0   \u001b[0m | \u001b[0m 155.0   \u001b[0m | \u001b[0m 135.0   \u001b[0m |\n",
      "| \u001b[0m 24      \u001b[0m | \u001b[0m 49.99   \u001b[0m | \u001b[0m 185.0   \u001b[0m | \u001b[0m 155.0   \u001b[0m | \u001b[0m 145.0   \u001b[0m |\n",
      "| \u001b[0m 25      \u001b[0m | \u001b[0m 83.2    \u001b[0m | \u001b[0m 175.0   \u001b[0m | \u001b[0m 150.1   \u001b[0m | \u001b[0m 145.0   \u001b[0m |\n",
      "| \u001b[0m 26      \u001b[0m | \u001b[0m 91.65   \u001b[0m | \u001b[0m 175.0   \u001b[0m | \u001b[0m 145.0   \u001b[0m | \u001b[0m 135.0   \u001b[0m |\n",
      "| \u001b[0m 27      \u001b[0m | \u001b[0m 66.66   \u001b[0m | \u001b[0m 185.0   \u001b[0m | \u001b[0m 145.0   \u001b[0m | \u001b[0m 145.0   \u001b[0m |\n",
      "| \u001b[0m 28      \u001b[0m | \u001b[0m 81.6    \u001b[0m | \u001b[0m 175.0   \u001b[0m | \u001b[0m 155.0   \u001b[0m | \u001b[0m 142.3   \u001b[0m |\n",
      "| \u001b[0m 29      \u001b[0m | \u001b[0m 83.0    \u001b[0m | \u001b[0m 179.9   \u001b[0m | \u001b[0m 145.0   \u001b[0m | \u001b[0m 135.0   \u001b[0m |\n",
      "| \u001b[0m 30      \u001b[0m | \u001b[0m 80.86   \u001b[0m | \u001b[0m 175.0   \u001b[0m | \u001b[0m 155.0   \u001b[0m | \u001b[0m 135.0   \u001b[0m |\n",
      "| \u001b[0m 31      \u001b[0m | \u001b[0m 87.37   \u001b[0m | \u001b[0m 175.0   \u001b[0m | \u001b[0m 145.0   \u001b[0m | \u001b[0m 141.3   \u001b[0m |\n",
      "| \u001b[0m 32      \u001b[0m | \u001b[0m 94.01   \u001b[0m | \u001b[0m 185.0   \u001b[0m | \u001b[0m 149.5   \u001b[0m | \u001b[0m 139.9   \u001b[0m |\n",
      "| \u001b[0m 33      \u001b[0m | \u001b[0m 91.24   \u001b[0m | \u001b[0m 175.0   \u001b[0m | \u001b[0m 150.8   \u001b[0m | \u001b[0m 138.9   \u001b[0m |\n",
      "| \u001b[0m 34      \u001b[0m | \u001b[0m 93.69   \u001b[0m | \u001b[0m 180.2   \u001b[0m | \u001b[0m 149.6   \u001b[0m | \u001b[0m 144.5   \u001b[0m |\n",
      "| \u001b[0m 35      \u001b[0m | \u001b[0m 99.54   \u001b[0m | \u001b[0m 178.7   \u001b[0m | \u001b[0m 152.8   \u001b[0m | \u001b[0m 138.9   \u001b[0m |\n",
      "| \u001b[0m 36      \u001b[0m | \u001b[0m 98.5    \u001b[0m | \u001b[0m 178.5   \u001b[0m | \u001b[0m 148.2   \u001b[0m | \u001b[0m 140.9   \u001b[0m |\n",
      "| \u001b[0m 37      \u001b[0m | \u001b[0m 92.75   \u001b[0m | \u001b[0m 179.3   \u001b[0m | \u001b[0m 155.0   \u001b[0m | \u001b[0m 138.4   \u001b[0m |\n",
      "| \u001b[0m 38      \u001b[0m | \u001b[0m 99.77   \u001b[0m | \u001b[0m 182.6   \u001b[0m | \u001b[0m 151.1   \u001b[0m | \u001b[0m 138.6   \u001b[0m |\n",
      "| \u001b[0m 39      \u001b[0m | \u001b[0m 99.27   \u001b[0m | \u001b[0m 182.0   \u001b[0m | \u001b[0m 147.9   \u001b[0m | \u001b[0m 140.9   \u001b[0m |\n",
      "| \u001b[0m 40      \u001b[0m | \u001b[0m 95.02   \u001b[0m | \u001b[0m 177.9   \u001b[0m | \u001b[0m 145.7   \u001b[0m | \u001b[0m 139.1   \u001b[0m |\n",
      "| \u001b[0m 41      \u001b[0m | \u001b[0m 99.9    \u001b[0m | \u001b[0m 182.8   \u001b[0m | \u001b[0m 150.1   \u001b[0m | \u001b[0m 140.8   \u001b[0m |\n",
      "| \u001b[0m 42      \u001b[0m | \u001b[0m 99.24   \u001b[0m | \u001b[0m 182.4   \u001b[0m | \u001b[0m 147.4   \u001b[0m | \u001b[0m 138.8   \u001b[0m |\n",
      "| \u001b[0m 43      \u001b[0m | \u001b[0m 99.02   \u001b[0m | \u001b[0m 181.8   \u001b[0m | \u001b[0m 149.5   \u001b[0m | \u001b[0m 139.2   \u001b[0m |\n",
      "| \u001b[0m 44      \u001b[0m | \u001b[0m 99.72   \u001b[0m | \u001b[0m 178.5   \u001b[0m | \u001b[0m 151.9   \u001b[0m | \u001b[0m 141.2   \u001b[0m |\n",
      "| \u001b[0m 45      \u001b[0m | \u001b[0m 99.02   \u001b[0m | \u001b[0m 180.0   \u001b[0m | \u001b[0m 152.1   \u001b[0m | \u001b[0m 139.1   \u001b[0m |\n",
      "=============================================================\n",
      "Best result: {'A': 182.0282489361073, 'B': 151.33634097171407, 'C': 141.059612819906}; f(x) = 99.93921632425368.\n"
     ]
    }
   ],
   "source": [
    "import numpy as np\n",
    "import matplotlib.pyplot as plt\n",
    "\n",
    "from bayes_opt import BayesianOptimization, UtilityFunction\n",
    "import warnings\n",
    "warnings.filterwarnings(\"ignore\")\n",
    "\n",
    "# Define the black box function to optimize.\n",
    "def black_box_function(A, B, C):\n",
    "    # C: SVC hyper parameter to optimize for.\n",
    "    venus.set_mag_currents(A, B, C)\n",
    "    v = venus.get_beam_current()\n",
    "    return v\n",
    "\n",
    "# Set range of C to optimize for.\n",
    "# bayes_opt requires this to be a dictionary.\n",
    "pbounds = {\"A\": [175, 185], \"B\": [145, 155], \"C\": [135, 145]}\n",
    "# Create a BayesianOptimization optimizer,\n",
    "# and optimize the given black_box_function.\n",
    "optimizer = BayesianOptimization(f = black_box_function,\n",
    "                                 pbounds = pbounds, verbose = 2,\n",
    "                                 random_state = 38)\n",
    "optimizer.maximize(init_points = 5, n_iter = 40, kappa=2.3, alpha=0.05)\n",
    "print(\"Best result: {}; f(x) = {}.\".format(optimizer.max[\"params\"], optimizer.max[\"target\"]))"
   ]
  },
  {
   "cell_type": "code",
   "execution_count": 372,
   "id": "940a04dc-f4b7-4719-beab-cb11dff501a2",
   "metadata": {},
   "outputs": [],
   "source": [
    "# try a certain times and see how many converges\n",
    "def trial(N, n_iter = 15, init_points = 5, kappa = 3, verbose = 0, rand_adder = 0):\n",
    "    # higher kappa prefers exploration\n",
    "    # initial points are randomly chosen within bounds\n",
    "    # rand_adder is to make sure we probe some different randstates in each trial\n",
    "    rand_adder = int(rand_adder)\n",
    "    results = []\n",
    "    coords = []\n",
    "    \n",
    "    for i in tqdm(range(N)):\n",
    "        \n",
    "        pbounds = {\"A\": [175, 185], \"B\": [145, 155], \"C\": [135, 145]}\n",
    "        # Create a BayesianOptimization optimizer,\n",
    "        # and optimize the given black_box_function.\n",
    "        noise = max(venus.get_noise_level(), 1e-5)\n",
    "        # print(\"noise\", noise)\n",
    "        optimizer = BayesianOptimization(f = black_box_function,\n",
    "                                         pbounds = pbounds, verbose = 0,\n",
    "                                         random_state = i+rand_adder)\n",
    "        optimizer.maximize(init_points = init_points, n_iter = n_iter, kappa=kappa, alpha=2*noise**2) # , alpha=0.01\n",
    "        if verbose>1:\n",
    "            print(\"Best result: {}; f(x) = {}.\".format(optimizer.max[\"params\"], optimizer.max[\"target\"]))\n",
    "        results.append(optimizer.max[\"target\"])\n",
    "        coords.append(optimizer.max[\"params\"])\n",
    "    \n",
    "    plt.title(\"n_iter = {}, init_points = {}, kappa = {}\".format(n_iter, init_points, kappa))\n",
    "    plt.hist(results)\n",
    "    plt.show()\n",
    "    \n",
    "    plt.scatter([coords[i]['A'] for i in range(len(coords))], [coords[i]['B'] for i in range(len(coords))]) #, [coords[i]['C'] for i in range(len(coords))]\n",
    "    plt.xlim(pbounds['A'][0], pbounds['A'][1])\n",
    "    plt.ylim(pbounds['B'][0], pbounds['B'][1])\n",
    "    # ax.set_zlim3d(pbounds['C'][0], pbounds['C'][1])\n",
    "    \n",
    "    plt.scatter([182.5], [151.7], s=180, marker=\"*\") # , [140.0]\n",
    "    plt.show()\n",
    "    if verbose > 0:\n",
    "        print(list(reversed(sorted(results))))    "
   ]
  },
  {
   "cell_type": "markdown",
   "id": "69b294a0-31a3-4eba-a812-6e41527acf96",
   "metadata": {},
   "source": [
    "## Simple Trial"
   ]
  },
  {
   "cell_type": "code",
   "execution_count": 391,
   "id": "dfa75204-adea-4ed8-8ce6-ef297ae2eebb",
   "metadata": {},
   "outputs": [
    {
     "name": "stderr",
     "output_type": "stream",
     "text": [
      "100%|█████████████████████████████████████████████| 1/1 [00:03<00:00,  3.25s/it]"
     ]
    },
    {
     "name": "stdout",
     "output_type": "stream",
     "text": [
      "Best result: {'A': 182.95735367173887, 'B': 148.68417736194704, 'C': 141.79048804360787}; f(x) = 99.9136793690932.\n"
     ]
    },
    {
     "name": "stderr",
     "output_type": "stream",
     "text": [
      "\n"
     ]
    },
    {
     "data": {
      "image/png": "[encoded data removed]",
      "text/plain": [
       "<Figure size 432x288 with 1 Axes>"
      ]
     },
     "metadata": {
      "needs_background": "light"
     },
     "output_type": "display_data"
    },
    {
     "data": {
      "image/png": "[encoded data removed]",
      "text/plain": [
       "<Figure size 432x288 with 1 Axes>"
      ]
     },
     "metadata": {
      "needs_background": "light"
     },
     "output_type": "display_data"
    },
    {
     "name": "stdout",
     "output_type": "stream",
     "text": [
      "[99.9136793690932]\n"
     ]
    }
   ],
   "source": [
    "trial(1, n_iter = 40, init_points = 5, kappa = 2.3, verbose = 2)"
   ]
  },
  {
   "cell_type": "markdown",
   "id": "0db7b939-1d08-41f2-afb9-cbf4a4434555",
   "metadata": {},
   "source": [
    "## Making sure our method is better than random"
   ]
  },
  {
   "cell_type": "code",
   "execution_count": 389,
   "id": "5d5a3003-9d85-4b98-ae00-3be66e4418c0",
   "metadata": {},
   "outputs": [
    {
     "name": "stderr",
     "output_type": "stream",
     "text": [
      "100%|███████████████████████████████████████████| 20/20 [00:41<00:00,  2.09s/it]\n"
     ]
    },
    {
     "data": {
      "image/png": "[encoded data removed]",
      "text/plain": [
       "<Figure size 432x288 with 1 Axes>"
      ]
     },
     "metadata": {
      "needs_background": "light"
     },
     "output_type": "display_data"
    },
    {
     "data": {
      "image/png": "[encoded data removed]",
      "text/plain": [
       "<Figure size 432x288 with 1 Axes>"
      ]
     },
     "metadata": {
      "needs_background": "light"
     },
     "output_type": "display_data"
    },
    {
     "name": "stdout",
     "output_type": "stream",
     "text": [
      "[99.9792480900727, 99.96582209543129, 99.9633202610919, 99.92757138597491, 99.92337832103132, 99.91737990964407, 99.90071104124831, 99.89555302709455, 99.8863091349613, 99.865234914085, 99.85668383731033, 99.85538347953477, 99.84972888990464, 99.83634430717117, 99.7994169108583, 99.76220870940838, 99.68766935084872, 99.65762781012259, 99.53119342348302, 99.5147411957821]\n"
     ]
    }
   ],
   "source": [
    "trial(20, n_iter = 25, init_points = 5, kappa = 2.3, verbose = 1)"
   ]
  },
  {
   "cell_type": "code",
   "execution_count": 390,
   "id": "47bcd372-beaa-4a38-a7e8-8f68ebd8b59a",
   "metadata": {},
   "outputs": [
    {
     "name": "stderr",
     "output_type": "stream",
     "text": [
      "100%|███████████████████████████████████████████| 20/20 [00:10<00:00,  1.98it/s]\n"
     ]
    },
    {
     "data": {
      "image/png": "[encoded data removed]",
      "text/plain": [
       "<Figure size 432x288 with 1 Axes>"
      ]
     },
     "metadata": {
      "needs_background": "light"
     },
     "output_type": "display_data"
    },
    {
     "data": {
      "image/png": "[encoded data removed]",
      "text/plain": [
       "<Figure size 432x288 with 1 Axes>"
      ]
     },
     "metadata": {
      "needs_background": "light"
     },
     "output_type": "display_data"
    },
    {
     "name": "stdout",
     "output_type": "stream",
     "text": [
      "[99.93998850610308, 99.93402297489335, 99.93014079794331, 99.92138532993744, 99.91488340932587, 99.91015320763084, 99.90691499812098, 99.88165309155474, 99.86837268111756, 99.85589864924937, 99.8421140905245, 99.79813415851218, 99.77235883889516, 99.7434634824113, 99.73575135145914, 99.70675628651836, 99.56961073624386, 99.5560557330478, 99.4603576398876, 99.3972990401049]\n"
     ]
    }
   ],
   "source": [
    "# we see that more iteration is better than more initial points, meaning our sampling is more efficient than random sample\n",
    "trial(20, n_iter = 5, init_points = 25, kappa = 2.3, verbose = 1, rand_adder = 2e2)"
   ]
  },
  {
   "cell_type": "markdown",
   "id": "6baa9e13-bf5f-441e-a031-fd6ae6a6dda2",
   "metadata": {},
   "source": [
    "## Trying out kappa"
   ]
  },
  {
   "cell_type": "code",
   "execution_count": 138,
   "id": "cc6af69c-1b5e-4333-be0f-9022b593732f",
   "metadata": {},
   "outputs": [
    {
     "name": "stderr",
     "output_type": "stream",
     "text": [
      "100%|███████████████████████████████████████████| 30/30 [00:24<00:00,  1.23it/s]\n"
     ]
    },
    {
     "data": {
      "image/png": "[encoded data removed]",
      "text/plain": [
       "<Figure size 432x288 with 1 Axes>"
      ]
     },
     "metadata": {
      "needs_background": "light"
     },
     "output_type": "display_data"
    },
    {
     "name": "stdout",
     "output_type": "stream",
     "text": [
      "[(103.78630097046495, {'A': 180.4215157264712, 'B': 146.95083825414247, 'C': 136.8915384195574}), (103.14109282758335, {'A': 183.50618100927403, 'B': 147.92541176553416, 'C': 137.2308852664275}), (102.98874513657204, {'A': 179.7227383903856, 'B': 147.99312916695555, 'C': 142.50110577977185}), (102.73042467472361, {'A': 175.07530120928465, 'B': 145.25493168088036, 'C': 135.6366353695507}), (102.17955156737506, {'A': 178.1647203707332, 'B': 148.61733168776314, 'C': 139.5072242838262}), (102.13551988555076, {'A': 177.69362476444493, 'B': 153.09691555098163, 'C': 137.3830983604036}), (101.85843759609872, {'A': 183.11240527512467, 'B': 148.36872025924038, 'C': 137.04836025195118}), (101.60626357006733, {'A': 182.97372080817357, 'B': 150.64596273075637, 'C': 142.35550273587535}), (101.49264609743254, {'A': 179.0858720403318, 'B': 151.95642669113585, 'C': 141.23354192867885}), (101.30045967426497, {'A': 179.5640574273857, 'B': 148.1727955782775, 'C': 143.90526848327212}), (101.03102455109135, {'A': 182.4535283182628, 'B': 151.29978659713828, 'C': 139.35100009859147}), (100.81947418492534, {'A': 182.88902226083002, 'B': 151.5852352705847, 'C': 142.2032821482708}), (100.74807854839412, {'A': 182.50282175450187, 'B': 148.79455318702972, 'C': 142.66466776203225}), (100.6174915901465, {'A': 175.07644860166934, 'B': 145.10260163343688, 'C': 135.15365417323977}), (100.4994296181212, {'A': 177.68182082051453, 'B': 150.4657321486875, 'C': 139.0380430283122}), (100.47079525047455, {'A': 175.97303949083545, 'B': 147.71416134891618, 'C': 141.71280488124754}), (100.2584642015866, {'A': 176.91661781204073, 'B': 147.5698872697796, 'C': 138.83031288008806}), (100.24401999371392, {'A': 179.87305477083325, 'B': 148.09036961839192, 'C': 140.44872438531667}), (99.89454343261895, {'A': 175.67988610635754, 'B': 147.44415268320057, 'C': 135.66385937183819}), (99.82761860683229, {'A': 179.69946759387636, 'B': 150.59375574265124, 'C': 137.61396146472478}), (99.80962814761176, {'A': 178.77670423515366, 'B': 152.2290064241331, 'C': 141.07013749324457}), (99.78447316004642, {'A': 176.92431537032385, 'B': 147.05339388968918, 'C': 138.17472834588855}), (99.59747550467964, {'A': 178.98445959485102, 'B': 150.87324641235392, 'C': 139.77838982726502}), (99.20088817595791, {'A': 176.28288163752748, 'B': 147.20832784191742, 'C': 135.667732865729}), (98.973297904449, {'A': 183.51125775760084, 'B': 153.56984602486, 'C': 139.6777891017199}), (98.79645518588998, {'A': 175.17805304253997, 'B': 145.00267922578612, 'C': 135.09702570633164}), (98.35790691229494, {'A': 181.41261837989296, 'B': 153.67308638672782, 'C': 139.79526184247328}), (97.463470382053, {'A': 183.4773658236126, 'B': 147.30327051621992, 'C': 136.06860015291883}), (96.74860100357648, {'A': 175.3901537138571, 'B': 145.03413146663317, 'C': 135.42387341228326}), (96.59032843777624, {'A': 175.5961261130199, 'B': 148.73852443902143, 'C': 137.04843339286478})]\n"
     ]
    }
   ],
   "source": [
    "trial(30, n_iter = 30, init_points = 5, kappa = 3, verbose = 1, rand_adder = 5e2)"
   ]
  },
  {
   "cell_type": "code",
   "execution_count": 39,
   "id": "54aa2cea-4acc-4db4-a0a2-37f92b72f2cf",
   "metadata": {},
   "outputs": [
    {
     "name": "stderr",
     "output_type": "stream",
     "text": [
      "100%|███████████████████████████████████████████| 30/30 [01:16<00:00,  2.56s/it]\n"
     ]
    },
    {
     "data": {
      "image/png": "[encoded data removed]",
      "text/plain": [
       "<Figure size 432x288 with 1 Axes>"
      ]
     },
     "metadata": {
      "needs_background": "light"
     },
     "output_type": "display_data"
    },
    {
     "name": "stdout",
     "output_type": "stream",
     "text": [
      "[99.9440806968612, 99.93415292603405, 99.92563341256914, 99.9170920822363, 99.89290512323879, 99.89229629503043, 99.89023030162332, 99.86961217254424, 99.86116527045309, 99.85802912167102, 99.85692488504438, 99.85134043318678, 99.81697720471885, 99.80215312267578, 99.80211940436965, 99.79504477378475, 99.7871645915383, 99.7723427358491, 99.76366173574179, 99.75901161017849, 99.75727933324521, 99.75574420862179, 99.73296480801542, 99.72743586371831, 99.70538905992692, 99.70347610980538, 99.52300426218625, 99.48721672745968, 99.32685444996844, 99.10299493816234]\n"
     ]
    }
   ],
   "source": [
    "trial(30, n_iter = 30, init_points = 5, kappa = 3.7, verbose = 1, rand_adder = 7e2)"
   ]
  },
  {
   "cell_type": "code",
   "execution_count": 40,
   "id": "1d138a05-2037-48f5-b9b1-032adfe8857c",
   "metadata": {},
   "outputs": [
    {
     "name": "stderr",
     "output_type": "stream",
     "text": [
      "100%|███████████████████████████████████████████| 30/30 [01:21<00:00,  2.71s/it]\n"
     ]
    },
    {
     "data": {
      "image/png": "[encoded data removed]",
      "text/plain": [
       "<Figure size 432x288 with 1 Axes>"
      ]
     },
     "metadata": {
      "needs_background": "light"
     },
     "output_type": "display_data"
    },
    {
     "name": "stdout",
     "output_type": "stream",
     "text": [
      "[99.99282846986006, 99.97597157526137, 99.97381887913336, 99.95848251715611, 99.94669809402147, 99.94349666436293, 99.9323005851941, 99.91785678733544, 99.91049550864764, 99.90759234051518, 99.90600535622806, 99.82615429735219, 99.82523947059997, 99.8173288808542, 99.80632711068418, 99.78293490685765, 99.78235714668465, 99.78221976778241, 99.76976637516661, 99.76716684035767, 99.75288044370397, 99.74672888477299, 99.73483897857535, 99.73336252745008, 99.72601180202874, 99.7061224741984, 99.5202214527682, 99.46140461983055, 99.44285337592964, 99.24061662979827]\n"
     ]
    }
   ],
   "source": [
    "trial(30, n_iter = 30, init_points = 5, kappa = 4.2, verbose = 1, rand_adder = 8e2)"
   ]
  },
  {
   "cell_type": "code",
   "execution_count": 118,
   "id": "ee312365-fde1-4a6c-85aa-2e7fc003a39f",
   "metadata": {},
   "outputs": [
    {
     "name": "stderr",
     "output_type": "stream",
     "text": [
      "100%|███████████████████████████████████████████| 30/30 [01:27<00:00,  2.92s/it]\n"
     ]
    },
    {
     "data": {
      "image/png": "[encoded data removed]",
      "text/plain": [
       "<Figure size 432x288 with 1 Axes>"
      ]
     },
     "metadata": {
      "needs_background": "light"
     },
     "output_type": "display_data"
    }
   ],
   "source": [
    "trial(30, n_iter = 30, init_points = 5, kappa = 4.5, verbose = 1, rand_adder = 9e2)"
   ]
  },
  {
   "cell_type": "markdown",
   "id": "1e067ec5-9c7a-4c89-b8ea-ccf8fdb46aee",
   "metadata": {},
   "source": [
    "## Increase n_iter"
   ]
  },
  {
   "cell_type": "code",
   "execution_count": 130,
   "id": "ac5b06b2-7a7d-4785-b8e8-2d2cd6686531",
   "metadata": {},
   "outputs": [
    {
     "name": "stderr",
     "output_type": "stream",
     "text": [
      "100%|███████████████████████████████████████████| 30/30 [04:09<00:00,  8.30s/it]\n"
     ]
    },
    {
     "data": {
      "image/png": "[encoded data removed]",
      "text/plain": [
       "<Figure size 432x288 with 1 Axes>"
      ]
     },
     "metadata": {
      "needs_background": "light"
     },
     "output_type": "display_data"
    },
    {
     "name": "stdout",
     "output_type": "stream",
     "text": [
      "[-83.41717482507394, -108.00906940923039, -195.0, -195.0, -195.0, -195.0, -195.0, -195.0, -195.0, -195.0, -195.0, -195.0, -195.0, -195.0, -195.0, -195.0, -195.0, -195.0, -195.0, -195.0, -195.0, -195.0, -195.0, -195.0, -195.0, -195.0, -195.0, -195.0, -195.0, -195.0]\n"
     ]
    }
   ],
   "source": [
    "trial(30, n_iter = 70, init_points = 5, kappa = 4.2, verbose = 1, rand_adder = 1e3)"
   ]
  },
  {
   "cell_type": "code",
   "execution_count": 142,
   "id": "990649e2-6c4f-4136-9547-4fc86f5fc273",
   "metadata": {},
   "outputs": [
    {
     "name": "stderr",
     "output_type": "stream",
     "text": [
      "100%|███████████████████████████████████████████| 30/30 [04:24<00:00,  8.83s/it]\n"
     ]
    },
    {
     "data": {
      "image/png": "[encoded data removed]",
      "text/plain": [
       "<Figure size 432x288 with 1 Axes>"
      ]
     },
     "metadata": {
      "needs_background": "light"
     },
     "output_type": "display_data"
    },
    {
     "name": "stdout",
     "output_type": "stream",
     "text": [
      "[-195.0, -195.0, -195.0, -195.0, -195.0, -195.0, -195.0, -195.0, -195.0, -195.0, -195.0, -195.0, -195.0, -195.0, -195.0, -195.0, -195.0, -195.0, -195.0, -195.0, -195.0, -195.0, -195.0, -195.0, -195.0, -195.0, -195.0, -195.0, -195.0, -195.0]\n"
     ]
    }
   ],
   "source": [
    "trial(30, n_iter = 70, init_points = 10, kappa = 15, verbose = 1, rand_adder = 1.1e3)"
   ]
  },
  {
   "cell_type": "code",
   "execution_count": 137,
   "id": "2e3a4c11-f6d2-47e0-a630-5406f09afe52",
   "metadata": {},
   "outputs": [
    {
     "name": "stderr",
     "output_type": "stream",
     "text": [
      "100%|███████████████████████████████████████████| 30/30 [04:37<00:00,  9.25s/it]\n"
     ]
    },
    {
     "data": {
      "image/png": "[encoded data removed]",
      "text/plain": [
       "<Figure size 432x288 with 1 Axes>"
      ]
     },
     "metadata": {
      "needs_background": "light"
     },
     "output_type": "display_data"
    },
    {
     "name": "stdout",
     "output_type": "stream",
     "text": [
      "[-9.460997841425904, -194.99999999999991, -195.0, -195.0, -195.0, -195.0, -195.0, -195.0, -195.0, -195.0, -195.0, -195.0, -195.0, -195.0, -195.0, -195.0, -195.0, -195.0, -195.0, -195.0, -195.0, -195.0, -195.0, -195.0, -195.0, -195.0, -195.0, -195.0, -195.0, -2510.300282621165]\n"
     ]
    }
   ],
   "source": [
    "trial(30, n_iter = 70, init_points = 5, kappa = 15, verbose = 1, rand_adder = 1.2e3)"
   ]
  },
  {
   "cell_type": "code",
   "execution_count": null,
   "id": "e2b44010-91f5-46ac-893d-e8693e4b519e",
   "metadata": {},
   "outputs": [],
   "source": [
    "# TODO: guide optimization to known good points"
   ]
  },
  {
   "cell_type": "code",
   "execution_count": 65,
   "id": "025bef17-311f-40f3-819d-68a9f45a64eb",
   "metadata": {},
   "outputs": [],
   "source": [
    "# unused. Potentially for future tests\n",
    "# from deap import benchmarks\n",
    "\n",
    "# def ackley_arg0(sol):\n",
    "#     return benchmarks.ackley(sol)[0]"
   ]
  },
  {
   "cell_type": "code",
   "execution_count": 66,
   "id": "9d43af8d-8583-4e72-be03-e944eb6f2e06",
   "metadata": {},
   "outputs": [],
   "source": [
    "# ackley_arg0((0,0,0))"
   ]
  },
  {
   "cell_type": "code",
   "execution_count": null,
   "id": "486c7f39-5b6c-4034-bdda-7c2b104cc985",
   "metadata": {},
   "outputs": [],
   "source": [
    "# Global min: (182.5, 151.7, 140.0) value\n",
    "# TODO: use get current function\n",
    "# scikit optimization\n",
    "# skopt2"
   ]
  },
  {
   "cell_type": "code",
   "execution_count": null,
   "id": "fa6ec86d-a20e-4b1c-9633-6dac10b8bd93",
   "metadata": {},
   "outputs": [],
   "source": []
  },
  {
   "cell_type": "code",
   "execution_count": null,
   "id": "819cc73a-413d-4179-9b19-afb4f0463937",
   "metadata": {},
   "outputs": [],
   "source": []
  }
 ],
 "metadata": {
  "kernelspec": {
   "display_name": "Python 3 (ipykernel)",
   "language": "python",
   "name": "python3"
  },
  "language_info": {
   "codemirror_mode": {
    "name": "ipython",
    "version": 3
   },
   "file_extension": ".py",
   "mimetype": "text/x-python",
   "name": "python",
   "nbconvert_exporter": "python",
   "pygments_lexer": "ipython3",
   "version": "3.9.7"
  }
 },
 "nbformat": 4,
 "nbformat_minor": 5
}

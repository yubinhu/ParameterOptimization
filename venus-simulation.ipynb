{
 "cells": [
  {
   "cell_type": "code",
   "execution_count": 56,
   "id": "fcabbe6f",
   "metadata": {},
   "outputs": [],
   "source": [
    "import numpy as np\n",
    "from tqdm import tqdm"
   ]
  },
  {
   "cell_type": "code",
   "execution_count": 2,
   "id": "f95baeb2",
   "metadata": {},
   "outputs": [],
   "source": [
    "class Venus:\n",
    "    \n",
    "    def __init__(\n",
    "        self,\n",
    "        inj_limits=[175, 185],\n",
    "        mid_limits=[145, 155],\n",
    "        ext_limits=[135, 145],\n",
    "        beam_range=[50, 100],\n",
    "        jitter=0\n",
    "    ):\n",
    "        \"\"\"The limits on the magnetic solenoids currents and the beam range (ouput).\n",
    "        A random jitter can be added also (fraction of 1.).\"\"\"\n",
    "        self.inj_limits = inj_limits\n",
    "        self.mid_limits = mid_limits\n",
    "        self.ext_limits = ext_limits\n",
    "        self.beam_range = beam_range\n",
    "        self.currents = np.zeros(3)\n",
    "        self.jitter = jitter\n",
    "        self.rng = np.random.default_rng(42)\n",
    "\n",
    "    def set_mag_currents(self, inj, mid, ext):\n",
    "        \"\"\"Set the magnetic currents on the coils.\"\"\"\n",
    "        for v, lim in zip([inj, mid, ext], [self.inj_limits, self.mid_limits, self.ext_limits]):\n",
    "            if v < lim[0] or v > lim[1]:\n",
    "                raise ValueError(\"Setting outside limits\")\n",
    "        self.currents = np.array([inj, mid, ext])\n",
    "\n",
    "    def _rescale_inputs(self, inputs):\n",
    "        \"\"\"input to himmelblau4 must be in [-6, 6].\"\"\"\n",
    "        return (\n",
    "            (c - l[0]) * 12.0 / (l[1] - l[0]) - 6.0\n",
    "            for c, l in zip(inputs, [self.inj_limits, self.mid_limits, self.ext_limits])\n",
    "        )\n",
    "\n",
    "    def _rescale_output(self, output):\n",
    "        \"\"\"himmelblau4 returns values betwen 0 and 4899 for w, x, y, z in [-6, 6].\"\"\"\n",
    "        return (\n",
    "            (1. - (output / 4899) + self.rng.normal(0.0, self.jitter)) *\n",
    "            (self.beam_range[1] - self.beam_range[0]) + self.beam_range[0]\n",
    "        )\n",
    "\n",
    "    def get_beam_current(self):\n",
    "        \"\"\"Read the current value of the beam current\"\"\"\n",
    "        return self._rescale_output(self._himmelblau4(*self._rescale_inputs(self.currents)))\n",
    "\n",
    "    @staticmethod\n",
    "    def _himmelblau4(w, x, y):\n",
    "        \"\"\"A funky 4 dimensional parameter space with a bunch of local minima.\"\"\"\n",
    "        return (\n",
    "            (w**2 + x + y - 11)**2 +\n",
    "            (w + x**2 + y - 7)**2 +\n",
    "            (w + x + y**2 - 5)**2\n",
    "        )"
   ]
  },
  {
   "cell_type": "markdown",
   "id": "11120a9a",
   "metadata": {},
   "source": [
    "create a venus object, defaults might be refined by values from Damon. For simpler algorithm the jitter can be set to 0 initially but it should work with a value larger than that in the end."
   ]
  },
  {
   "cell_type": "code",
   "execution_count": 3,
   "id": "e2fbb622",
   "metadata": {},
   "outputs": [],
   "source": [
    "venus = Venus(jitter=0.05)"
   ]
  },
  {
   "cell_type": "markdown",
   "id": "9a1c49e2",
   "metadata": {},
   "source": [
    "set the currents and read the beam value"
   ]
  },
  {
   "cell_type": "code",
   "execution_count": 4,
   "id": "182df4b0",
   "metadata": {},
   "outputs": [
    {
     "name": "stdout",
     "output_type": "stream",
     "text": [
      "50.76179269938608\n"
     ]
    }
   ],
   "source": [
    "venus.set_mag_currents(185, 155, 145)\n",
    "bc = venus.get_beam_current()\n",
    "print(bc)"
   ]
  },
  {
   "cell_type": "markdown",
   "id": "08ad2af8",
   "metadata": {},
   "source": [
    "if currents are outside the range a `ValueError` is raised and can be captured."
   ]
  },
  {
   "cell_type": "code",
   "execution_count": 5,
   "id": "7d180c10",
   "metadata": {},
   "outputs": [
    {
     "ename": "ValueError",
     "evalue": "Setting outside limits",
     "output_type": "error",
     "traceback": [
      "\u001b[0;31m---------------------------------------------------------------------------\u001b[0m",
      "\u001b[0;31mValueError\u001b[0m                                Traceback (most recent call last)",
      "Input \u001b[0;32mIn [5]\u001b[0m, in \u001b[0;36m<module>\u001b[0;34m\u001b[0m\n\u001b[0;32m----> 1\u001b[0m \u001b[43mvenus\u001b[49m\u001b[38;5;241;43m.\u001b[39;49m\u001b[43mset_mag_currents\u001b[49m\u001b[43m(\u001b[49m\u001b[38;5;241;43m50\u001b[39;49m\u001b[43m,\u001b[49m\u001b[43m \u001b[49m\u001b[38;5;241;43m200\u001b[39;49m\u001b[43m,\u001b[49m\u001b[43m \u001b[49m\u001b[38;5;241;43m200\u001b[39;49m\u001b[43m)\u001b[49m\n",
      "Input \u001b[0;32mIn [2]\u001b[0m, in \u001b[0;36mVenus.set_mag_currents\u001b[0;34m(self, inj, mid, ext)\u001b[0m\n\u001b[1;32m     23\u001b[0m \u001b[38;5;28;01mfor\u001b[39;00m v, lim \u001b[38;5;129;01min\u001b[39;00m \u001b[38;5;28mzip\u001b[39m([inj, mid, ext], [\u001b[38;5;28mself\u001b[39m\u001b[38;5;241m.\u001b[39minj_limits, \u001b[38;5;28mself\u001b[39m\u001b[38;5;241m.\u001b[39mmid_limits, \u001b[38;5;28mself\u001b[39m\u001b[38;5;241m.\u001b[39mext_limits]):\n\u001b[1;32m     24\u001b[0m     \u001b[38;5;28;01mif\u001b[39;00m v \u001b[38;5;241m<\u001b[39m lim[\u001b[38;5;241m0\u001b[39m] \u001b[38;5;129;01mor\u001b[39;00m v \u001b[38;5;241m>\u001b[39m lim[\u001b[38;5;241m1\u001b[39m]:\n\u001b[0;32m---> 25\u001b[0m         \u001b[38;5;28;01mraise\u001b[39;00m \u001b[38;5;167;01mValueError\u001b[39;00m(\u001b[38;5;124m\"\u001b[39m\u001b[38;5;124mSetting outside limits\u001b[39m\u001b[38;5;124m\"\u001b[39m)\n\u001b[1;32m     26\u001b[0m \u001b[38;5;28mself\u001b[39m\u001b[38;5;241m.\u001b[39mcurrents \u001b[38;5;241m=\u001b[39m np\u001b[38;5;241m.\u001b[39marray([inj, mid, ext])\n",
      "\u001b[0;31mValueError\u001b[0m: Setting outside limits"
     ]
    }
   ],
   "source": [
    "venus.set_mag_currents(50, 200, 200)"
   ]
  },
  {
   "cell_type": "code",
   "execution_count": 6,
   "id": "d7ec7545",
   "metadata": {},
   "outputs": [
    {
     "data": {
      "text/plain": [
       "4899"
      ]
     },
     "execution_count": 6,
     "metadata": {},
     "output_type": "execute_result"
    }
   ],
   "source": [
    "venus._himmelblau4(6, 6, 6)"
   ]
  },
  {
   "cell_type": "markdown",
   "id": "193aacdc-9109-4165-abe8-a160bfc1830d",
   "metadata": {},
   "source": [
    "# Bayesian Optimization"
   ]
  },
  {
   "cell_type": "code",
   "execution_count": 28,
   "id": "e9c59706",
   "metadata": {},
   "outputs": [
    {
     "name": "stdout",
     "output_type": "stream",
     "text": [
      "|   iter    |  target   |     A     |     B     |     C     |\n",
      "-------------------------------------------------------------\n",
      "| \u001b[0m 1       \u001b[0m | \u001b[0m-7.097e+0\u001b[0m | \u001b[0m 71.18   \u001b[0m | \u001b[0m 133.3   \u001b[0m | \u001b[0m 136.9   \u001b[0m |\n",
      "| \u001b[95m 2       \u001b[0m | \u001b[95m-4.52e+08\u001b[0m | \u001b[95m 130.0   \u001b[0m | \u001b[95m 98.21   \u001b[0m | \u001b[95m 87.86   \u001b[0m |\n",
      "| \u001b[95m 3       \u001b[0m | \u001b[95m-1.787e+0\u001b[0m | \u001b[95m 37.02   \u001b[0m | \u001b[95m 60.05   \u001b[0m | \u001b[95m 37.55   \u001b[0m |\n",
      "| \u001b[0m 4       \u001b[0m | \u001b[0m-2.071e+0\u001b[0m | \u001b[0m 13.8    \u001b[0m | \u001b[0m 43.55   \u001b[0m | \u001b[0m 63.57   \u001b[0m |\n",
      "| \u001b[0m 5       \u001b[0m | \u001b[0m-4.387e+0\u001b[0m | \u001b[0m 89.4    \u001b[0m | \u001b[0m 134.6   \u001b[0m | \u001b[0m 76.8    \u001b[0m |\n",
      "| \u001b[95m 6       \u001b[0m | \u001b[95m-195.0   \u001b[0m | \u001b[95m 0.0     \u001b[0m | \u001b[95m 0.0     \u001b[0m | \u001b[95m 0.0     \u001b[0m |\n",
      "| \u001b[0m 7       \u001b[0m | \u001b[0m-2.084e+0\u001b[0m | \u001b[0m 16.83   \u001b[0m | \u001b[0m 40.96   \u001b[0m | \u001b[0m 64.39   \u001b[0m |\n",
      "| \u001b[0m 8       \u001b[0m | \u001b[0m-1.171e+0\u001b[0m | \u001b[0m 185.0   \u001b[0m | \u001b[0m 0.0     \u001b[0m | \u001b[0m 0.0     \u001b[0m |\n",
      "| \u001b[0m 9       \u001b[0m | \u001b[0m-5.769e+0\u001b[0m | \u001b[0m 0.0     \u001b[0m | \u001b[0m 155.0   \u001b[0m | \u001b[0m 0.0     \u001b[0m |\n",
      "| \u001b[0m 10      \u001b[0m | \u001b[0m-4.419e+0\u001b[0m | \u001b[0m 0.0     \u001b[0m | \u001b[0m 0.0     \u001b[0m | \u001b[0m 145.0   \u001b[0m |\n",
      "| \u001b[0m 11      \u001b[0m | \u001b[0m-6.169e+0\u001b[0m | \u001b[0m 0.0     \u001b[0m | \u001b[0m 49.9    \u001b[0m | \u001b[0m 0.0     \u001b[0m |\n",
      "| \u001b[0m 12      \u001b[0m | \u001b[0m-4.646e+0\u001b[0m | \u001b[0m 0.0     \u001b[0m | \u001b[0m 0.0     \u001b[0m | \u001b[0m 46.47   \u001b[0m |\n",
      "| \u001b[0m 13      \u001b[0m | \u001b[0m-1.767e+0\u001b[0m | \u001b[0m 185.0   \u001b[0m | \u001b[0m 155.0   \u001b[0m | \u001b[0m 0.0     \u001b[0m |\n",
      "| \u001b[0m 14      \u001b[0m | \u001b[0m-1.63e+09\u001b[0m | \u001b[0m 185.0   \u001b[0m | \u001b[0m 0.0     \u001b[0m | \u001b[0m 145.0   \u001b[0m |\n",
      "| \u001b[0m 15      \u001b[0m | \u001b[0m-1.111e+0\u001b[0m | \u001b[0m 57.82   \u001b[0m | \u001b[0m 0.0     \u001b[0m | \u001b[0m 0.0     \u001b[0m |\n",
      "| \u001b[0m 16      \u001b[0m | \u001b[0m-9.785e+0\u001b[0m | \u001b[0m 26.59   \u001b[0m | \u001b[0m 21.64   \u001b[0m | \u001b[0m 19.46   \u001b[0m |\n",
      "| \u001b[0m 17      \u001b[0m | \u001b[0m-3.164e+0\u001b[0m | \u001b[0m 69.56   \u001b[0m | \u001b[0m 0.0     \u001b[0m | \u001b[0m 52.26   \u001b[0m |\n",
      "| \u001b[0m 18      \u001b[0m | \u001b[0m-5.588e+0\u001b[0m | \u001b[0m 83.06   \u001b[0m | \u001b[0m 44.79   \u001b[0m | \u001b[0m 39.29   \u001b[0m |\n",
      "| \u001b[0m 19      \u001b[0m | \u001b[0m-7.745e+0\u001b[0m | \u001b[0m 67.19   \u001b[0m | \u001b[0m 62.84   \u001b[0m | \u001b[0m 78.32   \u001b[0m |\n",
      "| \u001b[0m 20      \u001b[0m | \u001b[0m-4.384e+0\u001b[0m | \u001b[0m 41.09   \u001b[0m | \u001b[0m 0.0     \u001b[0m | \u001b[0m 34.17   \u001b[0m |\n",
      "=============================================================\n",
      "Best result: {'A': 0.0, 'B': 0.0, 'C': 0.0}; f(x) = -195.0.\n"
     ]
    }
   ],
   "source": [
    "import numpy as np\n",
    "import matplotlib.pyplot as plt\n",
    "\n",
    "from bayes_opt import BayesianOptimization, UtilityFunction\n",
    "import warnings\n",
    "warnings.filterwarnings(\"ignore\")\n",
    "\n",
    "# Define the black box function to optimize.\n",
    "def black_box_function(A, B, C):\n",
    "    # C: SVC hyper parameter to optimize for.\n",
    "    v = -venus._himmelblau4(A, B, C)\n",
    "    return v\n",
    "\n",
    "# Set range of C to optimize for.\n",
    "# bayes_opt requires this to be a dictionary.\n",
    "pbounds = {\"A\": [0, 185], \"B\": [0, 155], \"C\": [0, 145]}\n",
    "# Create a BayesianOptimization optimizer,\n",
    "# and optimize the given black_box_function.\n",
    "optimizer = BayesianOptimization(f = black_box_function,\n",
    "                                 pbounds = pbounds, verbose = 2,\n",
    "                                 random_state = 38)\n",
    "optimizer.maximize(init_points = 5, n_iter = 15)\n",
    "print(\"Best result: {}; f(x) = {}.\".format(optimizer.max[\"params\"], optimizer.max[\"target\"]))"
   ]
  },
  {
   "cell_type": "code",
   "execution_count": 127,
   "id": "940a04dc-f4b7-4719-beab-cb11dff501a2",
   "metadata": {},
   "outputs": [],
   "source": [
    "# try a certain times and see how many converges\n",
    "def trial(N, n_iter = 15, init_points = 5, kappa = 3, verbose = 0, rand_adder = 0):\n",
    "    # higher kappa prefers exploration\n",
    "    # initial points are randomly chosen within bounds\n",
    "    # rand_adder is to make sure we probe some different randstates in each trial\n",
    "    rand_adder = int(rand_adder)\n",
    "    results = []\n",
    "    for i in tqdm(range(N)):\n",
    "        optimizer = BayesianOptimization(f = black_box_function,\n",
    "                                         pbounds = pbounds, verbose = 0,\n",
    "                                         random_state = i+rand_adder)\n",
    "        optimizer.maximize(init_points = init_points, n_iter = n_iter, kappa=kappa)\n",
    "        if verbose>1:\n",
    "            print(\"Best result: {}; f(x) = {}.\".format(optimizer.max[\"params\"], optimizer.max[\"target\"]))\n",
    "        results.append(optimizer.max[\"target\"])\n",
    "    \n",
    "    plt.title(\"n_iter = {}, init_points = {}, kappa = {}\".format(n_iter, init_points, kappa))\n",
    "    plt.hist(results)\n",
    "    plt.show()\n",
    "    if verbose > 0:\n",
    "        print(list(reversed(sorted(results))))"
   ]
  },
  {
   "cell_type": "markdown",
   "id": "69b294a0-31a3-4eba-a812-6e41527acf96",
   "metadata": {},
   "source": [
    "## Simple Trial"
   ]
  },
  {
   "cell_type": "code",
   "execution_count": 129,
   "id": "dfa75204-adea-4ed8-8ce6-ef297ae2eebb",
   "metadata": {},
   "outputs": [
    {
     "name": "stderr",
     "output_type": "stream",
     "text": [
      "100%|███████████████████████████████████████████| 20/20 [00:05<00:00,  3.95it/s]\n"
     ]
    },
    {
     "data": {
      "image/png": "[encoded data removed]",
      "text/plain": [
       "<Figure size 432x288 with 1 Axes>"
      ]
     },
     "metadata": {
      "needs_background": "light"
     },
     "output_type": "display_data"
    }
   ],
   "source": [
    "trial(20, n_iter = 5, init_points = 5, kappa = 3, verbose = 0, rand_adder = 1e2)"
   ]
  },
  {
   "cell_type": "markdown",
   "id": "0db7b939-1d08-41f2-afb9-cbf4a4434555",
   "metadata": {},
   "source": [
    "## Making sure our method is better than random"
   ]
  },
  {
   "cell_type": "code",
   "execution_count": 109,
   "id": "5d5a3003-9d85-4b98-ae00-3be66e4418c0",
   "metadata": {},
   "outputs": [
    {
     "name": "stderr",
     "output_type": "stream",
     "text": [
      "100%|███████████████████████████████████████████| 20/20 [00:19<00:00,  1.03it/s]\n"
     ]
    },
    {
     "data": {
      "image/png": "[encoded data removed]",
      "text/plain": [
       "<Figure size 432x288 with 1 Axes>"
      ]
     },
     "metadata": {
      "needs_background": "light"
     },
     "output_type": "display_data"
    }
   ],
   "source": [
    "trial(20, n_iter = 15, init_points = 5, kappa = 3, verbose = 0, rand_adder = 2e2)"
   ]
  },
  {
   "cell_type": "code",
   "execution_count": 97,
   "id": "47bcd372-beaa-4a38-a7e8-8f68ebd8b59a",
   "metadata": {},
   "outputs": [
    {
     "name": "stderr",
     "output_type": "stream",
     "text": [
      "100%|███████████████████████████████████████████| 20/20 [00:04<00:00,  4.27it/s]\n"
     ]
    },
    {
     "data": {
      "image/png": "[encoded data removed]",
      "text/plain": [
       "<Figure size 432x288 with 1 Axes>"
      ]
     },
     "metadata": {
      "needs_background": "light"
     },
     "output_type": "display_data"
    }
   ],
   "source": [
    "# we see that more iteration is better than more initial points, meaning our sampling is more efficient than random sample\n",
    "trial(20, n_iter = 5, init_points = 15, kappa = 3, verbose = 0, rand_adder = 3e2)"
   ]
  },
  {
   "cell_type": "markdown",
   "id": "6baa9e13-bf5f-441e-a031-fd6ae6a6dda2",
   "metadata": {},
   "source": [
    "## Trying out kappa"
   ]
  },
  {
   "cell_type": "code",
   "execution_count": 115,
   "id": "cc6af69c-1b5e-4333-be0f-9022b593732f",
   "metadata": {},
   "outputs": [
    {
     "name": "stderr",
     "output_type": "stream",
     "text": [
      "100%|███████████████████████████████████████████| 30/30 [00:52<00:00,  1.75s/it]\n"
     ]
    },
    {
     "data": {
      "image/png": "[encoded data removed]",
      "text/plain": [
       "<Figure size 432x288 with 1 Axes>"
      ]
     },
     "metadata": {
      "needs_background": "light"
     },
     "output_type": "display_data"
    }
   ],
   "source": [
    "trial(30, n_iter = 30, init_points = 5, kappa = 3, verbose = 1, rand_adder = 5e2)"
   ]
  },
  {
   "cell_type": "code",
   "execution_count": 114,
   "id": "54aa2cea-4acc-4db4-a0a2-37f92b72f2cf",
   "metadata": {},
   "outputs": [
    {
     "name": "stderr",
     "output_type": "stream",
     "text": [
      "100%|███████████████████████████████████████████| 30/30 [01:33<00:00,  3.11s/it]\n"
     ]
    },
    {
     "data": {
      "image/png": "[encoded data removed]",
      "text/plain": [
       "<Figure size 432x288 with 1 Axes>"
      ]
     },
     "metadata": {
      "needs_background": "light"
     },
     "output_type": "display_data"
    }
   ],
   "source": [
    "trial(30, n_iter = 30, init_points = 5, kappa = 3.7, verbose = 1, rand_adder = 7e2)"
   ]
  },
  {
   "cell_type": "code",
   "execution_count": 116,
   "id": "1d138a05-2037-48f5-b9b1-032adfe8857c",
   "metadata": {},
   "outputs": [
    {
     "name": "stderr",
     "output_type": "stream",
     "text": [
      "100%|███████████████████████████████████████████| 30/30 [01:26<00:00,  2.87s/it]\n"
     ]
    },
    {
     "data": {
      "image/png": "[encoded data removed]",
      "text/plain": [
       "<Figure size 432x288 with 1 Axes>"
      ]
     },
     "metadata": {
      "needs_background": "light"
     },
     "output_type": "display_data"
    }
   ],
   "source": [
    "trial(30, n_iter = 30, init_points = 5, kappa = 4.2, verbose = 1, rand_adder = 8e2)"
   ]
  },
  {
   "cell_type": "code",
   "execution_count": 118,
   "id": "ee312365-fde1-4a6c-85aa-2e7fc003a39f",
   "metadata": {},
   "outputs": [
    {
     "name": "stderr",
     "output_type": "stream",
     "text": [
      "100%|███████████████████████████████████████████| 30/30 [01:27<00:00,  2.92s/it]\n"
     ]
    },
    {
     "data": {
      "image/png": "[encoded data removed]",
      "text/plain": [
       "<Figure size 432x288 with 1 Axes>"
      ]
     },
     "metadata": {
      "needs_background": "light"
     },
     "output_type": "display_data"
    }
   ],
   "source": [
    "trial(30, n_iter = 30, init_points = 5, kappa = 4.5, verbose = 1, rand_adder = 9e2)"
   ]
  },
  {
   "cell_type": "markdown",
   "id": "1e067ec5-9c7a-4c89-b8ea-ccf8fdb46aee",
   "metadata": {},
   "source": [
    "## Increase n_iter"
   ]
  },
  {
   "cell_type": "code",
   "execution_count": 130,
   "id": "ac5b06b2-7a7d-4785-b8e8-2d2cd6686531",
   "metadata": {},
   "outputs": [
    {
     "name": "stderr",
     "output_type": "stream",
     "text": [
      "100%|███████████████████████████████████████████| 30/30 [04:09<00:00,  8.30s/it]\n"
     ]
    },
    {
     "data": {
      "image/png": "[encoded data removed]",
      "text/plain": [
       "<Figure size 432x288 with 1 Axes>"
      ]
     },
     "metadata": {
      "needs_background": "light"
     },
     "output_type": "display_data"
    },
    {
     "name": "stdout",
     "output_type": "stream",
     "text": [
      "[-83.41717482507394, -108.00906940923039, -195.0, -195.0, -195.0, -195.0, -195.0, -195.0, -195.0, -195.0, -195.0, -195.0, -195.0, -195.0, -195.0, -195.0, -195.0, -195.0, -195.0, -195.0, -195.0, -195.0, -195.0, -195.0, -195.0, -195.0, -195.0, -195.0, -195.0, -195.0]\n"
     ]
    }
   ],
   "source": [
    "trial(30, n_iter = 70, init_points = 5, kappa = 4.2, verbose = 1, rand_adder = 1e3)"
   ]
  },
  {
   "cell_type": "code",
   "execution_count": 142,
   "id": "990649e2-6c4f-4136-9547-4fc86f5fc273",
   "metadata": {},
   "outputs": [
    {
     "name": "stderr",
     "output_type": "stream",
     "text": [
      "100%|███████████████████████████████████████████| 30/30 [04:24<00:00,  8.83s/it]\n"
     ]
    },
    {
     "data": {
      "image/png": "[encoded data removed]",
      "text/plain": [
       "<Figure size 432x288 with 1 Axes>"
      ]
     },
     "metadata": {
      "needs_background": "light"
     },
     "output_type": "display_data"
    },
    {
     "name": "stdout",
     "output_type": "stream",
     "text": [
      "[-195.0, -195.0, -195.0, -195.0, -195.0, -195.0, -195.0, -195.0, -195.0, -195.0, -195.0, -195.0, -195.0, -195.0, -195.0, -195.0, -195.0, -195.0, -195.0, -195.0, -195.0, -195.0, -195.0, -195.0, -195.0, -195.0, -195.0, -195.0, -195.0, -195.0]\n"
     ]
    }
   ],
   "source": [
    "trial(30, n_iter = 70, init_points = 10, kappa = 15, verbose = 1, rand_adder = 1.1e3)"
   ]
  },
  {
   "cell_type": "code",
   "execution_count": 137,
   "id": "2e3a4c11-f6d2-47e0-a630-5406f09afe52",
   "metadata": {},
   "outputs": [
    {
     "name": "stderr",
     "output_type": "stream",
     "text": [
      "100%|███████████████████████████████████████████| 30/30 [04:37<00:00,  9.25s/it]\n"
     ]
    },
    {
     "data": {
      "image/png": "[encoded data removed]",
      "text/plain": [
       "<Figure size 432x288 with 1 Axes>"
      ]
     },
     "metadata": {
      "needs_background": "light"
     },
     "output_type": "display_data"
    },
    {
     "name": "stdout",
     "output_type": "stream",
     "text": [
      "[-9.460997841425904, -194.99999999999991, -195.0, -195.0, -195.0, -195.0, -195.0, -195.0, -195.0, -195.0, -195.0, -195.0, -195.0, -195.0, -195.0, -195.0, -195.0, -195.0, -195.0, -195.0, -195.0, -195.0, -195.0, -195.0, -195.0, -195.0, -195.0, -195.0, -195.0, -2510.300282621165]\n"
     ]
    }
   ],
   "source": [
    "trial(30, n_iter = 70, init_points = 5, kappa = 15, verbose = 1, rand_adder = 1.2e3)"
   ]
  },
  {
   "cell_type": "code",
   "execution_count": null,
   "id": "e2b44010-91f5-46ac-893d-e8693e4b519e",
   "metadata": {},
   "outputs": [],
   "source": [
    "# TODO: guide optimization to known good points"
   ]
  },
  {
   "cell_type": "code",
   "execution_count": 65,
   "id": "025bef17-311f-40f3-819d-68a9f45a64eb",
   "metadata": {},
   "outputs": [],
   "source": [
    "# unused. Potentially for future tests\n",
    "# from deap import benchmarks\n",
    "\n",
    "# def ackley_arg0(sol):\n",
    "#     return benchmarks.ackley(sol)[0]"
   ]
  },
  {
   "cell_type": "code",
   "execution_count": 66,
   "id": "9d43af8d-8583-4e72-be03-e944eb6f2e06",
   "metadata": {},
   "outputs": [],
   "source": [
    "# ackley_arg0((0,0,0))"
   ]
  },
  {
   "cell_type": "code",
   "execution_count": null,
   "id": "486c7f39-5b6c-4034-bdda-7c2b104cc985",
   "metadata": {},
   "outputs": [],
   "source": []
  }
 ],
 "metadata": {
  "kernelspec": {
   "display_name": "Python 3 (ipykernel)",
   "language": "python",
   "name": "python3"
  },
  "language_info": {
   "codemirror_mode": {
    "name": "ipython",
    "version": 3
   },
   "file_extension": ".py",
   "mimetype": "text/x-python",
   "name": "python",
   "nbconvert_exporter": "python",
   "pygments_lexer": "ipython3",
   "version": "3.9.7"
  }
 },
 "nbformat": 4,
 "nbformat_minor": 5
}

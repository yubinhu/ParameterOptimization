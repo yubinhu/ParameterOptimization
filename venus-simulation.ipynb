{
 "cells": [
  {
   "cell_type": "code",
   "execution_count": 1,
   "id": "fcabbe6f",
   "metadata": {},
   "outputs": [],
   "source": [
    "%matplotlib inline\n",
    "\n",
    "import numpy as np\n",
    "from tqdm import tqdm"
   ]
  },
  {
   "cell_type": "code",
   "execution_count": 2,
   "id": "f95baeb2",
   "metadata": {},
   "outputs": [],
   "source": [
    "class Venus:\n",
    "    \n",
    "    def __init__(\n",
    "        self,\n",
    "        inj_limits=[175, 185],\n",
    "        mid_limits=[145, 155],\n",
    "        ext_limits=[135, 145],\n",
    "        beam_range=[0.50, 1.00],\n",
    "        jitter=0\n",
    "    ):\n",
    "        \"\"\"The limits on the magnetic solenoids currents and the beam range (ouput).\n",
    "        A random jitter can be added also (fraction of 1.).\"\"\"\n",
    "        self.inj_limits = inj_limits\n",
    "        self.mid_limits = mid_limits\n",
    "        self.ext_limits = ext_limits\n",
    "        self.beam_range = beam_range\n",
    "        self.currents = np.zeros(3)\n",
    "        self.jitter = jitter\n",
    "        self.rng = np.random.default_rng(42)\n",
    "\n",
    "    def set_mag_currents(self, inj, mid, ext):\n",
    "        \"\"\"Set the magnetic currents on the coils.\"\"\"\n",
    "        for v, lim in zip([inj, mid, ext], [self.inj_limits, self.mid_limits, self.ext_limits]):\n",
    "            if v < lim[0] or v > lim[1]:\n",
    "                raise ValueError(\"Setting outside limits\")\n",
    "        self.currents = np.array([inj, mid, ext])\n",
    "\n",
    "    def _rescale_inputs(self, inputs):\n",
    "        \"\"\"input to himmelblau4 must be in [-6, 6].\"\"\"\n",
    "        return (\n",
    "            (c - l[0]) * 12.0 / (l[1] - l[0]) - 6.0\n",
    "            for c, l in zip(inputs, [self.inj_limits, self.mid_limits, self.ext_limits])\n",
    "        )\n",
    "\n",
    "    def _rescale_output(self, output):\n",
    "        \"\"\"simple square returns values betwen 0 and 27 for w, x, y, z in [-6, 6].\"\"\"\n",
    "        return (\n",
    "            (1. - (output / 27.0) + self.rng.normal(0.0, self.jitter)) *\n",
    "            (self.beam_range[1] - self.beam_range[0]) + self.beam_range[0]\n",
    "        )\n",
    "    \n",
    "    def get_noise_level(self):\n",
    "        # return std of the noise\n",
    "        noise = self.jitter*(self.beam_range[1] - self.beam_range[0])\n",
    "        return noise\n",
    "\n",
    "    def get_beam_current(self):\n",
    "        \"\"\"Read the current value of the beam current\"\"\"\n",
    "        return self._rescale_output(self._simple_square(*self._rescale_inputs(self.currents)))\n",
    "\n",
    "    @staticmethod\n",
    "    def _simple_square(w, x, y):\n",
    "        \"\"\"A not so funky 3 dimensional parameter space with a single minima.\"\"\"\n",
    "        return (\n",
    "            (w - 3.)**2 + (x - 3.)**2 + (y - 3.)**2\n",
    "        )"
   ]
  },
  {
   "cell_type": "markdown",
   "id": "11120a9a",
   "metadata": {},
   "source": [
    "create a venus object, defaults might be refined by values from Damon. For simpler algorithm the jitter can be set to 0 initially but it should work with a value larger than that in the end."
   ]
  },
  {
   "cell_type": "code",
   "execution_count": 3,
   "id": "e2fbb622",
   "metadata": {},
   "outputs": [],
   "source": [
    "venus = Venus(jitter=0.01)"
   ]
  },
  {
   "cell_type": "markdown",
   "id": "9a1c49e2",
   "metadata": {},
   "source": [
    "set the currents and read the beam value"
   ]
  },
  {
   "cell_type": "code",
   "execution_count": 4,
   "id": "182df4b0",
   "metadata": {},
   "outputs": [
    {
     "name": "stdout",
     "output_type": "stream",
     "text": [
      "0.5015235853987722\n"
     ]
    }
   ],
   "source": [
    "venus.set_mag_currents(185, 155, 145)\n",
    "bc = venus.get_beam_current()\n",
    "print(bc)"
   ]
  },
  {
   "cell_type": "markdown",
   "id": "08ad2af8",
   "metadata": {},
   "source": [
    "if currents are outside the range a `ValueError` is raised and can be captured."
   ]
  },
  {
   "cell_type": "code",
   "execution_count": 5,
   "id": "7d180c10",
   "metadata": {},
   "outputs": [
    {
     "ename": "ValueError",
     "evalue": "Setting outside limits",
     "output_type": "error",
     "traceback": [
      "\u001b[0;31m---------------------------------------------------------------------------\u001b[0m",
      "\u001b[0;31mValueError\u001b[0m                                Traceback (most recent call last)",
      "Input \u001b[0;32mIn [5]\u001b[0m, in \u001b[0;36m<module>\u001b[0;34m\u001b[0m\n\u001b[0;32m----> 1\u001b[0m \u001b[43mvenus\u001b[49m\u001b[38;5;241;43m.\u001b[39;49m\u001b[43mset_mag_currents\u001b[49m\u001b[43m(\u001b[49m\u001b[38;5;241;43m50\u001b[39;49m\u001b[43m,\u001b[49m\u001b[43m \u001b[49m\u001b[38;5;241;43m200\u001b[39;49m\u001b[43m,\u001b[49m\u001b[43m \u001b[49m\u001b[38;5;241;43m200\u001b[39;49m\u001b[43m)\u001b[49m\n",
      "Input \u001b[0;32mIn [2]\u001b[0m, in \u001b[0;36mVenus.set_mag_currents\u001b[0;34m(self, inj, mid, ext)\u001b[0m\n\u001b[1;32m     23\u001b[0m \u001b[38;5;28;01mfor\u001b[39;00m v, lim \u001b[38;5;129;01min\u001b[39;00m \u001b[38;5;28mzip\u001b[39m([inj, mid, ext], [\u001b[38;5;28mself\u001b[39m\u001b[38;5;241m.\u001b[39minj_limits, \u001b[38;5;28mself\u001b[39m\u001b[38;5;241m.\u001b[39mmid_limits, \u001b[38;5;28mself\u001b[39m\u001b[38;5;241m.\u001b[39mext_limits]):\n\u001b[1;32m     24\u001b[0m     \u001b[38;5;28;01mif\u001b[39;00m v \u001b[38;5;241m<\u001b[39m lim[\u001b[38;5;241m0\u001b[39m] \u001b[38;5;129;01mor\u001b[39;00m v \u001b[38;5;241m>\u001b[39m lim[\u001b[38;5;241m1\u001b[39m]:\n\u001b[0;32m---> 25\u001b[0m         \u001b[38;5;28;01mraise\u001b[39;00m \u001b[38;5;167;01mValueError\u001b[39;00m(\u001b[38;5;124m\"\u001b[39m\u001b[38;5;124mSetting outside limits\u001b[39m\u001b[38;5;124m\"\u001b[39m)\n\u001b[1;32m     26\u001b[0m \u001b[38;5;28mself\u001b[39m\u001b[38;5;241m.\u001b[39mcurrents \u001b[38;5;241m=\u001b[39m np\u001b[38;5;241m.\u001b[39marray([inj, mid, ext])\n",
      "\u001b[0;31mValueError\u001b[0m: Setting outside limits"
     ]
    }
   ],
   "source": [
    "venus.set_mag_currents(50, 200, 200)"
   ]
  },
  {
   "cell_type": "code",
   "execution_count": 7,
   "id": "d7ec7545",
   "metadata": {},
   "outputs": [
    {
     "ename": "AttributeError",
     "evalue": "'Venus' object has no attribute '_himmelblau4'",
     "output_type": "error",
     "traceback": [
      "\u001b[0;31m---------------------------------------------------------------------------\u001b[0m",
      "\u001b[0;31mAttributeError\u001b[0m                            Traceback (most recent call last)",
      "Input \u001b[0;32mIn [7]\u001b[0m, in \u001b[0;36m<module>\u001b[0;34m\u001b[0m\n\u001b[0;32m----> 1\u001b[0m \u001b[43mvenus\u001b[49m\u001b[38;5;241;43m.\u001b[39;49m\u001b[43m_himmelblau4\u001b[49m(\u001b[38;5;241m6\u001b[39m, \u001b[38;5;241m6\u001b[39m, \u001b[38;5;241m6\u001b[39m)\n",
      "\u001b[0;31mAttributeError\u001b[0m: 'Venus' object has no attribute '_himmelblau4'"
     ]
    }
   ],
   "source": [
    "venus._himmelblau4(6, 6, 6)"
   ]
  },
  {
   "cell_type": "markdown",
   "id": "193aacdc-9109-4165-abe8-a160bfc1830d",
   "metadata": {},
   "source": [
    "# Bayesian Optimization"
   ]
  },
  {
   "cell_type": "code",
   "execution_count": 12,
   "id": "e9c59706",
   "metadata": {},
   "outputs": [
    {
     "name": "stdout",
     "output_type": "stream",
     "text": [
      "|   iter    |  target   |     A     |     B     |     C     |\n",
      "-------------------------------------------------------------\n",
      "| \u001b[0m 1       \u001b[0m | \u001b[0m 0.5127  \u001b[0m | \u001b[0m 178.8   \u001b[0m | \u001b[0m 153.6   \u001b[0m | \u001b[0m 144.4   \u001b[0m |\n",
      "| \u001b[95m 2       \u001b[0m | \u001b[95m 0.9006  \u001b[0m | \u001b[95m 182.0   \u001b[0m | \u001b[95m 151.3   \u001b[0m | \u001b[95m 141.1   \u001b[0m |\n",
      "| \u001b[0m 3       \u001b[0m | \u001b[0m-0.7943  \u001b[0m | \u001b[0m 177.0   \u001b[0m | \u001b[0m 148.9   \u001b[0m | \u001b[0m 137.6   \u001b[0m |\n",
      "| \u001b[0m 4       \u001b[0m | \u001b[0m-1.06    \u001b[0m | \u001b[0m 175.7   \u001b[0m | \u001b[0m 147.8   \u001b[0m | \u001b[0m 139.4   \u001b[0m |\n",
      "| \u001b[0m 5       \u001b[0m | \u001b[0m 0.651   \u001b[0m | \u001b[0m 179.8   \u001b[0m | \u001b[0m 153.7   \u001b[0m | \u001b[0m 140.3   \u001b[0m |\n",
      "| \u001b[0m 6       \u001b[0m | \u001b[0m 0.6574  \u001b[0m | \u001b[0m 185.0   \u001b[0m | \u001b[0m 155.0   \u001b[0m | \u001b[0m 143.1   \u001b[0m |\n",
      "| \u001b[0m 7       \u001b[0m | \u001b[0m-0.8395  \u001b[0m | \u001b[0m 185.0   \u001b[0m | \u001b[0m 155.0   \u001b[0m | \u001b[0m 135.0   \u001b[0m |\n",
      "| \u001b[0m 8       \u001b[0m | \u001b[0m 0.3811  \u001b[0m | \u001b[0m 185.0   \u001b[0m | \u001b[0m 149.3   \u001b[0m | \u001b[0m 145.0   \u001b[0m |\n",
      "| \u001b[0m 9       \u001b[0m | \u001b[0m-0.8842  \u001b[0m | \u001b[0m 185.0   \u001b[0m | \u001b[0m 145.0   \u001b[0m | \u001b[0m 139.6   \u001b[0m |\n",
      "| \u001b[0m 10      \u001b[0m | \u001b[0m 0.8365  \u001b[0m | \u001b[0m 182.6   \u001b[0m | \u001b[0m 152.9   \u001b[0m | \u001b[0m 145.0   \u001b[0m |\n",
      "| \u001b[0m 11      \u001b[0m | \u001b[0m 0.8172  \u001b[0m | \u001b[0m 181.7   \u001b[0m | \u001b[0m 155.0   \u001b[0m | \u001b[0m 142.5   \u001b[0m |\n",
      "| \u001b[95m 12      \u001b[0m | \u001b[95m 0.9788  \u001b[0m | \u001b[95m 183.3   \u001b[0m | \u001b[95m 152.5   \u001b[0m | \u001b[95m 142.4   \u001b[0m |\n",
      "| \u001b[0m 13      \u001b[0m | \u001b[0m 0.927   \u001b[0m | \u001b[0m 181.7   \u001b[0m | \u001b[0m 151.3   \u001b[0m | \u001b[0m 143.4   \u001b[0m |\n",
      "| \u001b[0m 14      \u001b[0m | \u001b[0m-2.172   \u001b[0m | \u001b[0m 175.0   \u001b[0m | \u001b[0m 155.0   \u001b[0m | \u001b[0m 135.0   \u001b[0m |\n",
      "| \u001b[0m 15      \u001b[0m | \u001b[0m 0.3575  \u001b[0m | \u001b[0m 180.1   \u001b[0m | \u001b[0m 149.0   \u001b[0m | \u001b[0m 145.0   \u001b[0m |\n",
      "| \u001b[0m 16      \u001b[0m | \u001b[0m 0.6698  \u001b[0m | \u001b[0m 182.4   \u001b[0m | \u001b[0m 155.0   \u001b[0m | \u001b[0m 145.0   \u001b[0m |\n",
      "| \u001b[95m 17      \u001b[0m | \u001b[95m 0.9856  \u001b[0m | \u001b[95m 181.9   \u001b[0m | \u001b[95m 152.9   \u001b[0m | \u001b[95m 142.4   \u001b[0m |\n",
      "| \u001b[0m 18      \u001b[0m | \u001b[0m 0.9663  \u001b[0m | \u001b[0m 183.0   \u001b[0m | \u001b[0m 153.0   \u001b[0m | \u001b[0m 141.6   \u001b[0m |\n",
      "| \u001b[0m 19      \u001b[0m | \u001b[0m 0.9756  \u001b[0m | \u001b[0m 181.6   \u001b[0m | \u001b[0m 152.7   \u001b[0m | \u001b[0m 142.7   \u001b[0m |\n",
      "| \u001b[0m 20      \u001b[0m | \u001b[0m 0.8319  \u001b[0m | \u001b[0m 185.0   \u001b[0m | \u001b[0m 152.2   \u001b[0m | \u001b[0m 142.3   \u001b[0m |\n",
      "| \u001b[0m 21      \u001b[0m | \u001b[0m 0.666   \u001b[0m | \u001b[0m 185.0   \u001b[0m | \u001b[0m 153.0   \u001b[0m | \u001b[0m 145.0   \u001b[0m |\n",
      "| \u001b[95m 22      \u001b[0m | \u001b[95m 0.9962  \u001b[0m | \u001b[95m 182.2   \u001b[0m | \u001b[95m 152.7   \u001b[0m | \u001b[95m 142.7   \u001b[0m |\n",
      "| \u001b[0m 23      \u001b[0m | \u001b[0m 0.9725  \u001b[0m | \u001b[0m 182.5   \u001b[0m | \u001b[0m 153.3   \u001b[0m | \u001b[0m 141.8   \u001b[0m |\n",
      "| \u001b[0m 24      \u001b[0m | \u001b[0m 0.9833  \u001b[0m | \u001b[0m 182.4   \u001b[0m | \u001b[0m 152.3   \u001b[0m | \u001b[0m 142.9   \u001b[0m |\n",
      "| \u001b[0m 25      \u001b[0m | \u001b[0m 0.9711  \u001b[0m | \u001b[0m 181.5   \u001b[0m | \u001b[0m 152.5   \u001b[0m | \u001b[0m 142.4   \u001b[0m |\n",
      "| \u001b[0m 26      \u001b[0m | \u001b[0m 0.9884  \u001b[0m | \u001b[0m 182.8   \u001b[0m | \u001b[0m 152.3   \u001b[0m | \u001b[0m 142.9   \u001b[0m |\n",
      "| \u001b[0m 27      \u001b[0m | \u001b[0m 0.9504  \u001b[0m | \u001b[0m 182.6   \u001b[0m | \u001b[0m 153.3   \u001b[0m | \u001b[0m 141.5   \u001b[0m |\n",
      "| \u001b[0m 28      \u001b[0m | \u001b[0m 0.9745  \u001b[0m | \u001b[0m 181.9   \u001b[0m | \u001b[0m 153.1   \u001b[0m | \u001b[0m 142.8   \u001b[0m |\n",
      "| \u001b[0m 29      \u001b[0m | \u001b[0m 0.9786  \u001b[0m | \u001b[0m 182.6   \u001b[0m | \u001b[0m 151.7   \u001b[0m | \u001b[0m 142.1   \u001b[0m |\n",
      "| \u001b[0m 30      \u001b[0m | \u001b[0m 0.9684  \u001b[0m | \u001b[0m 181.4   \u001b[0m | \u001b[0m 152.3   \u001b[0m | \u001b[0m 142.2   \u001b[0m |\n",
      "| \u001b[0m 31      \u001b[0m | \u001b[0m 0.9824  \u001b[0m | \u001b[0m 182.8   \u001b[0m | \u001b[0m 152.8   \u001b[0m | \u001b[0m 143.0   \u001b[0m |\n",
      "| \u001b[0m 32      \u001b[0m | \u001b[0m 0.9658  \u001b[0m | \u001b[0m 182.6   \u001b[0m | \u001b[0m 152.6   \u001b[0m | \u001b[0m 141.4   \u001b[0m |\n",
      "| \u001b[0m 33      \u001b[0m | \u001b[0m 0.9776  \u001b[0m | \u001b[0m 182.3   \u001b[0m | \u001b[0m 153.3   \u001b[0m | \u001b[0m 142.6   \u001b[0m |\n",
      "| \u001b[0m 34      \u001b[0m | \u001b[0m 0.9834  \u001b[0m | \u001b[0m 182.8   \u001b[0m | \u001b[0m 151.9   \u001b[0m | \u001b[0m 142.7   \u001b[0m |\n",
      "| \u001b[0m 35      \u001b[0m | \u001b[0m 0.972   \u001b[0m | \u001b[0m 181.4   \u001b[0m | \u001b[0m 152.4   \u001b[0m | \u001b[0m 142.2   \u001b[0m |\n",
      "| \u001b[0m 36      \u001b[0m | \u001b[0m 0.9935  \u001b[0m | \u001b[0m 182.8   \u001b[0m | \u001b[0m 152.8   \u001b[0m | \u001b[0m 142.9   \u001b[0m |\n",
      "| \u001b[0m 37      \u001b[0m | \u001b[0m 0.9809  \u001b[0m | \u001b[0m 182.5   \u001b[0m | \u001b[0m 152.5   \u001b[0m | \u001b[0m 141.5   \u001b[0m |\n",
      "| \u001b[0m 38      \u001b[0m | \u001b[0m 0.9703  \u001b[0m | \u001b[0m 181.9   \u001b[0m | \u001b[0m 153.3   \u001b[0m | \u001b[0m 142.3   \u001b[0m |\n",
      "| \u001b[0m 39      \u001b[0m | \u001b[0m 0.9824  \u001b[0m | \u001b[0m 182.7   \u001b[0m | \u001b[0m 151.8   \u001b[0m | \u001b[0m 142.6   \u001b[0m |\n",
      "| \u001b[0m 40      \u001b[0m | \u001b[0m 0.9714  \u001b[0m | \u001b[0m 181.6   \u001b[0m | \u001b[0m 152.2   \u001b[0m | \u001b[0m 142.2   \u001b[0m |\n",
      "| \u001b[0m 41      \u001b[0m | \u001b[0m 0.9902  \u001b[0m | \u001b[0m 182.9   \u001b[0m | \u001b[0m 153.0   \u001b[0m | \u001b[0m 142.7   \u001b[0m |\n",
      "| \u001b[0m 42      \u001b[0m | \u001b[0m 0.987   \u001b[0m | \u001b[0m 182.5   \u001b[0m | \u001b[0m 152.3   \u001b[0m | \u001b[0m 143.2   \u001b[0m |\n",
      "| \u001b[0m 43      \u001b[0m | \u001b[0m 0.9683  \u001b[0m | \u001b[0m 182.5   \u001b[0m | \u001b[0m 153.1   \u001b[0m | \u001b[0m 141.7   \u001b[0m |\n",
      "| \u001b[0m 44      \u001b[0m | \u001b[0m 0.9849  \u001b[0m | \u001b[0m 182.8   \u001b[0m | \u001b[0m 151.9   \u001b[0m | \u001b[0m 142.1   \u001b[0m |\n",
      "| \u001b[0m 45      \u001b[0m | \u001b[0m 0.9781  \u001b[0m | \u001b[0m 181.7   \u001b[0m | \u001b[0m 152.9   \u001b[0m | \u001b[0m 142.6   \u001b[0m |\n",
      "=============================================================\n",
      "Best result: {'A': 182.21059902409516, 'B': 152.69322497751503, 'C': 142.69949704418622}; f(x) = 0.9961625808697249.\n"
     ]
    }
   ],
   "source": [
    "import matplotlib.pyplot as plt\n",
    "\n",
    "from bayes_opt import BayesianOptimization, UtilityFunction\n",
    "import warnings\n",
    "warnings.filterwarnings(\"ignore\")\n",
    "\n",
    "# Define the black box function to optimize.\n",
    "def black_box_function(A, B, C):\n",
    "    # C: SVC hyper parameter to optimize for.\n",
    "    venus.set_mag_currents(A, B, C)\n",
    "    v = venus.get_beam_current()\n",
    "    return v\n",
    "\n",
    "# Set range of C to optimize for.\n",
    "# bayes_opt requires this to be a dictionary.\n",
    "pbounds = {\"A\": [175, 185], \"B\": [145, 155], \"C\": [135, 145]}\n",
    "# Create a BayesianOptimization optimizer,\n",
    "# and optimize the given black_box_function.\n",
    "optimizer = BayesianOptimization(f = black_box_function,\n",
    "                                 pbounds = pbounds, verbose = 2,\n",
    "                                 random_state = 38)\n",
    "optimizer.maximize(init_points = 5, n_iter = 40, kappa=2.3, alpha=0.05)\n",
    "print(\"Best result: {}; f(x) = {}.\".format(optimizer.max[\"params\"], optimizer.max[\"target\"]))"
   ]
  },
  {
   "cell_type": "code",
   "execution_count": 8,
   "id": "940a04dc-f4b7-4719-beab-cb11dff501a2",
   "metadata": {},
   "outputs": [],
   "source": [
    "import random\n",
    "# try a certain times and see how many converges\n",
    "def trial(N, n_iter = 15, init_points = 5, kappa = 3, verbose = 0, rand_adder = 0):\n",
    "    # higher kappa prefers exploration\n",
    "    # initial points are randomly chosen within bounds\n",
    "    # rand_adder is to make sure we probe some different randstates in each trial\n",
    "    # rand_adder = random.randint(1,1000)\n",
    "    results = []\n",
    "    coords = []\n",
    "    pbounds = {\"A\": (175, 185), \"B\": (145, 155), \"C\": (135, 145)}\n",
    "    noise = max(venus.get_noise_level(), 1e-5)\n",
    "    print(noise)\n",
    "\n",
    "    for i in tqdm(range(N)):\n",
    "        # Create a BayesianOptimization optimizer,\n",
    "        # and optimize the given black_box_function.\n",
    "        optimizer = BayesianOptimization(f = black_box_function,\n",
    "                                         pbounds = pbounds, verbose = 0)\n",
    "                                         # random_state = i+rand_adder)\n",
    "        optimizer.maximize(init_points = init_points, n_iter = n_iter, kappa=kappa, alpha=noise) # \n",
    "        if verbose>1:\n",
    "            print(\"Best result: {}; f(x) = {}.\".format(optimizer.max[\"params\"], optimizer.max[\"target\"]))\n",
    "        results.append(optimizer.max[\"target\"])\n",
    "        coords.append(optimizer.max[\"params\"])\n",
    "        del optimizer\n",
    "    \n",
    "    plt.title(\"n_iter = {}, init_points = {}, kappa = {}\".format(n_iter, init_points, kappa))\n",
    "    plt.hist(results)\n",
    "    plt.show()\n",
    "    \n",
    "    plt.scatter([coords[i]['A'] for i in range(len(coords))], [coords[i]['B'] for i in range(len(coords))]) #, [coords[i]['C'] for i in range(len(coords))]\n",
    "    plt.xlim(pbounds['A'][0], pbounds['A'][1])\n",
    "    plt.ylim(pbounds['B'][0], pbounds['B'][1])\n",
    "    # ax.set_zlim3d(pbounds['C'][0], pbounds['C'][1])\n",
    "    \n",
    "    plt.scatter([182.5], [151.7], s=180, marker=\"*\") # , [140.0]\n",
    "    plt.show()\n",
    "    if verbose > 0:\n",
    "        print(list(reversed(sorted(results))))    "
   ]
  },
  {
   "cell_type": "markdown",
   "id": "69b294a0-31a3-4eba-a812-6e41527acf96",
   "metadata": {},
   "source": [
    "## Simple Trial"
   ]
  },
  {
   "cell_type": "code",
   "execution_count": 9,
   "id": "dfa75204-adea-4ed8-8ce6-ef297ae2eebb",
   "metadata": {},
   "outputs": [
    {
     "name": "stdout",
     "output_type": "stream",
     "text": [
      "0.005\n"
     ]
    },
    {
     "name": "stderr",
     "output_type": "stream",
     "text": [
      "100%|██████████| 1/1 [00:03<00:00,  3.56s/it]"
     ]
    },
    {
     "name": "stdout",
     "output_type": "stream",
     "text": [
      "Best result: {'A': 182.6452822704883, 'B': 152.7173097070819, 'C': 142.51102355797215}; f(x) = 1.0015015397917804.\n"
     ]
    },
    {
     "name": "stderr",
     "output_type": "stream",
     "text": [
      "\n"
     ]
    },
    {
     "data": {
      "image/png": "[encoded data removed]",
      "text/plain": [
       "<Figure size 432x288 with 1 Axes>"
      ]
     },
     "metadata": {
      "needs_background": "light"
     },
     "output_type": "display_data"
    },
    {
     "data": {
      "image/png": "[encoded data removed]",
      "text/plain": [
       "<Figure size 432x288 with 1 Axes>"
      ]
     },
     "metadata": {
      "needs_background": "light"
     },
     "output_type": "display_data"
    },
    {
     "name": "stdout",
     "output_type": "stream",
     "text": [
      "[1.0015015397917804]\n"
     ]
    }
   ],
   "source": [
    "trial(1, n_iter = 40, init_points = 5, kappa = 2.3, verbose = 2)"
   ]
  },
  {
   "cell_type": "markdown",
   "id": "0db7b939-1d08-41f2-afb9-cbf4a4434555",
   "metadata": {},
   "source": [
    "## Making sure our method is better than random"
   ]
  },
  {
   "cell_type": "code",
   "execution_count": 10,
   "id": "5d5a3003-9d85-4b98-ae00-3be66e4418c0",
   "metadata": {},
   "outputs": [
    {
     "name": "stdout",
     "output_type": "stream",
     "text": [
      "0.005\n"
     ]
    },
    {
     "name": "stderr",
     "output_type": "stream",
     "text": [
      "100%|██████████| 50/50 [01:20<00:00,  1.60s/it]\n"
     ]
    },
    {
     "data": {
      "image/png": "[encoded data removed]",
      "text/plain": [
       "<Figure size 432x288 with 1 Axes>"
      ]
     },
     "metadata": {
      "needs_background": "light"
     },
     "output_type": "display_data"
    },
    {
     "data": {
      "image/png": "[encoded data removed]",
      "text/plain": [
       "<Figure size 432x288 with 1 Axes>"
      ]
     },
     "metadata": {
      "needs_background": "light"
     },
     "output_type": "display_data"
    },
    {
     "name": "stdout",
     "output_type": "stream",
     "text": [
      "[1.0117295544515272, 1.0113013305830991, 1.0091194278020452, 1.0072175715773781, 1.0071667163173394, 1.006920481936522, 1.0061856390118042, 1.004119963247976, 1.003842068282026, 1.0036584845436143, 1.003279975942905, 1.0032276530771607, 1.0025365316802843, 1.0018768972418224, 1.0018373482129035, 1.0018146768814369, 1.0004498632901446, 1.000318445431335, 1.0001667786534976, 0.9998712819580633, 0.9997729479992354, 0.999558756250063, 0.9995471582349027, 0.9995277507736229, 0.998786563749335, 0.9987705910399216, 0.9987547972591657, 0.9985640415117183, 0.9983858934285905, 0.9982226934492422, 0.9974001067829115, 0.9972939842955858, 0.9971181700388796, 0.9970902440098597, 0.9969467228587261, 0.9967615506520906, 0.996470633962278, 0.9960966183458413, 0.9957684566963282, 0.9954732842203515, 0.9949417602676753, 0.9944707025877197, 0.9944185927415496, 0.9942101288878173, 0.9938799243914702, 0.9937023799501742, 0.9927455378620348, 0.9906787545255374, 0.9873953670291828, 0.9871869673375089]\n"
     ]
    }
   ],
   "source": [
    "trial(50, n_iter = 20, init_points = 3, kappa = 2.3, verbose = 1)"
   ]
  },
  {
   "cell_type": "code",
   "execution_count": 11,
   "id": "47bcd372-beaa-4a38-a7e8-8f68ebd8b59a",
   "metadata": {},
   "outputs": [
    {
     "name": "stdout",
     "output_type": "stream",
     "text": [
      "0.005\n"
     ]
    },
    {
     "name": "stderr",
     "output_type": "stream",
     "text": [
      "100%|██████████| 50/50 [00:12<00:00,  3.96it/s]\n"
     ]
    },
    {
     "data": {
      "image/png": "[encoded data removed]",
      "text/plain": [
       "<Figure size 432x288 with 1 Axes>"
      ]
     },
     "metadata": {
      "needs_background": "light"
     },
     "output_type": "display_data"
    },
    {
     "data": {
      "image/png": "[encoded data removed]",
      "text/plain": [
       "<Figure size 432x288 with 1 Axes>"
      ]
     },
     "metadata": {
      "needs_background": "light"
     },
     "output_type": "display_data"
    },
    {
     "name": "stdout",
     "output_type": "stream",
     "text": [
      "[1.0010482446101505, 1.0006288788674755, 1.0004616583268513, 0.9996725869843796, 0.9994851411304313, 0.9993461301963975, 0.9975947392839599, 0.996989365112215, 0.9964246836082391, 0.9940971242530908, 0.9928032800040605, 0.9926603391412123, 0.9925295074478961, 0.9907381855075774, 0.9906355100575226, 0.989812605646109, 0.9890029042392092, 0.9889924900517971, 0.9863361618310778, 0.9862032778611426, 0.9858760760036558, 0.985718825490246, 0.9856734514188099, 0.9851170353351635, 0.984247847379135, 0.9831859012480013, 0.9825934761051274, 0.981700420544579, 0.9811789632075464, 0.9811158068307899, 0.979519175830281, 0.9794389305718856, 0.9789847414711855, 0.9781030563745752, 0.9760173780059349, 0.9734174122632546, 0.9723712024706233, 0.9687522412750175, 0.9660441515653819, 0.9658019418723196, 0.9633229727804431, 0.96231206690679, 0.9613452933140639, 0.959760522740293, 0.9578120425229215, 0.9577036787853571, 0.9566696091505151, 0.9404724656730563, 0.9368374748476158, 0.9313560242858268]\n"
     ]
    }
   ],
   "source": [
    "# we see that more iteration is better than more initial points, meaning our sampling is more efficient than random sample\n",
    "trial(50, n_iter = 3, init_points = 20, kappa = 2.3, verbose = 1)"
   ]
  },
  {
   "cell_type": "markdown",
   "id": "6baa9e13-bf5f-441e-a031-fd6ae6a6dda2",
   "metadata": {},
   "source": [
    "## Trying out kappa"
   ]
  },
  {
   "cell_type": "code",
   "execution_count": 12,
   "id": "cc6af69c-1b5e-4333-be0f-9022b593732f",
   "metadata": {},
   "outputs": [
    {
     "name": "stdout",
     "output_type": "stream",
     "text": [
      "0.005\n"
     ]
    },
    {
     "name": "stderr",
     "output_type": "stream",
     "text": [
      "100%|██████████| 30/30 [01:21<00:00,  2.71s/it]\n"
     ]
    },
    {
     "data": {
      "image/png": "[encoded data removed]",
      "text/plain": [
       "<Figure size 432x288 with 1 Axes>"
      ]
     },
     "metadata": {
      "needs_background": "light"
     },
     "output_type": "display_data"
    },
    {
     "data": {
      "image/png": "[encoded data removed]",
      "text/plain": [
       "<Figure size 432x288 with 1 Axes>"
      ]
     },
     "metadata": {
      "needs_background": "light"
     },
     "output_type": "display_data"
    },
    {
     "name": "stdout",
     "output_type": "stream",
     "text": [
      "[1.0114121185698495, 1.004248557903531, 1.0038765821051132, 1.0031336632570853, 1.0025930926903301, 1.0021602017864786, 1.0012882707768906, 1.001065891887599, 1.0010472742651466, 1.0007814643218844, 1.0001293615053028, 0.9990575936295057, 0.9988913153013759, 0.9988741276872956, 0.9986315020066636, 0.9983871129764934, 0.9982537159529652, 0.9980592857450373, 0.997526029301099, 0.9973138130668905, 0.9971401070190651, 0.9971062094908139, 0.9970339126411092, 0.9965760266471149, 0.9956773399529154, 0.9945620711467771, 0.9941131269257723, 0.9934729397477645, 0.9922651641949961, 0.9889362174819715]\n"
     ]
    }
   ],
   "source": [
    "trial(30, n_iter = 30, init_points = 5, kappa = 3, verbose = 1)"
   ]
  },
  {
   "cell_type": "code",
   "execution_count": 13,
   "id": "54aa2cea-4acc-4db4-a0a2-37f92b72f2cf",
   "metadata": {},
   "outputs": [
    {
     "name": "stdout",
     "output_type": "stream",
     "text": [
      "0.005\n"
     ]
    },
    {
     "name": "stderr",
     "output_type": "stream",
     "text": [
      "100%|██████████| 30/30 [01:19<00:00,  2.66s/it]\n"
     ]
    },
    {
     "data": {
      "image/png": "[encoded data removed]",
      "text/plain": [
       "<Figure size 432x288 with 1 Axes>"
      ]
     },
     "metadata": {
      "needs_background": "light"
     },
     "output_type": "display_data"
    },
    {
     "data": {
      "image/png": "[encoded data removed]",
      "text/plain": [
       "<Figure size 432x288 with 1 Axes>"
      ]
     },
     "metadata": {
      "needs_background": "light"
     },
     "output_type": "display_data"
    },
    {
     "name": "stdout",
     "output_type": "stream",
     "text": [
      "[1.0048881646865797, 1.0029922554975044, 1.002873860222596, 1.0024369627578635, 0.9997431317830359, 0.9979577961173987, 0.9976460000838467, 0.9970980897442528, 0.9966644422433568, 0.9964769997390998, 0.9963899888817562, 0.9962824234455303, 0.9961704762542318, 0.9961594186087929, 0.9957680521354644, 0.9957618528513761, 0.9951701125653314, 0.9944797416424207, 0.993933044866266, 0.993700777739297, 0.9935297748342495, 0.9928585399277895, 0.9921776427817336, 0.9911078484436912, 0.9900340211894118, 0.9896754285174247, 0.9894341519419355, 0.9889337573413997, 0.9884356888697733, 0.9872266918778518]\n"
     ]
    }
   ],
   "source": [
    "trial(30, n_iter = 30, init_points = 5, kappa = 3.7, verbose = 1)"
   ]
  },
  {
   "cell_type": "code",
   "execution_count": 14,
   "id": "1d138a05-2037-48f5-b9b1-032adfe8857c",
   "metadata": {},
   "outputs": [
    {
     "name": "stdout",
     "output_type": "stream",
     "text": [
      "0.005\n"
     ]
    },
    {
     "name": "stderr",
     "output_type": "stream",
     "text": [
      "100%|██████████| 30/30 [01:20<00:00,  2.69s/it]\n"
     ]
    },
    {
     "data": {
      "image/png": "[encoded data removed]",
      "text/plain": [
       "<Figure size 432x288 with 1 Axes>"
      ]
     },
     "metadata": {
      "needs_background": "light"
     },
     "output_type": "display_data"
    },
    {
     "data": {
      "image/png": "[encoded data removed]",
      "text/plain": [
       "<Figure size 432x288 with 1 Axes>"
      ]
     },
     "metadata": {
      "needs_background": "light"
     },
     "output_type": "display_data"
    },
    {
     "name": "stdout",
     "output_type": "stream",
     "text": [
      "[1.0099275651075061, 1.0057432407079239, 1.0031714074141276, 1.0028285787529923, 1.0026152207791652, 1.0016914624359692, 1.00031013983553, 0.9996494411183863, 0.9986770665152287, 0.9969277307566085, 0.9968141596813636, 0.996336737903061, 0.9957287682640532, 0.9941436079836427, 0.9938991442101162, 0.9927801253840202, 0.9925087780288895, 0.9924450274435312, 0.9918306154596769, 0.9914860220989694, 0.991344979220506, 0.9913035019404713, 0.9911666277669351, 0.9911577838235325, 0.9911365890342339, 0.9900532272172319, 0.9889288623218873, 0.9877587255908526, 0.9871933822065762, 0.9822398620051983]\n"
     ]
    }
   ],
   "source": [
    "trial(30, n_iter = 30, init_points = 5, kappa = 4.2, verbose = 1)"
   ]
  },
  {
   "cell_type": "code",
   "execution_count": 15,
   "id": "ee312365-fde1-4a6c-85aa-2e7fc003a39f",
   "metadata": {},
   "outputs": [
    {
     "name": "stdout",
     "output_type": "stream",
     "text": [
      "0.005\n"
     ]
    },
    {
     "name": "stderr",
     "output_type": "stream",
     "text": [
      "100%|██████████| 30/30 [01:20<00:00,  2.70s/it]\n"
     ]
    },
    {
     "data": {
      "image/png": "[encoded data removed]",
      "text/plain": [
       "<Figure size 432x288 with 1 Axes>"
      ]
     },
     "metadata": {
      "needs_background": "light"
     },
     "output_type": "display_data"
    },
    {
     "data": {
      "image/png": "[encoded data removed]",
      "text/plain": [
       "<Figure size 432x288 with 1 Axes>"
      ]
     },
     "metadata": {
      "needs_background": "light"
     },
     "output_type": "display_data"
    },
    {
     "name": "stdout",
     "output_type": "stream",
     "text": [
      "[1.002845496143244, 1.0003652682912207, 0.9981181859399981, 0.9977148677181087, 0.9967170052211959, 0.996322724474511, 0.9958723311851332, 0.9949221158611086, 0.994517539938718, 0.9945106246821662, 0.9944773642023491, 0.994319408487423, 0.9935273096349966, 0.9929989724649634, 0.9928331850304872, 0.9919169689871172, 0.9916141091588606, 0.9910507490832554, 0.9895429729944599, 0.9880299252317568, 0.9875220095190874, 0.9874742181975683, 0.9874377617748518, 0.9874251784310906, 0.9872578224555574, 0.9869105420069908, 0.9856624764225662, 0.9853672303131711, 0.9837846092369049, 0.983694691880906]\n"
     ]
    }
   ],
   "source": [
    "trial(30, n_iter = 30, init_points = 5, kappa = 4.5, verbose = 1)"
   ]
  },
  {
   "cell_type": "markdown",
   "id": "1e067ec5-9c7a-4c89-b8ea-ccf8fdb46aee",
   "metadata": {},
   "source": [
    "## Increase n_iter"
   ]
  },
  {
   "cell_type": "code",
   "execution_count": 16,
   "id": "ac5b06b2-7a7d-4785-b8e8-2d2cd6686531",
   "metadata": {},
   "outputs": [
    {
     "name": "stdout",
     "output_type": "stream",
     "text": [
      "0.005\n"
     ]
    },
    {
     "name": "stderr",
     "output_type": "stream",
     "text": [
      "100%|██████████| 30/30 [04:09<00:00,  8.33s/it]\n"
     ]
    },
    {
     "data": {
      "image/png": "[encoded data removed]",
      "text/plain": [
       "<Figure size 432x288 with 1 Axes>"
      ]
     },
     "metadata": {
      "needs_background": "light"
     },
     "output_type": "display_data"
    },
    {
     "data": {
      "image/png": "[encoded data removed]",
      "text/plain": [
       "<Figure size 432x288 with 1 Axes>"
      ]
     },
     "metadata": {
      "needs_background": "light"
     },
     "output_type": "display_data"
    },
    {
     "name": "stdout",
     "output_type": "stream",
     "text": [
      "[1.009293574262792, 1.00854108503846, 1.0081116780782353, 1.0073653585771458, 1.007308336493777, 1.0070796605675907, 1.0065207769763043, 1.0056238980182735, 1.005160058478698, 1.0044496722805714, 1.003857308497389, 1.0038032306274174, 1.0037887226217377, 1.0036328893939248, 1.0029714977042912, 1.0025183811028833, 1.0020936628954877, 1.001932230316866, 1.001930790520646, 1.001800519640485, 1.0014782367575785, 1.0014444229217077, 1.0013938859080505, 1.000831254078408, 1.0006156686199872, 1.0004218900180861, 0.9988406972230829, 0.9982766537864265, 0.9980892407415828, 0.9972994642454442]\n"
     ]
    }
   ],
   "source": [
    "trial(30, n_iter = 70, init_points = 5, kappa = 4.2, verbose = 1)"
   ]
  },
  {
   "cell_type": "code",
   "execution_count": 17,
   "id": "990649e2-6c4f-4136-9547-4fc86f5fc273",
   "metadata": {},
   "outputs": [
    {
     "name": "stdout",
     "output_type": "stream",
     "text": [
      "0.005\n"
     ]
    },
    {
     "name": "stderr",
     "output_type": "stream",
     "text": [
      "100%|██████████| 30/30 [04:13<00:00,  8.45s/it]\n"
     ]
    },
    {
     "data": {
      "image/png": "[encoded data removed]",
      "text/plain": [
       "<Figure size 432x288 with 1 Axes>"
      ]
     },
     "metadata": {
      "needs_background": "light"
     },
     "output_type": "display_data"
    },
    {
     "data": {
      "image/png": "[encoded data removed]",
      "text/plain": [
       "<Figure size 432x288 with 1 Axes>"
      ]
     },
     "metadata": {
      "needs_background": "light"
     },
     "output_type": "display_data"
    },
    {
     "name": "stdout",
     "output_type": "stream",
     "text": [
      "[1.0122385549118398, 1.0119465915401302, 1.0096966977720352, 1.008905075508967, 1.0088612013902272, 1.0086397049951552, 1.008136002043193, 1.0079193250155458, 1.007351400303183, 1.0072418881836172, 1.0071621294723168, 1.006529488897017, 1.0063399710984506, 1.006226174675893, 1.0055827571396603, 1.005454739684882, 1.0048662279793787, 1.0046184231942212, 1.0039759710297589, 1.0039423711758202, 1.0038993993608298, 1.0038227961776012, 1.0036740468306666, 1.0033662431549166, 1.0033395703268706, 1.0023953392763503, 1.0008931232611986, 1.0005222128422517, 0.9994321917441673, 0.997825126119587]\n"
     ]
    }
   ],
   "source": [
    "trial(30, n_iter = 70, init_points = 10, kappa = 4.2, verbose = 1)"
   ]
  },
  {
   "cell_type": "code",
   "execution_count": 18,
   "id": "2e3a4c11-f6d2-47e0-a630-5406f09afe52",
   "metadata": {},
   "outputs": [
    {
     "name": "stdout",
     "output_type": "stream",
     "text": [
      "0.005\n"
     ]
    },
    {
     "name": "stderr",
     "output_type": "stream",
     "text": [
      "100%|██████████| 30/30 [17:21<00:00, 34.72s/it] \n"
     ]
    },
    {
     "data": {
      "image/png": "[encoded data removed]",
      "text/plain": [
       "<Figure size 432x288 with 1 Axes>"
      ]
     },
     "metadata": {
      "needs_background": "light"
     },
     "output_type": "display_data"
    },
    {
     "data": {
      "image/png": "[encoded data removed]",
      "text/plain": [
       "<Figure size 432x288 with 1 Axes>"
      ]
     },
     "metadata": {
      "needs_background": "light"
     },
     "output_type": "display_data"
    },
    {
     "name": "stdout",
     "output_type": "stream",
     "text": [
      "[1.0089826652165388, 1.0078269633320995, 1.0070100890310352, 1.006813438290966, 1.00680001035499, 1.0066894756569846, 1.0065500675557248, 1.006224694779767, 1.00554872500367, 1.005107788502952, 1.004457127507752, 1.0044389330426935, 1.0034164868202742, 1.0033953130713134, 1.003304547654519, 1.00256644312149, 1.0019328937303102, 1.0018770691073249, 1.0018555230482664, 1.0018442233188143, 1.001165400863245, 1.0010130942226194, 1.0007535976824706, 1.0004242367609768, 1.0003104977998893, 1.0000285063205705, 1.0000100989492129, 0.9994977384362354, 0.9988042698896549, 0.9985207799495563]\n"
     ]
    }
   ],
   "source": [
    "trial(30, n_iter = 70, init_points = 5, kappa = 3.9, verbose = 1)"
   ]
  },
  {
   "cell_type": "markdown",
   "id": "6ac27470-334b-4a9f-8db8-5af7626ca208",
   "metadata": {},
   "source": [
    "# Try to decrease n_iter but do more trials. Fix kappa at 4.2"
   ]
  },
  {
   "cell_type": "code",
   "execution_count": 19,
   "id": "8b25e7a3-9459-4923-8ac1-2ed9a959ec1a",
   "metadata": {},
   "outputs": [
    {
     "name": "stdout",
     "output_type": "stream",
     "text": [
      "0.005\n"
     ]
    },
    {
     "name": "stderr",
     "output_type": "stream",
     "text": [
      "100%|██████████| 100/100 [16:15<00:00,  9.75s/it] \n"
     ]
    },
    {
     "data": {
      "image/png": "[encoded data removed]",
      "text/plain": [
       "<Figure size 432x288 with 1 Axes>"
      ]
     },
     "metadata": {
      "needs_background": "light"
     },
     "output_type": "display_data"
    },
    {
     "data": {
      "image/png": "[encoded data removed]",
      "text/plain": [
       "<Figure size 432x288 with 1 Axes>"
      ]
     },
     "metadata": {
      "needs_background": "light"
     },
     "output_type": "display_data"
    },
    {
     "name": "stdout",
     "output_type": "stream",
     "text": [
      "[0.9929722327915513, 0.9914993567628649, 0.9874754744072455, 0.9818312879942486, 0.9818032836564299, 0.9803936209937869, 0.9803545539936919, 0.9797571643773713, 0.9779856145629825, 0.9757335097450743, 0.9750621224342969, 0.9738929093604025, 0.9727706063578827, 0.9721919190870681, 0.9702713722826675, 0.9698364159627699, 0.9692075189543565, 0.9685272952777073, 0.9652060827910705, 0.9620969434551981, 0.9617717350735955, 0.9609786540867589, 0.9609160449711152, 0.9592278339378619, 0.9590209962861906, 0.9573243018088926, 0.957099390144514, 0.9547158626635077, 0.9545591730931141, 0.9536528756492069, 0.9533278341841079, 0.9513027318265548, 0.9504245706641448, 0.9494252806262522, 0.9492971134217422, 0.9478867524979436, 0.9407688150723967, 0.9404876862359139, 0.936343301825107, 0.9359041917796045, 0.9337057658851066, 0.9301692095607816, 0.9299600874180243, 0.9293691956384822, 0.9286818701266015, 0.9273732711102151, 0.9268433064210522, 0.9263461568486779, 0.9224224440988753, 0.9221517724341541, 0.9209653581417432, 0.9191670229685981, 0.9176034022687631, 0.9171522924255753, 0.9131197779761259, 0.9093934260765422, 0.9077992017502374, 0.9071257963040943, 0.9044426611829519, 0.9039924663989817, 0.9034772515460284, 0.9030079793486228, 0.9020863942051934, 0.900988072333367, 0.8984406942553266, 0.8954302545304945, 0.8949017064140019, 0.894619821683825, 0.8915928008613079, 0.8906027139877858, 0.8900913699334381, 0.8891170175395302, 0.8881382851376147, 0.8868791986314906, 0.8825914639875585, 0.8780324746221688, 0.8737180115843417, 0.8726541512352038, 0.8716132045066882, 0.8711526670022458, 0.8689171148660475, 0.8656162207808746, 0.8575818022499743, 0.8534912588394867, 0.8519602642081897, 0.8506751875397403, 0.8499157474907497, 0.8490743644585672, 0.8425572039064968, 0.835450738902477, 0.8308447239429283, 0.8199910458192067, 0.8155280980240602, 0.8155273057765157, 0.811005609628487, 0.7979998647636262, 0.7900894856025458, 0.7864958589977249, 0.7853959264128892, 0.745088672993282]\n"
     ]
    }
   ],
   "source": [
    "trial(100, n_iter = 10, init_points = 5, kappa = 4.2, verbose = 1)"
   ]
  },
  {
   "cell_type": "code",
   "execution_count": 20,
   "id": "8723032b-8807-4e88-924f-295d8a566ed6",
   "metadata": {},
   "outputs": [
    {
     "name": "stdout",
     "output_type": "stream",
     "text": [
      "0.005\n"
     ]
    },
    {
     "name": "stderr",
     "output_type": "stream",
     "text": [
      "100%|██████████| 100/100 [49:21<00:00, 29.62s/it]  \n"
     ]
    },
    {
     "data": {
      "image/png": "[encoded data removed]",
      "text/plain": [
       "<Figure size 432x288 with 1 Axes>"
      ]
     },
     "metadata": {
      "needs_background": "light"
     },
     "output_type": "display_data"
    },
    {
     "data": {
      "image/png": "[encoded data removed]",
      "text/plain": [
       "<Figure size 432x288 with 1 Axes>"
      ]
     },
     "metadata": {
      "needs_background": "light"
     },
     "output_type": "display_data"
    },
    {
     "name": "stdout",
     "output_type": "stream",
     "text": [
      "[1.0080909546510033, 1.0070153289602672, 1.00622651705912, 1.005699744770563, 1.0055357896397807, 1.005304494410228, 1.0052078195920826, 1.0051946226098187, 1.0049649310761979, 1.0048042373471815, 1.0046745883230148, 1.0045433451903238, 1.0043106405240785, 1.0041289800764366, 1.003640466107231, 1.0034783601072914, 1.0031536713974583, 1.0030506667577161, 1.0030455619968348, 1.002970425691048, 1.00296805966387, 1.002814611257397, 1.002689404496814, 1.0025248845105201, 1.0025152523478025, 1.0025057719472834, 1.002144844839386, 1.0020477639076404, 1.0020260214983079, 1.0020036217368604, 1.001889940427339, 1.0016182104443832, 1.00144246064671, 1.0014331450392675, 1.0012851606220674, 1.0012786654877628, 1.0008296505028595, 1.0006674108662466, 1.0004948220496042, 1.0001907970886896, 1.0000381741148683, 0.9997487917414005, 0.9996875550796518, 0.9996306847425719, 0.9994844039956924, 0.9993922807341254, 0.9992485712615449, 0.9990946198056755, 0.9990683150280854, 0.9989366129544824, 0.9988186311408953, 0.998714935086046, 0.9985489285292988, 0.9984943599459829, 0.9984689789387315, 0.9983893077767093, 0.998367594635848, 0.99834387740278, 0.9983266798405099, 0.9981988265222413, 0.9981905630038859, 0.9980005122545176, 0.9979926506964261, 0.997888413888061, 0.9978848266187286, 0.9977501461745257, 0.9976242793131659, 0.9975683546277674, 0.9975459776928197, 0.9974858061206078, 0.9973912998262452, 0.9973743658341336, 0.9972379230713073, 0.9971067479786873, 0.9969671962388439, 0.996279176930274, 0.9955941784878628, 0.9955736602126479, 0.995195240317106, 0.9949308268111483, 0.9947874369321479, 0.9947461045378783, 0.9947120915669321, 0.9947080729909505, 0.9943369991526274, 0.9940066956368929, 0.993966487213134, 0.9932066513271811, 0.9932049246681562, 0.9931994317981879, 0.9931968694982646, 0.9931050764538449, 0.9929424622957023, 0.9929325939018707, 0.9927636483725887, 0.9907968528876843, 0.9907788464428835, 0.9906120588281404, 0.9904240171038083, 0.9882078713119488]\n"
     ]
    }
   ],
   "source": [
    "trial(100, n_iter = 20, init_points = 5, kappa = 2.3, verbose = 1)"
   ]
  },
  {
   "cell_type": "code",
   "execution_count": 21,
   "id": "8ce8161a-3beb-4d3c-9bd7-2f0ab78369bd",
   "metadata": {},
   "outputs": [
    {
     "name": "stdout",
     "output_type": "stream",
     "text": [
      "0.005\n"
     ]
    },
    {
     "name": "stderr",
     "output_type": "stream",
     "text": [
      "100%|██████████| 100/100 [1:01:22<00:00, 36.83s/it]\n"
     ]
    },
    {
     "data": {
      "image/png": "[encoded data removed]",
      "text/plain": [
       "<Figure size 432x288 with 1 Axes>"
      ]
     },
     "metadata": {
      "needs_background": "light"
     },
     "output_type": "display_data"
    },
    {
     "data": {
      "image/png": "[encoded data removed]",
      "text/plain": [
       "<Figure size 432x288 with 1 Axes>"
      ]
     },
     "metadata": {
      "needs_background": "light"
     },
     "output_type": "display_data"
    },
    {
     "name": "stdout",
     "output_type": "stream",
     "text": [
      "[1.006434459358759, 1.005537595176266, 1.0050746533452992, 1.003788011260399, 1.003160182804496, 1.0025953046127496, 1.0021115551973916, 1.001798893174795, 1.0017656962615422, 1.0016992357869494, 1.0011535991702631, 1.0008921403293565, 1.0007593815618487, 1.000227083380669, 1.0000874063081016, 0.9999476339087682, 0.9998735160924646, 0.9997826040664639, 0.9996360891665744, 0.9995908162250728, 0.9991285461613233, 0.9987778214172848, 0.9987418695317455, 0.9986030678186482, 0.9984196847560289, 0.9982555888087598, 0.9982481563567625, 0.9981292648193024, 0.9981186938596698, 0.9978188564827901, 0.997808859996711, 0.9978050005996693, 0.9977458644268049, 0.9973811431331477, 0.9973708363812048, 0.997217008408601, 0.9970129978819287, 0.996895800696667, 0.9968668807253371, 0.9968402510440484, 0.9968329013131598, 0.9967110402597659, 0.996643590755654, 0.9961947351519003, 0.9960774558036163, 0.9958150485569617, 0.9957777646490997, 0.995731156740502, 0.9955674105542153, 0.9946011669177659, 0.994593428106824, 0.9945472235647371, 0.994545226772003, 0.9943722653014813, 0.9943625453329695, 0.9943171743323067, 0.9941225587165358, 0.9940004612166708, 0.9935050243757455, 0.9934635508678662, 0.9932400590525954, 0.993236497204917, 0.9931009643653957, 0.9930500603367356, 0.9930398542785817, 0.9930351098849413, 0.9928989910418664, 0.9925490696804762, 0.99242437838241, 0.9922873722789343, 0.992202960836156, 0.9917393833511456, 0.9917347910687734, 0.991625060990756, 0.9914587732969423, 0.9912378439380429, 0.9912159472039468, 0.9911965718474297, 0.9911437195880239, 0.9906875823740117, 0.9906007311174594, 0.9904013382740857, 0.9902260412989153, 0.989375661821245, 0.9893671582308708, 0.9893014279715447, 0.9891720116442979, 0.9889580170952401, 0.9886058245492146, 0.9885851256333309, 0.988436591363572, 0.9883682944494517, 0.9883385554601498, 0.9880104407115138, 0.9879921515104915, 0.9874329601132852, 0.9870957311354942, 0.9867806980674325, 0.9849823785054963, 0.9838668621979596]\n"
     ]
    }
   ],
   "source": [
    "trial(100, n_iter = 30, init_points = 5, kappa = 4.2, verbose = 1)"
   ]
  },
  {
   "cell_type": "code",
   "execution_count": 22,
   "id": "1a6ea4c0-b3fc-47c6-98c0-e96831811bd0",
   "metadata": {},
   "outputs": [
    {
     "name": "stdout",
     "output_type": "stream",
     "text": [
      "0.005\n"
     ]
    },
    {
     "name": "stderr",
     "output_type": "stream",
     "text": [
      "100%|██████████| 100/100 [1:38:15<00:00, 58.95s/it]  \n"
     ]
    },
    {
     "data": {
      "image/png": "[encoded data removed]",
      "text/plain": [
       "<Figure size 432x288 with 1 Axes>"
      ]
     },
     "metadata": {
      "needs_background": "light"
     },
     "output_type": "display_data"
    },
    {
     "data": {
      "image/png": "[encoded data removed]",
      "text/plain": [
       "<Figure size 432x288 with 1 Axes>"
      ]
     },
     "metadata": {
      "needs_background": "light"
     },
     "output_type": "display_data"
    },
    {
     "name": "stdout",
     "output_type": "stream",
     "text": [
      "[1.0074335796649376, 1.0066761965774793, 1.005442455007923, 1.0045916192817286, 1.0036223397017885, 1.003280400213643, 1.0031280370491062, 1.0028029457416143, 1.002396541453467, 1.001773966023372, 1.0016015816553456, 1.0008708892900864, 1.0007697870725498, 1.0007334225694222, 1.0004587921055197, 1.0004359202135573, 1.0003281820242629, 0.9999351288125151, 0.9998532463783529, 0.9997712705971518, 0.9993754275046787, 0.9993674803456585, 0.9992587969913796, 0.9990428966361248, 0.9988979007502891, 0.9986098739323124, 0.9982167387081532, 0.9981641287402772, 0.998157040898865, 0.998053668331953, 0.99784090922202, 0.9977803353015677, 0.9974960888222992, 0.9974724650240281, 0.9973325212142988, 0.9972865087932961, 0.9972382732679044, 0.9971395391273858, 0.9970732201440959, 0.996943755440618, 0.9968912702812438, 0.996883200374368, 0.9967745517539978, 0.9964531299992194, 0.9963006549736956, 0.9962766133433174, 0.996247080280264, 0.9961872852428211, 0.9961053734949346, 0.9960923595328742, 0.9960459950951351, 0.9958982773490799, 0.9957488235146459, 0.9955204032507752, 0.9955109205671828, 0.9954343191057851, 0.9954142877975943, 0.9953785865954399, 0.9953547625727208, 0.9952469545948199, 0.9952375210462652, 0.9948448633288318, 0.9947840701263289, 0.9946216567218813, 0.994586118849021, 0.994397688169498, 0.9942261458920783, 0.9942089712161625, 0.9941784361749655, 0.9939356941865796, 0.9939143035651656, 0.9937017513872903, 0.993670708020854, 0.9935103731272936, 0.993463056743741, 0.9934228639817557, 0.9933220100344582, 0.9931123426047963, 0.9930316700781758, 0.9927071423810971, 0.9924884345213735, 0.9924636005246216, 0.9924370959988336, 0.9923167947935883, 0.9920497418724041, 0.9918350746561155, 0.9914735392581848, 0.9907722897431183, 0.9906906899415313, 0.9889007450765885, 0.9888060468965543, 0.9883163966816368, 0.9880927968273174, 0.9877054373075416, 0.9876518627633285, 0.9875649993082072, 0.9875029672658742, 0.9874882355582222, 0.9874605752238359, 0.9873496624325362]\n"
     ]
    }
   ],
   "source": [
    "trial(100, n_iter = 40, init_points = 5, kappa = 4.2, verbose = 1)"
   ]
  },
  {
   "cell_type": "markdown",
   "id": "262b440c-add3-4c74-be1d-92970d5d94e9",
   "metadata": {},
   "source": [
    "# Best parameters: kappa = 4.2, n_iter = 40"
   ]
  },
  {
   "cell_type": "code",
   "execution_count": 23,
   "id": "443c3cd3-4122-46ef-9588-a73013e58ee0",
   "metadata": {},
   "outputs": [
    {
     "ename": "SyntaxError",
     "evalue": "invalid syntax (<ipython-input-23-379e0b5c32fa>, line 11)",
     "output_type": "error",
     "traceback": [
      "\u001b[0;36m  File \u001b[0;32m\"<ipython-input-23-379e0b5c32fa>\"\u001b[0;36m, line \u001b[0;32m11\u001b[0m\n\u001b[0;31m    venus.\u001b[0m\n\u001b[0m          ^\u001b[0m\n\u001b[0;31mSyntaxError\u001b[0m\u001b[0;31m:\u001b[0m invalid syntax\n"
     ]
    }
   ],
   "source": [
    "# Define the black box function to optimize.\n",
    "def black_box_function(A, B, C):\n",
    "    # C: SVC hyper parameter to optimize for.\n",
    "    venus.set_mag_currents(A, B, C)\n",
    "    v = venus.get_beam_current()\n",
    "    return v\n",
    "\n",
    "pbounds = {\"A\": [175, 185], \"B\": [145, 155], \"C\": [135, 145]}\n",
    "\n",
    "def venus_opt(venus:Venus):\n",
    "    venus.\n",
    "venus_opt(1)"
   ]
  },
  {
   "cell_type": "code",
   "execution_count": null,
   "id": "e2b44010-91f5-46ac-893d-e8693e4b519e",
   "metadata": {},
   "outputs": [],
   "source": [
    "# TODO: guide optimization to known good points\n",
    "# TODO: modify the loss function to have larger differences between global min and local min\n",
    "# TODO: find a way to set halting condition or use a different library"
   ]
  },
  {
   "cell_type": "code",
   "execution_count": null,
   "id": "025bef17-311f-40f3-819d-68a9f45a64eb",
   "metadata": {},
   "outputs": [],
   "source": [
    "# unused. Potentially for future tests\n",
    "# from deap import benchmarks\n",
    "\n",
    "# def ackley_arg0(sol):\n",
    "#     return benchmarks.ackley(sol)[0]"
   ]
  },
  {
   "cell_type": "code",
   "execution_count": null,
   "id": "9d43af8d-8583-4e72-be03-e944eb6f2e06",
   "metadata": {},
   "outputs": [],
   "source": [
    "# ackley_arg0((0,0,0))"
   ]
  },
  {
   "cell_type": "code",
   "execution_count": null,
   "id": "486c7f39-5b6c-4034-bdda-7c2b104cc985",
   "metadata": {},
   "outputs": [],
   "source": [
    "# Global min: (182.5, 151.7, 140.0) value\n",
    "# TODO: use get current function\n",
    "# scikit optimization\n",
    "# skopt2"
   ]
  },
  {
   "cell_type": "code",
   "execution_count": null,
   "id": "fa6ec86d-a20e-4b1c-9633-6dac10b8bd93",
   "metadata": {},
   "outputs": [],
   "source": []
  },
  {
   "cell_type": "code",
   "execution_count": null,
   "id": "819cc73a-413d-4179-9b19-afb4f0463937",
   "metadata": {},
   "outputs": [],
   "source": []
  }
 ],
 "metadata": {
  "kernelspec": {
   "display_name": "Python 3",
   "language": "python",
   "name": "python3"
  },
  "language_info": {
   "codemirror_mode": {
    "name": "ipython",
    "version": 3
   },
   "file_extension": ".py",
   "mimetype": "text/x-python",
   "name": "python",
   "nbconvert_exporter": "python",
   "pygments_lexer": "ipython3",
   "version": "3.8.8"
  }
 },
 "nbformat": 4,
 "nbformat_minor": 5
}

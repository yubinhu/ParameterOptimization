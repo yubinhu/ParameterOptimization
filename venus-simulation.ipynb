{
 "cells": [
  {
   "cell_type": "code",
   "execution_count": 1,
   "id": "fcabbe6f",
   "metadata": {},
   "outputs": [],
   "source": [
    "%matplotlib inline\n",
    "\n",
    "import numpy as np\n",
    "from tqdm import tqdm"
   ]
  },
  {
   "cell_type": "code",
   "execution_count": 5,
   "id": "f95baeb2",
   "metadata": {},
   "outputs": [],
   "source": [
    "class Venus:\n",
    "    \n",
    "    def __init__(\n",
    "        self,\n",
    "        inj_limits=[175, 185],\n",
    "        mid_limits=[145, 155],\n",
    "        ext_limits=[135, 145],\n",
    "        beam_range=[0.50, 1.00],\n",
    "        jitter=0\n",
    "    ):\n",
    "        \"\"\"The limits on the magnetic solenoids currents and the beam range (ouput).\n",
    "        A random jitter can be added also (fraction of 1.).\"\"\"\n",
    "        self.inj_limits = inj_limits\n",
    "        self.mid_limits = mid_limits\n",
    "        self.ext_limits = ext_limits\n",
    "        self.beam_range = beam_range\n",
    "        self.currents = np.zeros(3)\n",
    "        self.jitter = jitter\n",
    "        self.rng = np.random.default_rng(42)\n",
    "\n",
    "    def set_mag_currents(self, inj, mid, ext):\n",
    "        \"\"\"Set the magnetic currents on the coils.\"\"\"\n",
    "        for v, lim in zip([inj, mid, ext], [self.inj_limits, self.mid_limits, self.ext_limits]):\n",
    "            if v < lim[0] or v > lim[1]:\n",
    "                raise ValueError(\"Setting outside limits\")\n",
    "        self.currents = np.array([inj, mid, ext])\n",
    "\n",
    "    def _rescale_inputs(self, inputs):\n",
    "        \"\"\"input to himmelblau4 must be in [-6, 6].\"\"\"\n",
    "        return (\n",
    "            (c - l[0]) * 12.0 / (l[1] - l[0]) - 6.0\n",
    "            for c, l in zip(inputs, [self.inj_limits, self.mid_limits, self.ext_limits])\n",
    "        )\n",
    "\n",
    "    def _rescale_output(self, output):\n",
    "        \"\"\"simple square returns values betwen 0 and 27 for w, x, y, z in [-6, 6].\"\"\"\n",
    "        return (\n",
    "            (1. - (output / 27.0) + self.rng.normal(0.0, self.jitter)) *\n",
    "            (self.beam_range[1] - self.beam_range[0]) + self.beam_range[0]\n",
    "        )\n",
    "    \n",
    "    def get_noise_level(self):\n",
    "        # return std of the noise\n",
    "        noise = self.jitter*(self.beam_range[1] - self.beam_range[0])\n",
    "        return noise\n",
    "\n",
    "    def get_beam_current(self):\n",
    "        \"\"\"Read the current value of the beam current\"\"\"\n",
    "        return self._rescale_output(self._simple_square(*self._rescale_inputs(self.currents)))\n",
    "\n",
    "    @staticmethod\n",
    "    def _simple_square(w, x, y):\n",
    "        \"\"\"A not so funky 3 dimensional parameter space with a single minima.\"\"\"\n",
    "        return (\n",
    "            (w - 3.)**2 + (x - 3.)**2 + (y - 3.)**2\n",
    "        )"
   ]
  },
  {
   "cell_type": "markdown",
   "id": "11120a9a",
   "metadata": {},
   "source": [
    "create a venus object, defaults might be refined by values from Damon. For simpler algorithm the jitter can be set to 0 initially but it should work with a value larger than that in the end."
   ]
  },
  {
   "cell_type": "code",
   "execution_count": 6,
   "id": "e2fbb622",
   "metadata": {},
   "outputs": [],
   "source": [
    "venus = Venus(jitter=0.01)"
   ]
  },
  {
   "cell_type": "markdown",
   "id": "9a1c49e2",
   "metadata": {},
   "source": [
    "set the currents and read the beam value"
   ]
  },
  {
   "cell_type": "code",
   "execution_count": 7,
   "id": "182df4b0",
   "metadata": {},
   "outputs": [
    {
     "name": "stdout",
     "output_type": "stream",
     "text": [
      "0.5015235853987722\n"
     ]
    }
   ],
   "source": [
    "venus.set_mag_currents(185, 155, 145)\n",
    "bc = venus.get_beam_current()\n",
    "print(bc)"
   ]
  },
  {
   "cell_type": "markdown",
   "id": "08ad2af8",
   "metadata": {},
   "source": [
    "if currents are outside the range a `ValueError` is raised and can be captured."
   ]
  },
  {
   "cell_type": "code",
   "execution_count": 8,
   "id": "7d180c10",
   "metadata": {},
   "outputs": [
    {
     "ename": "ValueError",
     "evalue": "Setting outside limits",
     "output_type": "error",
     "traceback": [
      "\u001b[0;31m---------------------------------------------------------------------------\u001b[0m",
      "\u001b[0;31mValueError\u001b[0m                                Traceback (most recent call last)",
      "Input \u001b[0;32mIn [8]\u001b[0m, in \u001b[0;36m<module>\u001b[0;34m\u001b[0m\n\u001b[0;32m----> 1\u001b[0m \u001b[43mvenus\u001b[49m\u001b[38;5;241;43m.\u001b[39;49m\u001b[43mset_mag_currents\u001b[49m\u001b[43m(\u001b[49m\u001b[38;5;241;43m50\u001b[39;49m\u001b[43m,\u001b[49m\u001b[43m \u001b[49m\u001b[38;5;241;43m200\u001b[39;49m\u001b[43m,\u001b[49m\u001b[43m \u001b[49m\u001b[38;5;241;43m200\u001b[39;49m\u001b[43m)\u001b[49m\n",
      "Input \u001b[0;32mIn [5]\u001b[0m, in \u001b[0;36mVenus.set_mag_currents\u001b[0;34m(self, inj, mid, ext)\u001b[0m\n\u001b[1;32m     23\u001b[0m \u001b[38;5;28;01mfor\u001b[39;00m v, lim \u001b[38;5;129;01min\u001b[39;00m \u001b[38;5;28mzip\u001b[39m([inj, mid, ext], [\u001b[38;5;28mself\u001b[39m\u001b[38;5;241m.\u001b[39minj_limits, \u001b[38;5;28mself\u001b[39m\u001b[38;5;241m.\u001b[39mmid_limits, \u001b[38;5;28mself\u001b[39m\u001b[38;5;241m.\u001b[39mext_limits]):\n\u001b[1;32m     24\u001b[0m     \u001b[38;5;28;01mif\u001b[39;00m v \u001b[38;5;241m<\u001b[39m lim[\u001b[38;5;241m0\u001b[39m] \u001b[38;5;129;01mor\u001b[39;00m v \u001b[38;5;241m>\u001b[39m lim[\u001b[38;5;241m1\u001b[39m]:\n\u001b[0;32m---> 25\u001b[0m         \u001b[38;5;28;01mraise\u001b[39;00m \u001b[38;5;167;01mValueError\u001b[39;00m(\u001b[38;5;124m\"\u001b[39m\u001b[38;5;124mSetting outside limits\u001b[39m\u001b[38;5;124m\"\u001b[39m)\n\u001b[1;32m     26\u001b[0m \u001b[38;5;28mself\u001b[39m\u001b[38;5;241m.\u001b[39mcurrents \u001b[38;5;241m=\u001b[39m np\u001b[38;5;241m.\u001b[39marray([inj, mid, ext])\n",
      "\u001b[0;31mValueError\u001b[0m: Setting outside limits"
     ]
    }
   ],
   "source": [
    "venus.set_mag_currents(50, 200, 200)"
   ]
  },
  {
   "cell_type": "code",
   "execution_count": null,
   "id": "d7ec7545",
   "metadata": {},
   "outputs": [],
   "source": [
    "venus._himmelblau4(6, 6, 6)"
   ]
  },
  {
   "cell_type": "markdown",
   "id": "193aacdc-9109-4165-abe8-a160bfc1830d",
   "metadata": {},
   "source": [
    "# Bayesian Optimization"
   ]
  },
  {
   "cell_type": "code",
   "execution_count": 12,
   "id": "e9c59706",
   "metadata": {},
   "outputs": [
    {
     "name": "stdout",
     "output_type": "stream",
     "text": [
      "|   iter    |  target   |     A     |     B     |     C     |\n",
      "-------------------------------------------------------------\n",
      "| \u001b[0m 1       \u001b[0m | \u001b[0m 0.5111  \u001b[0m | \u001b[0m 178.8   \u001b[0m | \u001b[0m 153.6   \u001b[0m | \u001b[0m 144.4   \u001b[0m |\n",
      "| \u001b[95m 2       \u001b[0m | \u001b[95m 0.9005  \u001b[0m | \u001b[95m 182.0   \u001b[0m | \u001b[95m 151.3   \u001b[0m | \u001b[95m 141.1   \u001b[0m |\n",
      "| \u001b[0m 3       \u001b[0m | \u001b[0m-0.8003  \u001b[0m | \u001b[0m 177.0   \u001b[0m | \u001b[0m 148.9   \u001b[0m | \u001b[0m 137.6   \u001b[0m |\n",
      "| \u001b[0m 4       \u001b[0m | \u001b[0m-1.07    \u001b[0m | \u001b[0m 175.7   \u001b[0m | \u001b[0m 147.8   \u001b[0m | \u001b[0m 139.4   \u001b[0m |\n",
      "| \u001b[0m 5       \u001b[0m | \u001b[0m 0.6361  \u001b[0m | \u001b[0m 179.8   \u001b[0m | \u001b[0m 153.7   \u001b[0m | \u001b[0m 140.3   \u001b[0m |\n",
      "| \u001b[0m 6       \u001b[0m | \u001b[0m 0.6471  \u001b[0m | \u001b[0m 185.0   \u001b[0m | \u001b[0m 155.0   \u001b[0m | \u001b[0m 143.2   \u001b[0m |\n",
      "| \u001b[0m 7       \u001b[0m | \u001b[0m-0.8199  \u001b[0m | \u001b[0m 185.0   \u001b[0m | \u001b[0m 155.0   \u001b[0m | \u001b[0m 135.0   \u001b[0m |\n",
      "| \u001b[0m 8       \u001b[0m | \u001b[0m 0.3839  \u001b[0m | \u001b[0m 185.0   \u001b[0m | \u001b[0m 149.2   \u001b[0m | \u001b[0m 145.0   \u001b[0m |\n",
      "| \u001b[0m 9       \u001b[0m | \u001b[0m-0.8984  \u001b[0m | \u001b[0m 185.0   \u001b[0m | \u001b[0m 145.0   \u001b[0m | \u001b[0m 139.6   \u001b[0m |\n",
      "| \u001b[0m 10      \u001b[0m | \u001b[0m 0.8285  \u001b[0m | \u001b[0m 182.6   \u001b[0m | \u001b[0m 152.8   \u001b[0m | \u001b[0m 145.0   \u001b[0m |\n",
      "| \u001b[0m 11      \u001b[0m | \u001b[0m 0.8249  \u001b[0m | \u001b[0m 181.8   \u001b[0m | \u001b[0m 155.0   \u001b[0m | \u001b[0m 142.5   \u001b[0m |\n",
      "| \u001b[95m 12      \u001b[0m | \u001b[95m 0.974   \u001b[0m | \u001b[95m 183.4   \u001b[0m | \u001b[95m 152.5   \u001b[0m | \u001b[95m 142.3   \u001b[0m |\n",
      "| \u001b[0m 13      \u001b[0m | \u001b[0m 0.943   \u001b[0m | \u001b[0m 181.5   \u001b[0m | \u001b[0m 151.6   \u001b[0m | \u001b[0m 143.2   \u001b[0m |\n",
      "| \u001b[0m 14      \u001b[0m | \u001b[0m-2.171   \u001b[0m | \u001b[0m 175.0   \u001b[0m | \u001b[0m 155.0   \u001b[0m | \u001b[0m 135.0   \u001b[0m |\n",
      "| \u001b[0m 15      \u001b[0m | \u001b[0m 0.385   \u001b[0m | \u001b[0m 180.2   \u001b[0m | \u001b[0m 149.1   \u001b[0m | \u001b[0m 145.0   \u001b[0m |\n",
      "| \u001b[0m 16      \u001b[0m | \u001b[0m 0.6613  \u001b[0m | \u001b[0m 182.4   \u001b[0m | \u001b[0m 155.0   \u001b[0m | \u001b[0m 145.0   \u001b[0m |\n",
      "| \u001b[95m 17      \u001b[0m | \u001b[95m 0.9882  \u001b[0m | \u001b[95m 182.2   \u001b[0m | \u001b[95m 153.0   \u001b[0m | \u001b[95m 142.3   \u001b[0m |\n",
      "| \u001b[95m 18      \u001b[0m | \u001b[95m 0.9944  \u001b[0m | \u001b[95m 182.0   \u001b[0m | \u001b[95m 152.8   \u001b[0m | \u001b[95m 142.5   \u001b[0m |\n",
      "| \u001b[0m 19      \u001b[0m | \u001b[0m 0.8885  \u001b[0m | \u001b[0m 184.3   \u001b[0m | \u001b[0m 152.4   \u001b[0m | \u001b[0m 141.7   \u001b[0m |\n",
      "| \u001b[0m 20      \u001b[0m | \u001b[0m 0.9581  \u001b[0m | \u001b[0m 182.5   \u001b[0m | \u001b[0m 153.4   \u001b[0m | \u001b[0m 141.6   \u001b[0m |\n",
      "| \u001b[0m 21      \u001b[0m | \u001b[0m 0.6633  \u001b[0m | \u001b[0m 185.0   \u001b[0m | \u001b[0m 152.9   \u001b[0m | \u001b[0m 145.0   \u001b[0m |\n",
      "| \u001b[0m 22      \u001b[0m | \u001b[0m 0.9882  \u001b[0m | \u001b[0m 182.0   \u001b[0m | \u001b[0m 152.4   \u001b[0m | \u001b[0m 142.8   \u001b[0m |\n",
      "| \u001b[0m 23      \u001b[0m | \u001b[0m 0.9835  \u001b[0m | \u001b[0m 181.9   \u001b[0m | \u001b[0m 152.6   \u001b[0m | \u001b[0m 142.7   \u001b[0m |\n",
      "| \u001b[0m 24      \u001b[0m | \u001b[0m 0.9901  \u001b[0m | \u001b[0m 182.8   \u001b[0m | \u001b[0m 152.0   \u001b[0m | \u001b[0m 142.8   \u001b[0m |\n",
      "| \u001b[0m 25      \u001b[0m | \u001b[0m 0.9563  \u001b[0m | \u001b[0m 182.6   \u001b[0m | \u001b[0m 153.4   \u001b[0m | \u001b[0m 141.6   \u001b[0m |\n",
      "| \u001b[0m 26      \u001b[0m | \u001b[0m 0.9676  \u001b[0m | \u001b[0m 181.4   \u001b[0m | \u001b[0m 152.6   \u001b[0m | \u001b[0m 142.4   \u001b[0m |\n",
      "| \u001b[0m 27      \u001b[0m | \u001b[0m 0.9915  \u001b[0m | \u001b[0m 182.7   \u001b[0m | \u001b[0m 152.7   \u001b[0m | \u001b[0m 143.0   \u001b[0m |\n",
      "| \u001b[0m 28      \u001b[0m | \u001b[0m 0.9899  \u001b[0m | \u001b[0m 182.6   \u001b[0m | \u001b[0m 151.7   \u001b[0m | \u001b[0m 142.2   \u001b[0m |\n",
      "| \u001b[0m 29      \u001b[0m | \u001b[0m 0.975   \u001b[0m | \u001b[0m 181.9   \u001b[0m | \u001b[0m 153.2   \u001b[0m | \u001b[0m 142.5   \u001b[0m |\n",
      "| \u001b[0m 30      \u001b[0m | \u001b[0m 0.9582  \u001b[0m | \u001b[0m 182.5   \u001b[0m | \u001b[0m 152.7   \u001b[0m | \u001b[0m 141.3   \u001b[0m |\n",
      "| \u001b[0m 31      \u001b[0m | \u001b[0m 0.9896  \u001b[0m | \u001b[0m 182.9   \u001b[0m | \u001b[0m 152.3   \u001b[0m | \u001b[0m 143.0   \u001b[0m |\n",
      "| \u001b[0m 32      \u001b[0m | \u001b[0m 0.9656  \u001b[0m | \u001b[0m 181.4   \u001b[0m | \u001b[0m 152.3   \u001b[0m | \u001b[0m 142.2   \u001b[0m |\n",
      "| \u001b[0m 33      \u001b[0m | \u001b[0m 0.9881  \u001b[0m | \u001b[0m 182.7   \u001b[0m | \u001b[0m 153.3   \u001b[0m | \u001b[0m 142.5   \u001b[0m |\n",
      "| \u001b[0m 34      \u001b[0m | \u001b[0m 0.9876  \u001b[0m | \u001b[0m 182.8   \u001b[0m | \u001b[0m 151.8   \u001b[0m | \u001b[0m 142.6   \u001b[0m |\n",
      "| \u001b[0m 35      \u001b[0m | \u001b[0m 0.9746  \u001b[0m | \u001b[0m 182.4   \u001b[0m | \u001b[0m 152.7   \u001b[0m | \u001b[0m 141.5   \u001b[0m |\n",
      "| \u001b[0m 36      \u001b[0m | \u001b[0m 0.9846  \u001b[0m | \u001b[0m 181.8   \u001b[0m | \u001b[0m 153.0   \u001b[0m | \u001b[0m 142.8   \u001b[0m |\n",
      "| \u001b[0m 37      \u001b[0m | \u001b[0m 0.9827  \u001b[0m | \u001b[0m 182.9   \u001b[0m | \u001b[0m 152.9   \u001b[0m | \u001b[0m 142.8   \u001b[0m |\n",
      "| \u001b[0m 38      \u001b[0m | \u001b[0m 0.9695  \u001b[0m | \u001b[0m 181.6   \u001b[0m | \u001b[0m 152.2   \u001b[0m | \u001b[0m 142.1   \u001b[0m |\n",
      "| \u001b[0m 39      \u001b[0m | \u001b[0m 0.9814  \u001b[0m | \u001b[0m 182.8   \u001b[0m | \u001b[0m 151.9   \u001b[0m | \u001b[0m 142.8   \u001b[0m |\n",
      "| \u001b[0m 40      \u001b[0m | \u001b[0m 0.9737  \u001b[0m | \u001b[0m 182.6   \u001b[0m | \u001b[0m 153.3   \u001b[0m | \u001b[0m 142.0   \u001b[0m |\n",
      "| \u001b[0m 41      \u001b[0m | \u001b[0m 0.9677  \u001b[0m | \u001b[0m 181.6   \u001b[0m | \u001b[0m 152.9   \u001b[0m | \u001b[0m 142.6   \u001b[0m |\n",
      "| \u001b[0m 42      \u001b[0m | \u001b[0m 0.9829  \u001b[0m | \u001b[0m 182.5   \u001b[0m | \u001b[0m 152.2   \u001b[0m | \u001b[0m 141.7   \u001b[0m |\n",
      "| \u001b[0m 43      \u001b[0m | \u001b[0m 0.9902  \u001b[0m | \u001b[0m 182.8   \u001b[0m | \u001b[0m 152.7   \u001b[0m | \u001b[0m 142.9   \u001b[0m |\n",
      "| \u001b[0m 44      \u001b[0m | \u001b[0m 0.9711  \u001b[0m | \u001b[0m 181.8   \u001b[0m | \u001b[0m 152.3   \u001b[0m | \u001b[0m 142.0   \u001b[0m |\n",
      "| \u001b[0m 45      \u001b[0m | \u001b[0m 0.9813  \u001b[0m | \u001b[0m 182.5   \u001b[0m | \u001b[0m 152.1   \u001b[0m | \u001b[0m 143.1   \u001b[0m |\n",
      "=============================================================\n",
      "Best result: {'A': 181.96502827912053, 'B': 152.78188184138259, 'C': 142.5442170302556}; f(x) = 0.9943986804097775.\n"
     ]
    }
   ],
   "source": [
    "import matplotlib.pyplot as plt\n",
    "\n",
    "from bayes_opt import BayesianOptimization, UtilityFunction\n",
    "import warnings\n",
    "warnings.filterwarnings(\"ignore\")\n",
    "\n",
    "# Define the black box function to optimize.\n",
    "def black_box_function(A, B, C):\n",
    "    # C: SVC hyper parameter to optimize for.\n",
    "    venus.set_mag_currents(A, B, C)\n",
    "    v = venus.get_beam_current()\n",
    "    return v\n",
    "\n",
    "# Set range of C to optimize for.\n",
    "# bayes_opt requires this to be a dictionary.\n",
    "pbounds = {\"A\": [175, 185], \"B\": [145, 155], \"C\": [135, 145]}\n",
    "# Create a BayesianOptimization optimizer,\n",
    "# and optimize the given black_box_function.\n",
    "optimizer = BayesianOptimization(f = black_box_function,\n",
    "                                 pbounds = pbounds, verbose = 2,\n",
    "                                 random_state = 38)\n",
    "optimizer.maximize(init_points = 5, n_iter = 40, kappa=2.3, alpha=0.05)\n",
    "print(\"Best result: {}; f(x) = {}.\".format(optimizer.max[\"params\"], optimizer.max[\"target\"]))"
   ]
  },
  {
   "cell_type": "code",
   "execution_count": 13,
   "id": "940a04dc-f4b7-4719-beab-cb11dff501a2",
   "metadata": {},
   "outputs": [],
   "source": [
    "import random\n",
    "# try a certain times and see how many converges\n",
    "def trial(N, n_iter = 15, init_points = 5, kappa = 3, verbose = 0, rand_adder = 0):\n",
    "    # higher kappa prefers exploration\n",
    "    # initial points are randomly chosen within bounds\n",
    "    # rand_adder is to make sure we probe some different randstates in each trial\n",
    "    # rand_adder = random.randint(1,1000)\n",
    "    results = []\n",
    "    coords = []\n",
    "    pbounds = {\"A\": (175, 185), \"B\": (145, 155), \"C\": (135, 145)}\n",
    "    noise = max(venus.get_noise_level(), 1e-5)\n",
    "    print(noise)\n",
    "\n",
    "    for i in tqdm(range(N)):\n",
    "        # Create a BayesianOptimization optimizer,\n",
    "        # and optimize the given black_box_function.\n",
    "        optimizer = BayesianOptimization(f = black_box_function,\n",
    "                                         pbounds = pbounds, verbose = 0)\n",
    "                                         # random_state = i+rand_adder)\n",
    "        optimizer.maximize(init_points = init_points, n_iter = n_iter, kappa=kappa, alpha=noise) # \n",
    "        if verbose>1:\n",
    "            print(\"Best result: {}; f(x) = {}.\".format(optimizer.max[\"params\"], optimizer.max[\"target\"]))\n",
    "        results.append(optimizer.max[\"target\"])\n",
    "        coords.append(optimizer.max[\"params\"])\n",
    "        del optimizer\n",
    "    \n",
    "    plt.title(\"n_iter = {}, init_points = {}, kappa = {}\".format(n_iter, init_points, kappa))\n",
    "    plt.hist(results)\n",
    "    plt.show()\n",
    "    \n",
    "    plt.scatter([coords[i]['A'] for i in range(len(coords))], [coords[i]['B'] for i in range(len(coords))]) #, [coords[i]['C'] for i in range(len(coords))]\n",
    "    plt.xlim(pbounds['A'][0], pbounds['A'][1])\n",
    "    plt.ylim(pbounds['B'][0], pbounds['B'][1])\n",
    "    # ax.set_zlim3d(pbounds['C'][0], pbounds['C'][1])\n",
    "    \n",
    "    plt.scatter([182.5], [151.7], s=180, marker=\"*\") # , [140.0]\n",
    "    plt.show()\n",
    "    if verbose > 0:\n",
    "        print(list(reversed(sorted(results))))    "
   ]
  },
  {
   "cell_type": "markdown",
   "id": "69b294a0-31a3-4eba-a812-6e41527acf96",
   "metadata": {},
   "source": [
    "## Simple Trial"
   ]
  },
  {
   "cell_type": "code",
   "execution_count": 14,
   "id": "dfa75204-adea-4ed8-8ce6-ef297ae2eebb",
   "metadata": {},
   "outputs": [
    {
     "name": "stdout",
     "output_type": "stream",
     "text": [
      "0.005\n"
     ]
    },
    {
     "name": "stderr",
     "output_type": "stream",
     "text": [
      "100%|█████████████████████████████████████████████| 1/1 [00:03<00:00,  3.51s/it]"
     ]
    },
    {
     "name": "stdout",
     "output_type": "stream",
     "text": [
      "Best result: {'A': 182.4720052319411, 'B': 152.58724552018506, 'C': 142.83935194030585}; f(x) = 1.0046006502228422.\n"
     ]
    },
    {
     "name": "stderr",
     "output_type": "stream",
     "text": [
      "\n"
     ]
    },
    {
     "data": {
      "image/png": "[encoded data removed]",
      "text/plain": [
       "<Figure size 432x288 with 1 Axes>"
      ]
     },
     "metadata": {
      "needs_background": "light"
     },
     "output_type": "display_data"
    },
    {
     "data": {
      "image/png": "[encoded data removed]",
      "text/plain": [
       "<Figure size 432x288 with 1 Axes>"
      ]
     },
     "metadata": {
      "needs_background": "light"
     },
     "output_type": "display_data"
    },
    {
     "name": "stdout",
     "output_type": "stream",
     "text": [
      "[1.0046006502228422]\n"
     ]
    }
   ],
   "source": [
    "trial(1, n_iter = 40, init_points = 5, kappa = 2.3, verbose = 2)"
   ]
  },
  {
   "cell_type": "markdown",
   "id": "0db7b939-1d08-41f2-afb9-cbf4a4434555",
   "metadata": {},
   "source": [
    "## Making sure our method is better than random"
   ]
  },
  {
   "cell_type": "code",
   "execution_count": null,
   "id": "5d5a3003-9d85-4b98-ae00-3be66e4418c0",
   "metadata": {},
   "outputs": [
    {
     "name": "stdout",
     "output_type": "stream",
     "text": [
      "0.005\n"
     ]
    },
    {
     "name": "stderr",
     "output_type": "stream",
     "text": [
      " 40%|█████████████████▏                         | 20/50 [00:27<00:42,  1.43s/it]"
     ]
    }
   ],
   "source": [
    "trial(50, n_iter = 20, init_points = 3, kappa = 2.3, verbose = 1)"
   ]
  },
  {
   "cell_type": "code",
   "execution_count": null,
   "id": "47bcd372-beaa-4a38-a7e8-8f68ebd8b59a",
   "metadata": {},
   "outputs": [],
   "source": [
    "# we see that more iteration is better than more initial points, meaning our sampling is more efficient than random sample\n",
    "trial(50, n_iter = 3, init_points = 20, kappa = 2.3, verbose = 1)"
   ]
  },
  {
   "cell_type": "markdown",
   "id": "6baa9e13-bf5f-441e-a031-fd6ae6a6dda2",
   "metadata": {},
   "source": [
    "## Trying out kappa"
   ]
  },
  {
   "cell_type": "code",
   "execution_count": 97,
   "id": "cc6af69c-1b5e-4333-be0f-9022b593732f",
   "metadata": {},
   "outputs": [
    {
     "name": "stdout",
     "output_type": "stream",
     "text": [
      "0.5\n"
     ]
    },
    {
     "name": "stderr",
     "output_type": "stream",
     "text": [
      "100%|███████████████████████████████████████████| 30/30 [01:07<00:00,  2.24s/it]\n"
     ]
    },
    {
     "data": {
      "image/png": "[encoded data removed]",
      "text/plain": [
       "<Figure size 432x288 with 1 Axes>"
      ]
     },
     "metadata": {
      "needs_background": "light"
     },
     "output_type": "display_data"
    },
    {
     "data": {
      "image/png": "[encoded data removed]",
      "text/plain": [
       "<Figure size 432x288 with 1 Axes>"
      ]
     },
     "metadata": {
      "needs_background": "light"
     },
     "output_type": "display_data"
    },
    {
     "name": "stdout",
     "output_type": "stream",
     "text": [
      "[101.02713164463407, 100.95502905822308, 100.82080190421826, 100.77180486016573, 100.56773315786468, 100.42191951956593, 100.34460718592626, 100.27628444908734, 100.2717513189688, 100.26877585821619, 100.24454435859104, 100.2290479420868, 100.17754480954648, 100.02556632082046, 100.01156430135777, 100.00634402120667, 99.99581846700917, 99.99251194541984, 99.98728223284002, 99.98634741901563, 99.97706877165398, 99.97600789219884, 99.969359290689, 99.92401242638383, 99.9030451521142, 99.84539177465237, 99.80504814207, 99.72383903834627, 99.42161056642323, 99.20357787129724]\n"
     ]
    }
   ],
   "source": [
    "trial(30, n_iter = 30, init_points = 5, kappa = 3, verbose = 1)"
   ]
  },
  {
   "cell_type": "code",
   "execution_count": 98,
   "id": "54aa2cea-4acc-4db4-a0a2-37f92b72f2cf",
   "metadata": {},
   "outputs": [
    {
     "name": "stdout",
     "output_type": "stream",
     "text": [
      "0.5\n"
     ]
    },
    {
     "name": "stderr",
     "output_type": "stream",
     "text": [
      "100%|███████████████████████████████████████████| 30/30 [01:09<00:00,  2.32s/it]\n"
     ]
    },
    {
     "data": {
      "image/png": "[encoded data removed]",
      "text/plain": [
       "<Figure size 432x288 with 1 Axes>"
      ]
     },
     "metadata": {
      "needs_background": "light"
     },
     "output_type": "display_data"
    },
    {
     "data": {
      "image/png": "[encoded data removed]",
      "text/plain": [
       "<Figure size 432x288 with 1 Axes>"
      ]
     },
     "metadata": {
      "needs_background": "light"
     },
     "output_type": "display_data"
    },
    {
     "name": "stdout",
     "output_type": "stream",
     "text": [
      "[101.02442858598585, 100.9353878839747, 100.70011398232424, 100.44355825681009, 100.39945639545425, 100.18820818958477, 100.17646743567035, 100.15725342720913, 100.13183490715969, 100.1245839348134, 100.09865151027925, 100.09661353752226, 100.07018512187369, 100.01530560597575, 100.00907546620178, 99.98754450240628, 99.9471000264744, 99.9413406033288, 99.91287838135182, 99.90579744306922, 99.86500870745314, 99.82488636078995, 99.75026585293946, 99.73706727256359, 99.72987588178944, 99.70426312842011, 99.60276079297945, 99.53661738558169, 99.47774938623671, 99.44195392465747]\n"
     ]
    }
   ],
   "source": [
    "trial(30, n_iter = 30, init_points = 5, kappa = 3.7, verbose = 1)"
   ]
  },
  {
   "cell_type": "code",
   "execution_count": 99,
   "id": "1d138a05-2037-48f5-b9b1-032adfe8857c",
   "metadata": {},
   "outputs": [
    {
     "name": "stdout",
     "output_type": "stream",
     "text": [
      "0.5\n"
     ]
    },
    {
     "name": "stderr",
     "output_type": "stream",
     "text": [
      "100%|███████████████████████████████████████████| 30/30 [01:07<00:00,  2.26s/it]\n"
     ]
    },
    {
     "data": {
      "image/png": "[encoded data removed]",
      "text/plain": [
       "<Figure size 432x288 with 1 Axes>"
      ]
     },
     "metadata": {
      "needs_background": "light"
     },
     "output_type": "display_data"
    },
    {
     "data": {
      "image/png": "[encoded data removed]",
      "text/plain": [
       "<Figure size 432x288 with 1 Axes>"
      ]
     },
     "metadata": {
      "needs_background": "light"
     },
     "output_type": "display_data"
    },
    {
     "name": "stdout",
     "output_type": "stream",
     "text": [
      "[100.94799823767266, 100.638119756871, 100.4951462096266, 100.32152290191856, 100.30915010312717, 100.21456328335276, 100.20968691699456, 100.15283953036106, 100.11811971997008, 100.0181490841469, 99.9864327762015, 99.93467226475798, 99.80323309884307, 99.68325395511862, 99.67720267417178, 99.62585619760614, 99.60419645267217, 99.59868430311576, 99.5672709986946, 99.53936557680186, 99.51524555899674, 99.48206846848774, 99.41554599487462, 99.39433264435128, 99.37122870884875, 99.3454189216858, 99.14769615666033, 99.04975461050981, 99.00633270400542, 98.61251793450393]\n"
     ]
    }
   ],
   "source": [
    "trial(30, n_iter = 30, init_points = 5, kappa = 4.2, verbose = 1)"
   ]
  },
  {
   "cell_type": "code",
   "execution_count": 100,
   "id": "ee312365-fde1-4a6c-85aa-2e7fc003a39f",
   "metadata": {},
   "outputs": [
    {
     "name": "stdout",
     "output_type": "stream",
     "text": [
      "0.5\n"
     ]
    },
    {
     "name": "stderr",
     "output_type": "stream",
     "text": [
      "100%|███████████████████████████████████████████| 30/30 [01:10<00:00,  2.36s/it]\n"
     ]
    },
    {
     "data": {
      "image/png": "[encoded data removed]",
      "text/plain": [
       "<Figure size 432x288 with 1 Axes>"
      ]
     },
     "metadata": {
      "needs_background": "light"
     },
     "output_type": "display_data"
    },
    {
     "data": {
      "image/png": "[encoded data removed]",
      "text/plain": [
       "<Figure size 432x288 with 1 Axes>"
      ]
     },
     "metadata": {
      "needs_background": "light"
     },
     "output_type": "display_data"
    },
    {
     "name": "stdout",
     "output_type": "stream",
     "text": [
      "[100.95848812850359, 100.6839691751322, 100.43715606627428, 100.42315956440676, 100.40536088526179, 100.371645528073, 100.36796652051254, 100.2894761518933, 100.27028185534735, 100.20569540849914, 100.10871011905024, 100.0359077747186, 100.01238958651392, 99.94894387693762, 99.94458498496647, 99.93621198334563, 99.83879444510279, 99.77672266406324, 99.76981100532481, 99.74307394721572, 99.7263982630707, 99.71008252283329, 99.65847637878124, 99.59488929792367, 99.56929854998023, 99.56046553120079, 99.51989831033131, 99.36633643697454, 99.20019986516046, 98.64401402018409]\n"
     ]
    }
   ],
   "source": [
    "trial(30, n_iter = 30, init_points = 5, kappa = 4.5, verbose = 1)"
   ]
  },
  {
   "cell_type": "markdown",
   "id": "1e067ec5-9c7a-4c89-b8ea-ccf8fdb46aee",
   "metadata": {},
   "source": [
    "## Increase n_iter"
   ]
  },
  {
   "cell_type": "code",
   "execution_count": 101,
   "id": "ac5b06b2-7a7d-4785-b8e8-2d2cd6686531",
   "metadata": {},
   "outputs": [
    {
     "name": "stdout",
     "output_type": "stream",
     "text": [
      "0.5\n"
     ]
    },
    {
     "name": "stderr",
     "output_type": "stream",
     "text": [
      "100%|███████████████████████████████████████████| 30/30 [03:04<00:00,  6.16s/it]\n"
     ]
    },
    {
     "data": {
      "image/png": "[encoded data removed]",
      "text/plain": [
       "<Figure size 432x288 with 1 Axes>"
      ]
     },
     "metadata": {
      "needs_background": "light"
     },
     "output_type": "display_data"
    },
    {
     "data": {
      "image/png": "[encoded data removed]",
      "text/plain": [
       "<Figure size 432x288 with 1 Axes>"
      ]
     },
     "metadata": {
      "needs_background": "light"
     },
     "output_type": "display_data"
    },
    {
     "name": "stdout",
     "output_type": "stream",
     "text": [
      "[100.91271358069261, 100.77650114092009, 100.5928058309809, 100.55688742063276, 100.42866530671121, 100.37118311947481, 100.36976247762777, 100.35730534064545, 100.35342783570634, 100.28902533526113, 100.28629979723064, 100.28296087475661, 100.2626628600579, 100.20142436448913, 100.15223158519463, 100.14132415840707, 100.13952821490929, 100.13932600050406, 100.13294083014674, 100.13124610558805, 100.11815681780422, 100.1168626065951, 100.11284268377668, 100.10722091256186, 100.10572447775677, 100.09908226270088, 100.022933426675, 99.9729400106983, 99.8984656343132, 99.84253520447632]\n"
     ]
    }
   ],
   "source": [
    "trial(30, n_iter = 70, init_points = 5, kappa = 4.2, verbose = 1)"
   ]
  },
  {
   "cell_type": "code",
   "execution_count": 102,
   "id": "990649e2-6c4f-4136-9547-4fc86f5fc273",
   "metadata": {},
   "outputs": [
    {
     "name": "stdout",
     "output_type": "stream",
     "text": [
      "0.5\n"
     ]
    },
    {
     "name": "stderr",
     "output_type": "stream",
     "text": [
      "100%|███████████████████████████████████████████| 30/30 [03:10<00:00,  6.35s/it]\n"
     ]
    },
    {
     "data": {
      "image/png": "[encoded data removed]",
      "text/plain": [
       "<Figure size 432x288 with 1 Axes>"
      ]
     },
     "metadata": {
      "needs_background": "light"
     },
     "output_type": "display_data"
    },
    {
     "data": {
      "image/png": "[encoded data removed]",
      "text/plain": [
       "<Figure size 432x288 with 1 Axes>"
      ]
     },
     "metadata": {
      "needs_background": "light"
     },
     "output_type": "display_data"
    },
    {
     "name": "stdout",
     "output_type": "stream",
     "text": [
      "[100.95226883793003, 100.92260597184412, 100.73908761660108, 100.70028657925313, 100.69456113958054, 100.65278743501918, 100.63870739721776, 100.6354860191177, 100.58263738120382, 100.57270423386211, 100.56611410838732, 100.56045014465197, 100.48447427208696, 100.43331278040668, 100.4230191414737, 100.35784835631753, 100.33627914925592, 100.26050284495368, 100.25382023453477, 100.25127156766234, 100.24894575891967, 100.24669183233851, 100.23997421775033, 100.23299994865675, 100.19465800323222, 100.17492291793113, 100.15274766432174, 100.1422252361335, 100.11017537591547, 100.04120918257007]\n"
     ]
    }
   ],
   "source": [
    "trial(30, n_iter = 70, init_points = 10, kappa = 4.2, verbose = 1)"
   ]
  },
  {
   "cell_type": "code",
   "execution_count": 103,
   "id": "2e3a4c11-f6d2-47e0-a630-5406f09afe52",
   "metadata": {},
   "outputs": [
    {
     "name": "stdout",
     "output_type": "stream",
     "text": [
      "0.5\n"
     ]
    },
    {
     "name": "stderr",
     "output_type": "stream",
     "text": [
      "100%|███████████████████████████████████████████| 30/30 [03:15<00:00,  6.51s/it]\n"
     ]
    },
    {
     "data": {
      "image/png": "[encoded data removed]",
      "text/plain": [
       "<Figure size 432x288 with 1 Axes>"
      ]
     },
     "metadata": {
      "needs_background": "light"
     },
     "output_type": "display_data"
    },
    {
     "data": {
      "image/png": "[encoded data removed]",
      "text/plain": [
       "<Figure size 432x288 with 1 Axes>"
      ]
     },
     "metadata": {
      "needs_background": "light"
     },
     "output_type": "display_data"
    },
    {
     "name": "stdout",
     "output_type": "stream",
     "text": [
      "[101.7861463961288, 101.0174953413374, 100.7771166559786, 100.63729290928455, 100.57601468404911, 100.5566614419395, 100.55000826958187, 100.49065362112216, 100.48641668489138, 100.47229648522881, 100.45566072054149, 100.45343525681605, 100.43029090845718, 100.39672620687067, 100.3710625761713, 100.36334483315568, 100.34401076780475, 100.33044321685455, 100.25067530079124, 100.23492822759388, 100.1829633331948, 100.17938360583403, 100.1542585797253, 100.09241621875492, 100.04410502156215, 99.95532908619195, 99.90734149735653, 99.83657769872893, 99.71501660246146, 99.68958498094045]\n"
     ]
    }
   ],
   "source": [
    "trial(30, n_iter = 70, init_points = 5, kappa = 3.9, verbose = 1)"
   ]
  },
  {
   "cell_type": "markdown",
   "id": "6ac27470-334b-4a9f-8db8-5af7626ca208",
   "metadata": {},
   "source": [
    "# Try to decrease n_iter but do more trials. Fix kappa at 4.2"
   ]
  },
  {
   "cell_type": "code",
   "execution_count": 107,
   "id": "8b25e7a3-9459-4923-8ac1-2ed9a959ec1a",
   "metadata": {},
   "outputs": [
    {
     "name": "stdout",
     "output_type": "stream",
     "text": [
      "0.5\n"
     ]
    },
    {
     "name": "stderr",
     "output_type": "stream",
     "text": [
      "100%|█████████████████████████████████████████| 100/100 [01:32<00:00,  1.08it/s]\n"
     ]
    },
    {
     "data": {
      "image/png": "[encoded data removed]",
      "text/plain": [
       "<Figure size 432x288 with 1 Axes>"
      ]
     },
     "metadata": {
      "needs_background": "light"
     },
     "output_type": "display_data"
    },
    {
     "data": {
      "image/png": "[encoded data removed]",
      "text/plain": [
       "<Figure size 432x288 with 1 Axes>"
      ]
     },
     "metadata": {
      "needs_background": "light"
     },
     "output_type": "display_data"
    },
    {
     "name": "stdout",
     "output_type": "stream",
     "text": [
      "[101.08507417869583, 100.89252641565352, 100.76759335427496, 100.76433349624907, 100.76175820010795, 100.75971780705092, 100.57713381748577, 100.56206563589654, 100.54210468377681, 100.523957360205, 100.50619794705698, 100.45835270215518, 100.41876152444941, 100.35099634060927, 100.34522252187094, 100.26501017649156, 100.2540440622912, 100.24038369845161, 100.23460123753068, 100.23447265976748, 100.23024560447439, 100.21826527810941, 100.21466198905341, 100.1859016477417, 100.18265671100724, 100.1657939771271, 100.15355897353098, 100.14849254942499, 100.13206854021936, 100.10261927677841, 100.10010070758292, 100.0885567304336, 100.08387348771232, 100.07347986199832, 100.06743455654974, 99.99209409949648, 99.97607799369081, 99.97273325910498, 99.95440493926966, 99.94696318420071, 99.94681365801259, 99.93476807533071, 99.92428693234828, 99.86391066437116, 99.86228735657645, 99.85612607392314, 99.8436005186349, 99.84107514998774, 99.83653852772831, 99.77019599755798, 99.76331643456453, 99.75110764986307, 99.74928856733486, 99.71975129702601, 99.70347227768059, 99.70143166351869, 99.69034006790349, 99.66921124048748, 99.62857434886014, 99.62409522971778, 99.57120648372387, 99.55391730244233, 99.55345324017372, 99.50748564206508, 99.49350554251981, 99.4863346994826, 99.4410203718299, 99.42247894655102, 99.37386953435421, 99.34981620401891, 99.28658565434634, 99.28108769623944, 99.24572079857353, 99.23228718321084, 99.21079057278098, 99.1887794837471, 99.15171319349218, 99.14047501504022, 99.09281659598548, 99.0813314139188, 99.06901839805514, 98.92544421833811, 98.92337581252863, 98.92104839182309, 98.8477690002431, 98.83661365857225, 98.8164696919778, 98.80373862389384, 98.75096038840582, 98.74179972904491, 98.73401691237319, 98.72239098221328, 98.7204393063493, 98.70409323924981, 98.60510028734896, 98.4558171773111, 98.37187475659064, 98.29100510286726, 98.17680194374921, 97.98849320726057]\n"
     ]
    }
   ],
   "source": [
    "trial(100, n_iter = 10, init_points = 5, kappa = 4.2, verbose = 1)"
   ]
  },
  {
   "cell_type": "code",
   "execution_count": 108,
   "id": "8723032b-8807-4e88-924f-295d8a566ed6",
   "metadata": {},
   "outputs": [
    {
     "name": "stdout",
     "output_type": "stream",
     "text": [
      "0.5\n"
     ]
    },
    {
     "name": "stderr",
     "output_type": "stream",
     "text": [
      "100%|█████████████████████████████████████████| 100/100 [02:52<00:00,  1.72s/it]\n"
     ]
    },
    {
     "data": {
      "image/png": "[encoded data removed]",
      "text/plain": [
       "<Figure size 432x288 with 1 Axes>"
      ]
     },
     "metadata": {
      "needs_background": "light"
     },
     "output_type": "display_data"
    },
    {
     "data": {
      "image/png": "[encoded data removed]",
      "text/plain": [
       "<Figure size 432x288 with 1 Axes>"
      ]
     },
     "metadata": {
      "needs_background": "light"
     },
     "output_type": "display_data"
    },
    {
     "name": "stdout",
     "output_type": "stream",
     "text": [
      "[101.07947255385332, 101.00518213301315, 101.00329380512117, 100.93512184922203, 100.8642290535947, 100.69339650903248, 100.6799768085096, 100.67480976282786, 100.46300904261338, 100.44077572402921, 100.39060786327133, 100.37770751345442, 100.37152372809842, 100.33338457200674, 100.30817909786182, 100.29792218700018, 100.28384440014597, 100.26212949662096, 100.23757755364834, 100.21443651143196, 100.18782214423877, 100.18762639027194, 100.18550928931461, 100.17791792143174, 100.17575149452938, 100.17554244435311, 100.16154758573565, 100.15311518060531, 100.14677290728679, 100.07610485046581, 100.06919470823874, 100.06249299163346, 100.02817455224258, 100.02581377860098, 99.99356516412112, 99.98843633754535, 99.98831240022417, 99.98830106334495, 99.96992372226327, 99.96219048341487, 99.95794339123503, 99.95329913739131, 99.9472616280438, 99.91023323551252, 99.89580286523403, 99.89117378668064, 99.86067650408344, 99.85462064361471, 99.84375606886302, 99.84340544097451, 99.81956374547087, 99.81860732178946, 99.80478652500773, 99.75930991619623, 99.72594072800376, 99.71745125593381, 99.7087569821501, 99.70383596374677, 99.699522334362, 99.6952270556458, 99.67446516280404, 99.6595029496209, 99.6590661678751, 99.65311689615977, 99.60705609451854, 99.5937343140249, 99.59151788163521, 99.5711985539418, 99.56554042665863, 99.55241350469716, 99.5439555155256, 99.5225475312493, 99.52045445909476, 99.50786215012204, 99.49671814472464, 99.49069859827745, 99.47356621721067, 99.4707721589896, 99.42391830269183, 99.37788612313338, 99.36807594288594, 99.35379521517687, 99.3384162629652, 99.32453995047689, 99.32032214728893, 99.29717356472875, 99.29313901858265, 99.19864779919692, 99.14300441699483, 99.13691172781665, 99.06687089361196, 99.0217573903141, 99.00737033084638, 98.96555077619513, 98.8889404963737, 98.88387192345843, 98.86349492740449, 98.83197271058344, 98.81393745020584, 97.99993719978343]\n"
     ]
    }
   ],
   "source": [
    "trial(100, n_iter = 20, init_points = 5, kappa = 4.2, verbose = 1)"
   ]
  },
  {
   "cell_type": "code",
   "execution_count": 109,
   "id": "8ce8161a-3beb-4d3c-9bd7-2f0ab78369bd",
   "metadata": {},
   "outputs": [
    {
     "name": "stdout",
     "output_type": "stream",
     "text": [
      "0.5\n"
     ]
    },
    {
     "name": "stderr",
     "output_type": "stream",
     "text": [
      "100%|█████████████████████████████████████████| 100/100 [04:10<00:00,  2.50s/it]\n"
     ]
    },
    {
     "data": {
      "image/png": "[encoded data removed]",
      "text/plain": [
       "<Figure size 432x288 with 1 Axes>"
      ]
     },
     "metadata": {
      "needs_background": "light"
     },
     "output_type": "display_data"
    },
    {
     "data": {
      "image/png": "[encoded data removed]",
      "text/plain": [
       "<Figure size 432x288 with 1 Axes>"
      ]
     },
     "metadata": {
      "needs_background": "light"
     },
     "output_type": "display_data"
    },
    {
     "name": "stdout",
     "output_type": "stream",
     "text": [
      "[101.08859456024845, 101.01479564839934, 100.88751644691993, 100.80982351148347, 100.68620289909316, 100.66478233228888, 100.65652423993842, 100.64781340096904, 100.61585186442954, 100.59885052568038, 100.5567615410992, 100.53494474316949, 100.51053341907371, 100.49053257861947, 100.47443344417547, 100.4664295280829, 100.4651770182229, 100.43027227845838, 100.42028078030829, 100.35505720305898, 100.31542201108667, 100.30681705905741, 100.29622687841086, 100.23948215121555, 100.23932287259225, 100.22170880140878, 100.20066308460474, 100.19341185436778, 100.15807633534175, 100.15802011828339, 100.14044464318212, 100.13966528699798, 100.13805166828345, 100.13098442833368, 100.11096215575796, 100.11024060827611, 100.09652125543877, 100.07960213474259, 100.0681807134604, 100.06786448857528, 100.04852787291196, 100.04225706144595, 100.04202018742042, 100.03745453110673, 100.03428546533262, 100.00923318841026, 99.96736330211118, 99.96056574172607, 99.96055173904178, 99.95342851095874, 99.94613535361685, 99.94427699897668, 99.93300655669492, 99.92869472621535, 99.911201380373, 99.9040698462765, 99.90312811320771, 99.9007196810268, 99.87410424764946, 99.84657652587309, 99.83174311077134, 99.81365714003886, 99.81283404001007, 99.80382288059737, 99.79429907153855, 99.77845453711015, 99.76492005966166, 99.74563509348147, 99.73600501759873, 99.7353581807437, 99.69013044874976, 99.68140640286387, 99.66994431332901, 99.66827247847213, 99.65554253052647, 99.64681332990918, 99.64116669637053, 99.63038661472393, 99.61601223742545, 99.60184771161644, 99.59027016592387, 99.58588550794539, 99.56123758029347, 99.5143620272357, 99.5127849224169, 99.48869730066546, 99.48020522838439, 99.43448674822376, 99.4187286546532, 99.4038234944268, 99.39016230818508, 99.38608899685921, 99.36889287134102, 99.36119573476596, 99.3479424809962, 99.33052400342538, 99.30730391686433, 99.20900637779036, 99.1752604209001, 99.08945572566009]\n"
     ]
    }
   ],
   "source": [
    "trial(100, n_iter = 30, init_points = 5, kappa = 4.2, verbose = 1)"
   ]
  },
  {
   "cell_type": "code",
   "execution_count": 110,
   "id": "1a6ea4c0-b3fc-47c6-98c0-e96831811bd0",
   "metadata": {},
   "outputs": [
    {
     "name": "stdout",
     "output_type": "stream",
     "text": [
      "0.5\n"
     ]
    },
    {
     "name": "stderr",
     "output_type": "stream",
     "text": [
      "100%|█████████████████████████████████████████| 100/100 [05:42<00:00,  3.42s/it]\n"
     ]
    },
    {
     "data": {
      "image/png": "[encoded data removed]",
      "text/plain": [
       "<Figure size 432x288 with 1 Axes>"
      ]
     },
     "metadata": {
      "needs_background": "light"
     },
     "output_type": "display_data"
    },
    {
     "data": {
      "image/png": "[encoded data removed]",
      "text/plain": [
       "<Figure size 432x288 with 1 Axes>"
      ]
     },
     "metadata": {
      "needs_background": "light"
     },
     "output_type": "display_data"
    },
    {
     "name": "stdout",
     "output_type": "stream",
     "text": [
      "[101.2908033258131, 101.21105382115863, 101.06727265143574, 100.84831254997113, 100.84766490174144, 100.78366468766944, 100.69608346638918, 100.68098260362049, 100.62556607475527, 100.60005672474082, 100.55198258190174, 100.54404528850611, 100.53823529330481, 100.47837843693918, 100.46716373681416, 100.4640568370709, 100.45647991150881, 100.43512486277038, 100.42887184454781, 100.42339083003466, 100.41522991629905, 100.38333823442383, 100.3579150694828, 100.34173213636258, 100.33692668240622, 100.31467509489646, 100.30960166793413, 100.30614045688313, 100.28980310549767, 100.27505216493489, 100.27265738261775, 100.26825811350608, 100.26108936236457, 100.23963717026652, 100.23760604381125, 100.23751502703102, 100.23438036037004, 100.22231240230194, 100.2120865126251, 100.20934046265381, 100.18817716478395, 100.18732747206471, 100.18366706536315, 100.16999642990413, 100.16140539092838, 100.15363423957791, 100.1442866408973, 100.11233226351071, 100.11115492013819, 100.10518075572078, 100.07274713056577, 100.07114945246751, 100.06152342030524, 100.0490039944596, 100.04822736545299, 100.04472705302061, 100.01162766881541, 100.00440156888665, 99.99517335550703, 99.96639791045186, 99.94139209761494, 99.93652898733014, 99.93304744630403, 99.9274927323908, 99.90155126663802, 99.88904842163251, 99.88240658002502, 99.88217223020824, 99.88092873497547, 99.86791487920925, 99.85673551855243, 99.84964714650357, 99.80586485359834, 99.79905061574956, 99.79312225626515, 99.78819093701783, 99.78642826034151, 99.77654361165779, 99.77005830027451, 99.73128553908413, 99.71051678626353, 99.69527230589108, 99.69407771515617, 99.68604507948726, 99.68584215682155, 99.65549143913589, 99.61785321417707, 99.6083962854195, 99.5973331145176, 99.5513214118501, 99.5509430606871, 99.54720552199332, 99.54392676032467, 99.54183634184045, 99.48001082363065, 99.45413740015118, 99.4085756140107, 99.39337240837395, 99.36465985022565, 99.11211092082985]\n"
     ]
    }
   ],
   "source": [
    "trial(100, n_iter = 40, init_points = 5, kappa = 4.2, verbose = 1)"
   ]
  },
  {
   "cell_type": "markdown",
   "id": "262b440c-add3-4c74-be1d-92970d5d94e9",
   "metadata": {},
   "source": [
    "# Best parameters: kappa = 4.2, n_iter = 40"
   ]
  },
  {
   "cell_type": "code",
   "execution_count": 32,
   "id": "443c3cd3-4122-46ef-9588-a73013e58ee0",
   "metadata": {},
   "outputs": [],
   "source": [
    "# Define the black box function to optimize.\n",
    "def black_box_function(A, B, C):\n",
    "    # C: SVC hyper parameter to optimize for.\n",
    "    venus.set_mag_currents(A, B, C)\n",
    "    v = venus.get_beam_current()\n",
    "    return v\n",
    "\n",
    "pbounds = {\"A\": [175, 185], \"B\": [145, 155], \"C\": [135, 145]}\n",
    "\n",
    "def venus_opt(venus:Venus):\n",
    "    venus.\n",
    "venus_opt(1)"
   ]
  },
  {
   "cell_type": "code",
   "execution_count": 26,
   "id": "e2b44010-91f5-46ac-893d-e8693e4b519e",
   "metadata": {},
   "outputs": [],
   "source": [
    "# TODO: guide optimization to known good points\n",
    "# TODO: modify the loss function to have larger differences between global min and local min\n",
    "# TODO: find a way to set halting condition or use a different library"
   ]
  },
  {
   "cell_type": "code",
   "execution_count": 27,
   "id": "025bef17-311f-40f3-819d-68a9f45a64eb",
   "metadata": {},
   "outputs": [],
   "source": [
    "# unused. Potentially for future tests\n",
    "# from deap import benchmarks\n",
    "\n",
    "# def ackley_arg0(sol):\n",
    "#     return benchmarks.ackley(sol)[0]"
   ]
  },
  {
   "cell_type": "code",
   "execution_count": 28,
   "id": "9d43af8d-8583-4e72-be03-e944eb6f2e06",
   "metadata": {},
   "outputs": [],
   "source": [
    "# ackley_arg0((0,0,0))"
   ]
  },
  {
   "cell_type": "code",
   "execution_count": 29,
   "id": "486c7f39-5b6c-4034-bdda-7c2b104cc985",
   "metadata": {},
   "outputs": [],
   "source": [
    "# Global min: (182.5, 151.7, 140.0) value\n",
    "# TODO: use get current function\n",
    "# scikit optimization\n",
    "# skopt2"
   ]
  },
  {
   "cell_type": "code",
   "execution_count": null,
   "id": "fa6ec86d-a20e-4b1c-9633-6dac10b8bd93",
   "metadata": {},
   "outputs": [],
   "source": []
  },
  {
   "cell_type": "code",
   "execution_count": null,
   "id": "819cc73a-413d-4179-9b19-afb4f0463937",
   "metadata": {},
   "outputs": [],
   "source": []
  }
 ],
 "metadata": {
  "kernelspec": {
   "display_name": "Python 3 (ipykernel)",
   "language": "python",
   "name": "python3"
  },
  "language_info": {
   "codemirror_mode": {
    "name": "ipython",
    "version": 3
   },
   "file_extension": ".py",
   "mimetype": "text/x-python",
   "name": "python",
   "nbconvert_exporter": "python",
   "pygments_lexer": "ipython3",
   "version": "3.9.7"
  }
 },
 "nbformat": 4,
 "nbformat_minor": 5
}

{
 "cells": [
  {
   "cell_type": "code",
   "execution_count": 3,
   "id": "fcabbe6f",
   "metadata": {},
   "outputs": [],
   "source": [
    "import numpy as np"
   ]
  },
  {
   "cell_type": "code",
   "execution_count": 4,
   "id": "f95baeb2",
   "metadata": {},
   "outputs": [],
   "source": [
    "class Venus:\n",
    "    \n",
    "    def __init__(\n",
    "        self,\n",
    "        inj_limits=[175, 185],\n",
    "        mid_limits=[145, 155],\n",
    "        ext_limits=[135, 145],\n",
    "        beam_range=[50, 100],\n",
    "        jitter=0\n",
    "    ):\n",
    "        \"\"\"The limits on the magnetic solenoids currents and the beam range (ouput).\n",
    "        A random jitter can be added also (fraction of 1.).\"\"\"\n",
    "        self.inj_limits = inj_limits\n",
    "        self.mid_limits = mid_limits\n",
    "        self.ext_limits = ext_limits\n",
    "        self.beam_range = beam_range\n",
    "        self.currents = np.zeros(3)\n",
    "        self.jitter = jitter\n",
    "        self.rng = np.random.default_rng(42)\n",
    "\n",
    "    def set_mag_currents(self, inj, mid, ext):\n",
    "        \"\"\"Set the magnetic currents on the coils.\"\"\"\n",
    "        for v, lim in zip([inj, mid, ext], [self.inj_limits, self.mid_limits, self.ext_limits]):\n",
    "            if v < lim[0] or v > lim[1]:\n",
    "                raise ValueError(\"Setting outside limits\")\n",
    "        self.currents = np.array([inj, mid, ext])\n",
    "\n",
    "    def _rescale_inputs(self, inputs):\n",
    "        \"\"\"input to himmelblau4 must be in [-6, 6].\"\"\"\n",
    "        return (\n",
    "            (c - l[0]) * 12.0 / (l[1] - l[0]) - 6.0\n",
    "            for c, l in zip(inputs, [self.inj_limits, self.mid_limits, self.ext_limits])\n",
    "        )\n",
    "\n",
    "    def _rescale_output(self, output):\n",
    "        \"\"\"himmelblau4 returns values betwen 0 and 4899 for w, x, y, z in [-6, 6].\"\"\"\n",
    "        return (\n",
    "            (1. - (output / 4899) + self.rng.normal(0.0, self.jitter)) *\n",
    "            (self.beam_range[1] - self.beam_range[0]) + self.beam_range[0]\n",
    "        )\n",
    "\n",
    "    def get_beam_current(self):\n",
    "        \"\"\"Read the current value of the beam current\"\"\"\n",
    "        return self._rescale_output(self._himmelblau4(*self._rescale_inputs(self.currents)))\n",
    "\n",
    "    @staticmethod\n",
    "    def _himmelblau4(w, x, y):\n",
    "        \"\"\"A funky 4 dimensional parameter space with a bunch of local minima.\"\"\"\n",
    "        return (\n",
    "            (w**2 + x + y - 11)**2 +\n",
    "            (w + x**2 + y - 7)**2 +\n",
    "            (w + x + y**2 - 5)**2\n",
    "        )"
   ]
  },
  {
   "cell_type": "markdown",
   "id": "11120a9a",
   "metadata": {},
   "source": [
    "create a venus object, defaults might be refined by values from Damon. For simpler algorithm the jitter can be set to 0 initially but it should work with a value larger than that in the end."
   ]
  },
  {
   "cell_type": "code",
   "execution_count": 5,
   "id": "e2fbb622",
   "metadata": {},
   "outputs": [],
   "source": [
    "venus = Venus(jitter=0.05)"
   ]
  },
  {
   "cell_type": "markdown",
   "id": "9a1c49e2",
   "metadata": {},
   "source": [
    "set the currents and read the beam value"
   ]
  },
  {
   "cell_type": "code",
   "execution_count": 6,
   "id": "182df4b0",
   "metadata": {},
   "outputs": [
    {
     "name": "stdout",
     "output_type": "stream",
     "text": [
      "50.76179269938608\n"
     ]
    }
   ],
   "source": [
    "venus.set_mag_currents(185, 155, 145)\n",
    "bc = venus.get_beam_current()\n",
    "print(bc)"
   ]
  },
  {
   "cell_type": "markdown",
   "id": "08ad2af8",
   "metadata": {},
   "source": [
    "if currents are outside the range a `ValueError` is raised and can be captured."
   ]
  },
  {
   "cell_type": "code",
   "execution_count": 7,
   "id": "7d180c10",
   "metadata": {},
   "outputs": [
    {
     "ename": "ValueError",
     "evalue": "Setting outside limits",
     "output_type": "error",
     "traceback": [
      "\u001b[0;31m---------------------------------------------------------------------------\u001b[0m",
      "\u001b[0;31mValueError\u001b[0m                                Traceback (most recent call last)",
      "\u001b[0;32m<ipython-input-7-ca1d21990887>\u001b[0m in \u001b[0;36m<module>\u001b[0;34m\u001b[0m\n\u001b[0;32m----> 1\u001b[0;31m \u001b[0mvenus\u001b[0m\u001b[0;34m.\u001b[0m\u001b[0mset_mag_currents\u001b[0m\u001b[0;34m(\u001b[0m\u001b[0;36m50\u001b[0m\u001b[0;34m,\u001b[0m \u001b[0;36m200\u001b[0m\u001b[0;34m,\u001b[0m \u001b[0;36m200\u001b[0m\u001b[0;34m)\u001b[0m\u001b[0;34m\u001b[0m\u001b[0;34m\u001b[0m\u001b[0m\n\u001b[0m",
      "\u001b[0;32m<ipython-input-4-42e6649d3075>\u001b[0m in \u001b[0;36mset_mag_currents\u001b[0;34m(self, inj, mid, ext)\u001b[0m\n\u001b[1;32m     23\u001b[0m         \u001b[0;32mfor\u001b[0m \u001b[0mv\u001b[0m\u001b[0;34m,\u001b[0m \u001b[0mlim\u001b[0m \u001b[0;32min\u001b[0m \u001b[0mzip\u001b[0m\u001b[0;34m(\u001b[0m\u001b[0;34m[\u001b[0m\u001b[0minj\u001b[0m\u001b[0;34m,\u001b[0m \u001b[0mmid\u001b[0m\u001b[0;34m,\u001b[0m \u001b[0mext\u001b[0m\u001b[0;34m]\u001b[0m\u001b[0;34m,\u001b[0m \u001b[0;34m[\u001b[0m\u001b[0mself\u001b[0m\u001b[0;34m.\u001b[0m\u001b[0minj_limits\u001b[0m\u001b[0;34m,\u001b[0m \u001b[0mself\u001b[0m\u001b[0;34m.\u001b[0m\u001b[0mmid_limits\u001b[0m\u001b[0;34m,\u001b[0m \u001b[0mself\u001b[0m\u001b[0;34m.\u001b[0m\u001b[0mext_limits\u001b[0m\u001b[0;34m]\u001b[0m\u001b[0;34m)\u001b[0m\u001b[0;34m:\u001b[0m\u001b[0;34m\u001b[0m\u001b[0;34m\u001b[0m\u001b[0m\n\u001b[1;32m     24\u001b[0m             \u001b[0;32mif\u001b[0m \u001b[0mv\u001b[0m \u001b[0;34m<\u001b[0m \u001b[0mlim\u001b[0m\u001b[0;34m[\u001b[0m\u001b[0;36m0\u001b[0m\u001b[0;34m]\u001b[0m \u001b[0;32mor\u001b[0m \u001b[0mv\u001b[0m \u001b[0;34m>\u001b[0m \u001b[0mlim\u001b[0m\u001b[0;34m[\u001b[0m\u001b[0;36m1\u001b[0m\u001b[0;34m]\u001b[0m\u001b[0;34m:\u001b[0m\u001b[0;34m\u001b[0m\u001b[0;34m\u001b[0m\u001b[0m\n\u001b[0;32m---> 25\u001b[0;31m                 \u001b[0;32mraise\u001b[0m \u001b[0mValueError\u001b[0m\u001b[0;34m(\u001b[0m\u001b[0;34m\"Setting outside limits\"\u001b[0m\u001b[0;34m)\u001b[0m\u001b[0;34m\u001b[0m\u001b[0;34m\u001b[0m\u001b[0m\n\u001b[0m\u001b[1;32m     26\u001b[0m         \u001b[0mself\u001b[0m\u001b[0;34m.\u001b[0m\u001b[0mcurrents\u001b[0m \u001b[0;34m=\u001b[0m \u001b[0mnp\u001b[0m\u001b[0;34m.\u001b[0m\u001b[0marray\u001b[0m\u001b[0;34m(\u001b[0m\u001b[0;34m[\u001b[0m\u001b[0minj\u001b[0m\u001b[0;34m,\u001b[0m \u001b[0mmid\u001b[0m\u001b[0;34m,\u001b[0m \u001b[0mext\u001b[0m\u001b[0;34m]\u001b[0m\u001b[0;34m)\u001b[0m\u001b[0;34m\u001b[0m\u001b[0;34m\u001b[0m\u001b[0m\n\u001b[1;32m     27\u001b[0m \u001b[0;34m\u001b[0m\u001b[0m\n",
      "\u001b[0;31mValueError\u001b[0m: Setting outside limits"
     ]
    }
   ],
   "source": [
    "venus.set_mag_currents(50, 200, 200)"
   ]
  },
  {
   "cell_type": "code",
   "execution_count": 8,
   "id": "d7ec7545",
   "metadata": {},
   "outputs": [
    {
     "data": {
      "text/plain": [
       "4899"
      ]
     },
     "execution_count": 8,
     "metadata": {},
     "output_type": "execute_result"
    }
   ],
   "source": [
    "venus._himmelblau4(6, 6, 6)"
   ]
  },
  {
   "cell_type": "markdown",
   "id": "193aacdc-9109-4165-abe8-a160bfc1830d",
   "metadata": {},
   "source": [
    "# Bayesian Optimization"
   ]
  },
  {
   "cell_type": "code",
   "execution_count": 10,
   "id": "e9c59706",
   "metadata": {},
   "outputs": [
    {
     "name": "stdout",
     "output_type": "stream",
     "text": [
      "|   iter    |  target   |     A     |     B     |     C     |\n",
      "-------------------------------------------------------------\n",
      "| \u001b[0m 1       \u001b[0m | \u001b[0m 1.501e+0\u001b[0m | \u001b[0m 178.9   \u001b[0m | \u001b[0m 84.82   \u001b[0m | \u001b[0m 141.0   \u001b[0m |\n",
      "| \u001b[0m 2       \u001b[0m | \u001b[0m 4.523e+0\u001b[0m | \u001b[0m 132.2   \u001b[0m | \u001b[0m 108.1   \u001b[0m | \u001b[0m 31.33   \u001b[0m |\n",
      "| \u001b[0m 3       \u001b[0m | \u001b[0m 1.068e+0\u001b[0m | \u001b[0m 180.6   \u001b[0m | \u001b[0m 0.9657  \u001b[0m | \u001b[0m 36.68   \u001b[0m |\n",
      "| \u001b[0m 4       \u001b[0m | \u001b[0m 2.607e+0\u001b[0m | \u001b[0m 80.44   \u001b[0m | \u001b[0m 120.8   \u001b[0m | \u001b[0m 28.66   \u001b[0m |\n",
      "| \u001b[0m 5       \u001b[0m | \u001b[0m 1.207e+0\u001b[0m | \u001b[0m 159.7   \u001b[0m | \u001b[0m 152.4   \u001b[0m | \u001b[0m 23.76   \u001b[0m |\n",
      "| \u001b[0m 6       \u001b[0m | \u001b[0m 1.413e+0\u001b[0m | \u001b[0m 175.6   \u001b[0m | \u001b[0m 82.42   \u001b[0m | \u001b[0m 140.5   \u001b[0m |\n",
      "| \u001b[95m 7       \u001b[0m | \u001b[95m 1.882e+0\u001b[0m | \u001b[95m 185.0   \u001b[0m | \u001b[95m 122.9   \u001b[0m | \u001b[95m 145.0   \u001b[0m |\n",
      "| \u001b[0m 8       \u001b[0m | \u001b[0m 1.756e+0\u001b[0m | \u001b[0m 184.9   \u001b[0m | \u001b[0m 149.4   \u001b[0m | \u001b[0m 87.09   \u001b[0m |\n",
      "| \u001b[0m 9       \u001b[0m | \u001b[0m 4.419e+0\u001b[0m | \u001b[0m 0.0     \u001b[0m | \u001b[0m 0.0     \u001b[0m | \u001b[0m 145.0   \u001b[0m |\n",
      "| \u001b[95m 10      \u001b[0m | \u001b[95m 2.24e+09\u001b[0m | \u001b[95m 185.0   \u001b[0m | \u001b[95m 155.0   \u001b[0m | \u001b[95m 145.0   \u001b[0m |\n",
      "| \u001b[0m 11      \u001b[0m | \u001b[0m 1.032e+0\u001b[0m | \u001b[0m 0.0     \u001b[0m | \u001b[0m 155.0   \u001b[0m | \u001b[0m 145.0   \u001b[0m |\n",
      "| \u001b[0m 12      \u001b[0m | \u001b[0m 1.476e+0\u001b[0m | \u001b[0m 143.0   \u001b[0m | \u001b[0m 155.0   \u001b[0m | \u001b[0m 145.0   \u001b[0m |\n",
      "| \u001b[0m 13      \u001b[0m | \u001b[0m 1.63e+09\u001b[0m | \u001b[0m 185.0   \u001b[0m | \u001b[0m 0.0     \u001b[0m | \u001b[0m 145.0   \u001b[0m |\n",
      "| \u001b[0m 14      \u001b[0m | \u001b[0m 1.97e+09\u001b[0m | \u001b[0m 183.1   \u001b[0m | \u001b[0m 151.1   \u001b[0m | \u001b[0m 129.5   \u001b[0m |\n",
      "| \u001b[0m 15      \u001b[0m | \u001b[0m 195.0   \u001b[0m | \u001b[0m 0.0     \u001b[0m | \u001b[0m 0.0     \u001b[0m | \u001b[0m 0.0     \u001b[0m |\n",
      "=============================================================\n",
      "Best result: {'A': 185.0, 'B': 155.0, 'C': 145.0}; f(x) = 2240290900.0.\n"
     ]
    }
   ],
   "source": [
    "import numpy as np\n",
    "import matplotlib.pyplot as plt\n",
    "\n",
    "from sklearn.preprocessing import MinMaxScaler\n",
    "from sklearn.model_selection import train_test_split\n",
    "from sklearn.metrics import roc_auc_score\n",
    "from bayes_opt import BayesianOptimization, UtilityFunction\n",
    "import warnings\n",
    "warnings.filterwarnings(\"ignore\")\n",
    "\n",
    "# Define the black box function to optimize.\n",
    "def black_box_function(A, B, C):\n",
    "    # C: SVC hyper parameter to optimize for.\n",
    "    v = venus._himmelblau4(A, B, C)\n",
    "    return v\n",
    "\n",
    "# Set range of C to optimize for.\n",
    "# bayes_opt requires this to be a dictionary.\n",
    "pbounds = {\"A\": [0, 185], \"B\": [0, 155], \"C\": [0, 145]}\n",
    "# Create a BayesianOptimization optimizer,\n",
    "# and optimize the given black_box_function.\n",
    "optimizer = BayesianOptimization(f = black_box_function,\n",
    "                                 pbounds = pbounds, verbose = 2,\n",
    "                                 random_state = 4)\n",
    "optimizer.maximize(init_points = 5, n_iter = 10)\n",
    "print(\"Best result: {}; f(x) = {}.\".format(optimizer.max[\"params\"], optimizer.max[\"target\"]))"
   ]
  },
  {
   "cell_type": "code",
   "execution_count": null,
   "id": "025bef17-311f-40f3-819d-68a9f45a64eb",
   "metadata": {},
   "outputs": [],
   "source": []
  }
 ],
 "metadata": {
  "kernelspec": {
   "display_name": "Python 3",
   "language": "python",
   "name": "python3"
  },
  "language_info": {
   "codemirror_mode": {
    "name": "ipython",
    "version": 3
   },
   "file_extension": ".py",
   "mimetype": "text/x-python",
   "name": "python",
   "nbconvert_exporter": "python",
   "pygments_lexer": "ipython3",
   "version": "3.8.8"
  }
 },
 "nbformat": 4,
 "nbformat_minor": 5
}

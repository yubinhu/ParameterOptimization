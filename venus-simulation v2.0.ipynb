{
 "cells": [
  {
   "cell_type": "code",
   "execution_count": 1,
   "id": "fcabbe6f",
   "metadata": {},
   "outputs": [],
   "source": [
    "%matplotlib inline\n",
    "\n",
    "import numpy as np\n",
    "from tqdm import tqdm\n",
    "import matplotlib.pyplot as plt\n",
    "import pickle\n",
    "plt.rcParams['figure.dpi']=200\n"
   ]
  },
  {
   "cell_type": "code",
   "execution_count": 2,
   "id": "f95baeb2",
   "metadata": {},
   "outputs": [],
   "source": [
    "class Venus:\n",
    "    # note: always set the func paramter\n",
    "    def __init__(\n",
    "        self,\n",
    "        inj_limits=[97, 110],\n",
    "        mid_limits=[97, 110],\n",
    "        ext_limits=[116, 128],\n",
    "        beam_range=[0.50, 1.00],\n",
    "        jitter=0, \n",
    "        func = (lambda X: -1)\n",
    "    ):\n",
    "        \"\"\"The limits on the magnetic solenoids currents and the beam range (ouput).\n",
    "        A random jitter can be added also (fraction of 1.).\"\"\"\n",
    "        self.inj_limits = inj_limits\n",
    "        self.mid_limits = mid_limits\n",
    "        self.ext_limits = ext_limits\n",
    "        self.beam_range = beam_range\n",
    "        self.currents = np.zeros(3)\n",
    "        self.jitter = jitter\n",
    "        self.rng = np.random.default_rng(42)\n",
    "        self.func = func\n",
    "\n",
    "    def set_mag_currents(self, inj, mid, ext):\n",
    "        \"\"\"Set the magnetic currents on the coils.\"\"\"\n",
    "        for v, lim in zip([inj, mid, ext], [self.inj_limits, self.mid_limits, self.ext_limits]):\n",
    "            if v < lim[0] or v > lim[1]:\n",
    "                raise ValueError(\"Setting outside limits\")\n",
    "        self.currents = np.array([inj, mid, ext])\n",
    "\n",
    "    def _rescale_inputs(self, inputs):\n",
    "        \"\"\"input to himmelblau4 must be in [-6, 6].\"\"\"\n",
    "        return (\n",
    "            (c - l[0]) * 12.0 / (l[1] - l[0]) - 6.0\n",
    "            for c, l in zip(inputs, [self.inj_limits, self.mid_limits, self.ext_limits])\n",
    "        )\n",
    "\n",
    "    def _rescale_output(self, output):\n",
    "        \"\"\"simple square returns values betwen 0 and 27 for w, x, y, z in [-6, 6].\"\"\"\n",
    "        return (\n",
    "            (1. - (output / 27.0) + self.rng.normal(0.0, self.jitter)) *\n",
    "            (self.beam_range[1] - self.beam_range[0]) + self.beam_range[0]\n",
    "        )\n",
    "    \n",
    "    def get_noise_level(self):\n",
    "        # return std of the noise\n",
    "        noise = self.jitter*(self.beam_range[1] - self.beam_range[0])\n",
    "        return noise\n",
    "\n",
    "    def get_beam_current(self):\n",
    "        \"\"\"Read the current value of the beam current\"\"\"\n",
    "        return self.func(self.currents)\n",
    "\n",
    "    @staticmethod\n",
    "    def _simple_square(w, x, y):\n",
    "        \"\"\"A not so funky 3 dimensional parameter space with a single minima.\"\"\"\n",
    "        return (\n",
    "            (w - 3.)**2 + (x - 3.)**2 + (y - 3.)**2\n",
    "        )"
   ]
  },
  {
   "cell_type": "markdown",
   "id": "11120a9a",
   "metadata": {},
   "source": [
    "create a venus object, defaults might be refined by values from Damon. For simpler algorithm the jitter can be set to 0 initially but it should work with a value larger than that in the end."
   ]
  },
  {
   "cell_type": "code",
   "execution_count": 3,
   "id": "e2fbb622",
   "metadata": {},
   "outputs": [],
   "source": [
    "venus = Venus(jitter=0.15)"
   ]
  },
  {
   "cell_type": "markdown",
   "id": "9a1c49e2",
   "metadata": {},
   "source": [
    "set the currents and read the beam value"
   ]
  },
  {
   "cell_type": "code",
   "execution_count": 4,
   "id": "182df4b0",
   "metadata": {},
   "outputs": [
    {
     "name": "stdout",
     "output_type": "stream",
     "text": [
      "-1\n"
     ]
    }
   ],
   "source": [
    "venus.set_mag_currents(100, 100, 120)\n",
    "bc = venus.get_beam_current()\n",
    "print(bc)"
   ]
  },
  {
   "cell_type": "markdown",
   "id": "08ad2af8",
   "metadata": {},
   "source": [
    "if currents are outside the range a `ValueError` is raised and can be captured."
   ]
  },
  {
   "cell_type": "code",
   "execution_count": 5,
   "id": "7d180c10",
   "metadata": {},
   "outputs": [
    {
     "ename": "ValueError",
     "evalue": "Setting outside limits",
     "output_type": "error",
     "traceback": [
      "\u001b[0;31m---------------------------------------------------------------------------\u001b[0m",
      "\u001b[0;31mValueError\u001b[0m                                Traceback (most recent call last)",
      "\u001b[0;32m<ipython-input-5-ca1d21990887>\u001b[0m in \u001b[0;36m<module>\u001b[0;34m\u001b[0m\n\u001b[0;32m----> 1\u001b[0;31m \u001b[0mvenus\u001b[0m\u001b[0;34m.\u001b[0m\u001b[0mset_mag_currents\u001b[0m\u001b[0;34m(\u001b[0m\u001b[0;36m50\u001b[0m\u001b[0;34m,\u001b[0m \u001b[0;36m200\u001b[0m\u001b[0;34m,\u001b[0m \u001b[0;36m200\u001b[0m\u001b[0;34m)\u001b[0m\u001b[0;34m\u001b[0m\u001b[0;34m\u001b[0m\u001b[0m\n\u001b[0m",
      "\u001b[0;32m<ipython-input-2-12cfa0f89bd0>\u001b[0m in \u001b[0;36mset_mag_currents\u001b[0;34m(self, inj, mid, ext)\u001b[0m\n\u001b[1;32m     25\u001b[0m         \u001b[0;32mfor\u001b[0m \u001b[0mv\u001b[0m\u001b[0;34m,\u001b[0m \u001b[0mlim\u001b[0m \u001b[0;32min\u001b[0m \u001b[0mzip\u001b[0m\u001b[0;34m(\u001b[0m\u001b[0;34m[\u001b[0m\u001b[0minj\u001b[0m\u001b[0;34m,\u001b[0m \u001b[0mmid\u001b[0m\u001b[0;34m,\u001b[0m \u001b[0mext\u001b[0m\u001b[0;34m]\u001b[0m\u001b[0;34m,\u001b[0m \u001b[0;34m[\u001b[0m\u001b[0mself\u001b[0m\u001b[0;34m.\u001b[0m\u001b[0minj_limits\u001b[0m\u001b[0;34m,\u001b[0m \u001b[0mself\u001b[0m\u001b[0;34m.\u001b[0m\u001b[0mmid_limits\u001b[0m\u001b[0;34m,\u001b[0m \u001b[0mself\u001b[0m\u001b[0;34m.\u001b[0m\u001b[0mext_limits\u001b[0m\u001b[0;34m]\u001b[0m\u001b[0;34m)\u001b[0m\u001b[0;34m:\u001b[0m\u001b[0;34m\u001b[0m\u001b[0;34m\u001b[0m\u001b[0m\n\u001b[1;32m     26\u001b[0m             \u001b[0;32mif\u001b[0m \u001b[0mv\u001b[0m \u001b[0;34m<\u001b[0m \u001b[0mlim\u001b[0m\u001b[0;34m[\u001b[0m\u001b[0;36m0\u001b[0m\u001b[0;34m]\u001b[0m \u001b[0;32mor\u001b[0m \u001b[0mv\u001b[0m \u001b[0;34m>\u001b[0m \u001b[0mlim\u001b[0m\u001b[0;34m[\u001b[0m\u001b[0;36m1\u001b[0m\u001b[0;34m]\u001b[0m\u001b[0;34m:\u001b[0m\u001b[0;34m\u001b[0m\u001b[0;34m\u001b[0m\u001b[0m\n\u001b[0;32m---> 27\u001b[0;31m                 \u001b[0;32mraise\u001b[0m \u001b[0mValueError\u001b[0m\u001b[0;34m(\u001b[0m\u001b[0;34m\"Setting outside limits\"\u001b[0m\u001b[0;34m)\u001b[0m\u001b[0;34m\u001b[0m\u001b[0;34m\u001b[0m\u001b[0m\n\u001b[0m\u001b[1;32m     28\u001b[0m         \u001b[0mself\u001b[0m\u001b[0;34m.\u001b[0m\u001b[0mcurrents\u001b[0m \u001b[0;34m=\u001b[0m \u001b[0mnp\u001b[0m\u001b[0;34m.\u001b[0m\u001b[0marray\u001b[0m\u001b[0;34m(\u001b[0m\u001b[0;34m[\u001b[0m\u001b[0minj\u001b[0m\u001b[0;34m,\u001b[0m \u001b[0mmid\u001b[0m\u001b[0;34m,\u001b[0m \u001b[0mext\u001b[0m\u001b[0;34m]\u001b[0m\u001b[0;34m)\u001b[0m\u001b[0;34m\u001b[0m\u001b[0;34m\u001b[0m\u001b[0m\n\u001b[1;32m     29\u001b[0m \u001b[0;34m\u001b[0m\u001b[0m\n",
      "\u001b[0;31mValueError\u001b[0m: Setting outside limits"
     ]
    }
   ],
   "source": [
    "venus.set_mag_currents(50, 200, 200)"
   ]
  },
  {
   "cell_type": "markdown",
   "id": "193aacdc-9109-4165-abe8-a160bfc1830d",
   "metadata": {},
   "source": [
    "# Bayesian Optimization"
   ]
  },
  {
   "cell_type": "code",
   "execution_count": 6,
   "id": "6aa5df94-fc24-4526-b9b7-ad63ebca11dc",
   "metadata": {},
   "outputs": [
    {
     "data": {
      "text/plain": [
       "43.99047570001613"
      ]
     },
     "execution_count": 6,
     "metadata": {},
     "output_type": "execute_result"
    }
   ],
   "source": [
    "# import the function we are trying to optimize\n",
    "gpr_model1 = pickle.load(open(\"Models/1stRunGPR.dump\",\"rb\"))\n",
    "normalizer1 = lambda X: (X - [103.16726412, 103.05644853, 122.86389106] )/ [3.54492885, 3.87407133, 3.28592364]\n",
    "func1 = lambda currents: gpr_model1.predict(normalizer1(currents.reshape(1, -1)))[0]\n",
    "func1(np.array([110,110,120]))"
   ]
  },
  {
   "cell_type": "code",
   "execution_count": 7,
   "id": "a72fdedd-a055-46f8-8621-7da1fa99eb1e",
   "metadata": {},
   "outputs": [
    {
     "data": {
      "text/plain": [
       "46.75626166484955"
      ]
     },
     "execution_count": 7,
     "metadata": {},
     "output_type": "execute_result"
    }
   ],
   "source": [
    "gpr_model2 = pickle.load(open(\"Models/2ndRunGPR.dump\",\"rb\"))\n",
    "normalizer2 = lambda X: (X - [101.36078906, 102.19351073, 125.44840552] )/ [3.62790811, 3.77053577, 3.00330152]\n",
    "func2 = lambda currents: gpr_model2.predict(normalizer2(currents.reshape(1, -1)))[0]\n",
    "func2(np.array([110,110,120]))"
   ]
  },
  {
   "cell_type": "code",
   "execution_count": 14,
   "id": "e9c59706",
   "metadata": {},
   "outputs": [
    {
     "name": "stdout",
     "output_type": "stream",
     "text": [
      "|   iter    |  target   |     A     |     B     |     C     |\n",
      "-------------------------------------------------------------\n",
      "| \u001b[0m 1       \u001b[0m | \u001b[0m 30.26   \u001b[0m | \u001b[0m 108.2   \u001b[0m | \u001b[0m 100.7   \u001b[0m | \u001b[0m 116.9   \u001b[0m |\n",
      "| \u001b[95m 2       \u001b[0m | \u001b[95m 76.92   \u001b[0m | \u001b[95m 106.9   \u001b[0m | \u001b[95m 102.9   \u001b[0m | \u001b[95m 122.5   \u001b[0m |\n",
      "| \u001b[95m 3       \u001b[0m | \u001b[95m 116.4   \u001b[0m | \u001b[95m 106.4   \u001b[0m | \u001b[95m 108.0   \u001b[0m | \u001b[95m 125.2   \u001b[0m |\n",
      "| \u001b[0m 4       \u001b[0m | \u001b[0m 94.77   \u001b[0m | \u001b[0m 106.5   \u001b[0m | \u001b[0m 100.1   \u001b[0m | \u001b[0m 124.6   \u001b[0m |\n",
      "| \u001b[0m 5       \u001b[0m | \u001b[0m 99.42   \u001b[0m | \u001b[0m 97.76   \u001b[0m | \u001b[0m 102.3   \u001b[0m | \u001b[0m 123.3   \u001b[0m |\n",
      "| \u001b[0m 6       \u001b[0m | \u001b[0m 62.45   \u001b[0m | \u001b[0m 101.2   \u001b[0m | \u001b[0m 109.2   \u001b[0m | \u001b[0m 128.0   \u001b[0m |\n",
      "| \u001b[0m 7       \u001b[0m | \u001b[0m 85.93   \u001b[0m | \u001b[0m 102.8   \u001b[0m | \u001b[0m 108.4   \u001b[0m | \u001b[0m 122.6   \u001b[0m |\n",
      "| \u001b[95m 8       \u001b[0m | \u001b[95m 120.0   \u001b[0m | \u001b[95m 105.8   \u001b[0m | \u001b[95m 104.6   \u001b[0m | \u001b[95m 127.8   \u001b[0m |\n",
      "| \u001b[0m 9       \u001b[0m | \u001b[0m 102.8   \u001b[0m | \u001b[0m 110.0   \u001b[0m | \u001b[0m 106.6   \u001b[0m | \u001b[0m 128.0   \u001b[0m |\n",
      "| \u001b[0m 10      \u001b[0m | \u001b[0m 86.19   \u001b[0m | \u001b[0m 101.7   \u001b[0m | \u001b[0m 99.22   \u001b[0m | \u001b[0m 128.0   \u001b[0m |\n",
      "| \u001b[0m 11      \u001b[0m | \u001b[0m 61.0    \u001b[0m | \u001b[0m 110.0   \u001b[0m | \u001b[0m 109.9   \u001b[0m | \u001b[0m 123.4   \u001b[0m |\n",
      "| \u001b[0m 12      \u001b[0m | \u001b[0m 85.94   \u001b[0m | \u001b[0m 107.0   \u001b[0m | \u001b[0m 107.2   \u001b[0m | \u001b[0m 127.9   \u001b[0m |\n",
      "| \u001b[95m 13      \u001b[0m | \u001b[95m 131.4   \u001b[0m | \u001b[95m 105.8   \u001b[0m | \u001b[95m 105.1   \u001b[0m | \u001b[95m 127.0   \u001b[0m |\n",
      "| \u001b[0m 14      \u001b[0m | \u001b[0m 126.2   \u001b[0m | \u001b[0m 105.2   \u001b[0m | \u001b[0m 105.7   \u001b[0m | \u001b[0m 125.5   \u001b[0m |\n",
      "| \u001b[95m 15      \u001b[0m | \u001b[95m 134.5   \u001b[0m | \u001b[95m 103.8   \u001b[0m | \u001b[95m 103.8   \u001b[0m | \u001b[95m 126.3   \u001b[0m |\n",
      "| \u001b[0m 16      \u001b[0m | \u001b[0m 84.42   \u001b[0m | \u001b[0m 110.0   \u001b[0m | \u001b[0m 101.6   \u001b[0m | \u001b[0m 128.0   \u001b[0m |\n",
      "| \u001b[0m 17      \u001b[0m | \u001b[0m 126.2   \u001b[0m | \u001b[0m 102.3   \u001b[0m | \u001b[0m 103.6   \u001b[0m | \u001b[0m 124.6   \u001b[0m |\n",
      "| \u001b[0m 18      \u001b[0m | \u001b[0m 45.95   \u001b[0m | \u001b[0m 97.0    \u001b[0m | \u001b[0m 97.0    \u001b[0m | \u001b[0m 116.0   \u001b[0m |\n",
      "| \u001b[0m 19      \u001b[0m | \u001b[0m 88.57   \u001b[0m | \u001b[0m 97.0    \u001b[0m | \u001b[0m 110.0   \u001b[0m | \u001b[0m 116.0   \u001b[0m |\n",
      "| \u001b[0m 20      \u001b[0m | \u001b[0m 110.1   \u001b[0m | \u001b[0m 102.2   \u001b[0m | \u001b[0m 103.9   \u001b[0m | \u001b[0m 127.6   \u001b[0m |\n",
      "| \u001b[95m 21      \u001b[0m | \u001b[95m 143.0   \u001b[0m | \u001b[95m 104.7   \u001b[0m | \u001b[95m 103.4   \u001b[0m | \u001b[95m 125.7   \u001b[0m |\n",
      "| \u001b[0m 22      \u001b[0m | \u001b[0m 142.8   \u001b[0m | \u001b[0m 104.8   \u001b[0m | \u001b[0m 102.8   \u001b[0m | \u001b[0m 126.3   \u001b[0m |\n",
      "| \u001b[0m 23      \u001b[0m | \u001b[0m 140.4   \u001b[0m | \u001b[0m 104.5   \u001b[0m | \u001b[0m 103.8   \u001b[0m | \u001b[0m 125.3   \u001b[0m |\n",
      "| \u001b[0m 24      \u001b[0m | \u001b[0m 136.7   \u001b[0m | \u001b[0m 104.9   \u001b[0m | \u001b[0m 102.5   \u001b[0m | \u001b[0m 126.9   \u001b[0m |\n",
      "| \u001b[0m 25      \u001b[0m | \u001b[0m 133.4   \u001b[0m | \u001b[0m 103.8   \u001b[0m | \u001b[0m 102.5   \u001b[0m | \u001b[0m 125.4   \u001b[0m |\n",
      "=============================================================\n",
      "Best result: {'A': 104.71583445749228, 'B': 103.43777793563689, 'C': 125.72321321871125}; f(x) = 142.97136422500796.\n"
     ]
    }
   ],
   "source": [
    "from bayes_opt import BayesianOptimization, UtilityFunction\n",
    "import warnings\n",
    "warnings.filterwarnings(\"ignore\")\n",
    "\n",
    "def get_black_box_func(venus):\n",
    "    # Define the black box function to optimize.\n",
    "    def black_box_function(A, B, C):\n",
    "        # C: SVC hyper parameter to optimize for.\n",
    "        venus.set_mag_currents(A, B, C)\n",
    "        v = venus.get_beam_current()\n",
    "        return v\n",
    "    return black_box_function\n",
    "\n",
    "black_box_function = get_black_box_func(Venus(jitter=0.15, func=func1))\n",
    "\n",
    "# Set range of C to optimize for.\n",
    "# bayes_opt requires this to be a dictionary.\n",
    "pbounds = {\"A\": [97, 110], \"B\": [97, 110], \"C\": [116, 128]}\n",
    "# Create a BayesianOptimization optimizer,\n",
    "# and optimize the given black_box_function.\n",
    "optimizer = BayesianOptimization(f = black_box_function,\n",
    "                                 pbounds = pbounds, verbose = 2,\n",
    "                                 random_state = 29)\n",
    "optimizer.maximize(init_points = 5, n_iter = 20, kappa=2.3, alpha=0.15)\n",
    "print(\"Best result: {}; f(x) = {}.\".format(optimizer.max[\"params\"], optimizer.max[\"target\"]))"
   ]
  },
  {
   "cell_type": "code",
   "execution_count": 40,
   "id": "7979453e-3cbc-4d74-91b8-f0558bb326e1",
   "metadata": {},
   "outputs": [
    {
     "name": "stdout",
     "output_type": "stream",
     "text": [
      "|   iter    |  target   |     A     |     B     |     C     |\n",
      "-------------------------------------------------------------\n",
      "| \u001b[95m 2       \u001b[0m | \u001b[95m 127.5   \u001b[0m | \u001b[95m 101.5   \u001b[0m | \u001b[95m 109.9   \u001b[0m | \u001b[95m 118.8   \u001b[0m |\n",
      "| \u001b[95m 3       \u001b[0m | \u001b[95m 129.1   \u001b[0m | \u001b[95m 101.4   \u001b[0m | \u001b[95m 109.9   \u001b[0m | \u001b[95m 118.7   \u001b[0m |\n",
      "| \u001b[95m 5       \u001b[0m | \u001b[95m 131.0   \u001b[0m | \u001b[95m 100.5   \u001b[0m | \u001b[95m 110.0   \u001b[0m | \u001b[95m 119.7   \u001b[0m |\n",
      "| \u001b[95m 6       \u001b[0m | \u001b[95m 132.3   \u001b[0m | \u001b[95m 102.2   \u001b[0m | \u001b[95m 110.0   \u001b[0m | \u001b[95m 121.2   \u001b[0m |\n",
      "| \u001b[95m 14      \u001b[0m | \u001b[95m 135.6   \u001b[0m | \u001b[95m 100.0   \u001b[0m | \u001b[95m 109.5   \u001b[0m | \u001b[95m 118.5   \u001b[0m |\n",
      "| \u001b[95m 25      \u001b[0m | \u001b[95m 137.6   \u001b[0m | \u001b[95m 99.5    \u001b[0m | \u001b[95m 97.0    \u001b[0m | \u001b[95m 123.0   \u001b[0m |\n",
      "| \u001b[95m 28      \u001b[0m | \u001b[95m 146.3   \u001b[0m | \u001b[95m 100.7   \u001b[0m | \u001b[95m 97.0    \u001b[0m | \u001b[95m 125.5   \u001b[0m |\n",
      "| \u001b[95m 30      \u001b[0m | \u001b[95m 147.4   \u001b[0m | \u001b[95m 100.5   \u001b[0m | \u001b[95m 97.0    \u001b[0m | \u001b[95m 125.2   \u001b[0m |\n",
      "| \u001b[95m 35      \u001b[0m | \u001b[95m 147.5   \u001b[0m | \u001b[95m 101.7   \u001b[0m | \u001b[95m 97.0    \u001b[0m | \u001b[95m 125.7   \u001b[0m |\n",
      "=============================================================\n",
      "161.29259755626018\n"
     ]
    }
   ],
   "source": [
    "# optimizer.probe(\n",
    "#     params={\"A\": 115, \"B\": 117, \"C\":104},\n",
    "#     lazy=True,\n",
    "# )\n",
    "\n",
    "\n",
    "bbf1 = get_black_box_func(Venus(jitter=0.15, func=func1))\n",
    "bbf2 = get_black_box_func(Venus(jitter=0.15, func=func2))\n",
    "\n",
    "# Will probe only the two points specified above\n",
    "optimizer1 = BayesianOptimization(f = bbf1,\n",
    "                                 pbounds = pbounds, verbose = 1,\n",
    "                                 random_state = 30)\n",
    "optimizer1.maximize(init_points = 0, n_iter = 80, kappa=2.3, alpha=0.15)\n",
    "best_params_found = optimizer.max[\"params\"]\n"
   ]
  },
  {
   "cell_type": "code",
   "execution_count": 72,
   "id": "7b829c43-69ad-4a29-adaf-3c630590018d",
   "metadata": {},
   "outputs": [
    {
     "name": "stderr",
     "output_type": "stream",
     "text": [
      "100%|██████████| 100/100 [01:00<00:00,  1.66it/s]\n"
     ]
    }
   ],
   "source": [
    "# now we try on the second run function but first probing the best paramter found from first run\n",
    "def trial_probe(random_state):\n",
    "    optimizer2 = BayesianOptimization(f = bbf2,\n",
    "                                     pbounds = pbounds, verbose = 0,\n",
    "                                     random_state = random_state)\n",
    "    optimizer2.probe(\n",
    "        params=best_params_found,\n",
    "        lazy=True,\n",
    "    )\n",
    "\n",
    "    optimizer2.maximize(init_points = 0, n_iter = 10, kappa=0.02, alpha=0.15)\n",
    "    # the second run best is around 170, so we define 150 as acceptable\n",
    "    return optimizer2.max[\"target\"]\n",
    "results = []\n",
    "for i in tqdm(range(100)):\n",
    "    results.append(trial_probe(i))\n"
   ]
  },
  {
   "cell_type": "code",
   "execution_count": 73,
   "id": "e564670e-2a8b-4dc7-8736-5e19b4e4daa2",
   "metadata": {},
   "outputs": [
    {
     "data": {
      "image/png": "[encoded data removed]",
      "text/plain": [
       "<Figure size 1200x800 with 1 Axes>"
      ]
     },
     "metadata": {
      "needs_background": "light"
     },
     "output_type": "display_data"
    }
   ],
   "source": [
    "plt.hist(results)\n",
    "plt.title(\"100 trials\")\n",
    "plt.savefig(\"100trials0.02kappa.png\")\n",
    "plt.show()"
   ]
  },
  {
   "cell_type": "code",
   "execution_count": 16,
   "id": "940a04dc-f4b7-4719-beab-cb11dff501a2",
   "metadata": {},
   "outputs": [
    {
     "data": {
      "text/plain": [
       "0.030563159973920874"
      ]
     },
     "execution_count": 16,
     "metadata": {},
     "output_type": "execute_result"
    }
   ],
   "source": [
    "import random\n",
    "# try a certain times and see how many converges\n",
    "CUTOFF = 140\n",
    "def trial(N, n_iter = 15, init_points = 5, kappa = 3, verbose = 0, rand_adder = 0):\n",
    "    # higher kappa prefers exploration\n",
    "    # initial points are randomly chosen within bounds\n",
    "    # rand_adder is to make sure we probe some different randstates in each trial\n",
    "    # rand_adder = random.randint(1,1000)\n",
    "    results = []\n",
    "    coords = []\n",
    "    pbounds = {\"A\": [97, 110], \"B\": [97, 110], \"C\": [116, 128]}\n",
    "    noise = 0.15 # max(venus.get_noise_level(), 1e-5)\n",
    "    print(noise)\n",
    "\n",
    "    for i in tqdm(range(N)):\n",
    "        # Create a BayesianOptimization optimizer,\n",
    "        # and optimize the given black_box_function.\n",
    "        optimizer = BayesianOptimization(f = black_box_function,\n",
    "                                         pbounds = pbounds, verbose = 0)\n",
    "                                         # random_state = i+rand_adder)\n",
    "        optimizer.maximize(init_points = init_points, n_iter = n_iter, kappa=kappa, alpha=noise) # \n",
    "        if verbose>1:\n",
    "            print(\"Best result: {}; f(x) = {}.\".format(optimizer.max[\"params\"], optimizer.max[\"target\"]))\n",
    "        results.append(optimizer.max[\"target\"])\n",
    "        coords.append(optimizer.max[\"params\"])\n",
    "        del optimizer\n",
    "    \n",
    "    plt.title(\"n_iter = {}, init_points = {}, kappa = {}\".format(n_iter, init_points, kappa))\n",
    "    plt.hist(results)\n",
    "    plt.show()\n",
    "    \n",
    "    plt.scatter([coords[i]['A'] for i in range(len(coords))], [coords[i]['B'] for i in range(len(coords))]) #, [coords[i]['C'] for i in range(len(coords))]\n",
    "    plt.xlim(pbounds['A'][0], pbounds['A'][1])\n",
    "    plt.ylim(pbounds['B'][0], pbounds['B'][1])\n",
    "    # ax.set_zlim3d(pbounds['C'][0], pbounds['C'][1])\n",
    "    \n",
    "    plt.show()\n",
    "    if verbose > 0:\n",
    "        print(list(reversed(sorted(results))))   \n",
    "def trial2(N, n_iter = 15, init_points = 5, kappa = 3, verbose = 0, rand_adder = 0):\n",
    "    # higher kappa prefers exploration\n",
    "    # initial points are randomly chosen within bounds\n",
    "    # rand_adder is to make sure we probe some different randstates in each trial\n",
    "    # rand_adder = random.randint(1,1000)\n",
    "    results = []\n",
    "    coords = []\n",
    "    pbounds = {\"A\": [97, 110], \"B\": [97, 110], \"C\": [116, 128]}\n",
    "    noise = max(venus.get_noise_level(), 1e-5)\n",
    "    \n",
    "    for i in tqdm(range(N)):\n",
    "        # Create a BayesianOptimization optimizer,\n",
    "        # and optimize the given black_box_function.\n",
    "        optimizer = BayesianOptimization(f = black_box_function,\n",
    "                                         pbounds = pbounds, verbose = 0)\n",
    "                                         # random_state = i+rand_adder)\n",
    "        optimizer.maximize(init_points = init_points, n_iter = n_iter, kappa=kappa, alpha=noise) # \n",
    "        if verbose>1:\n",
    "            print(\"Best result: {}; f(x) = {}.\".format(optimizer.max[\"params\"], optimizer.max[\"target\"]))\n",
    "        results.append(optimizer.max[\"target\"])\n",
    "        coords.append(optimizer.max[\"params\"])\n",
    "        del optimizer\n",
    "    # print(\"Results:\", results)\n",
    "    n_succ = sum([i>=CUTOFF for i in results]) / len(results)\n",
    "    return n_succ, results\n",
    "\n",
    "# Fair coin problem\n",
    "# prior is f(p) = 1 for p in range [0,1]  \n",
    "# observation O is H positive in N trials  \n",
    "# ask: what is the posterior f(p|O)\n",
    "# f(p|O) = Pr(O|p) * f(p) / Pr(O) = Pr(O|p) * f(p) * const.\n",
    "# f(p|O) ~ p^H * (1-p)^(N-H)\n",
    "# var(p|O) = E((p|O)^2) - E(p|O)^2\n",
    "#          = [continued in mathematica \"Parameter Exploration - Theory and Simulation/FairCoinProb Posterior.nb\"]\n",
    "def FairCoinVar(H, N):\n",
    "    return (1 - H**2 + N + H * N)/((2 + N)**2 * (3 + N))\n",
    "FairCoinVar(10, 100) ** (1/2)\n",
    "\n",
    "# TODO; double check this equatio with Marco"
   ]
  },
  {
   "cell_type": "code",
   "execution_count": 17,
   "id": "9c64a110-27ba-4ce8-9017-24c30608969f",
   "metadata": {},
   "outputs": [
    {
     "name": "stderr",
     "output_type": "stream",
     "text": [
      "100%|██████████| 10/10 [00:08<00:00,  1.22it/s]\n"
     ]
    },
    {
     "data": {
      "text/plain": [
       "(0.3,\n",
       " [117.795467291865,\n",
       "  135.32957842323546,\n",
       "  139.9576640645143,\n",
       "  132.36527172414574,\n",
       "  147.63878577588008,\n",
       "  147.61698828570627,\n",
       "  146.4641284074362,\n",
       "  136.20732662657875,\n",
       "  136.65925865419493,\n",
       "  136.89700106663082])"
      ]
     },
     "execution_count": 17,
     "metadata": {},
     "output_type": "execute_result"
    }
   ],
   "source": [
    "trial2(10, n_iter = 10, init_points = 5, kappa = 2.3, verbose = 0)"
   ]
  },
  {
   "cell_type": "code",
   "execution_count": 21,
   "id": "2aebfb9b-72e7-45bf-8336-4e1df5918955",
   "metadata": {},
   "outputs": [
    {
     "name": "stderr",
     "output_type": "stream",
     "text": [
      "100%|██████████| 3/3 [00:09<00:00,  3.28s/it]\n",
      "100%|██████████| 3/3 [00:09<00:00,  3.22s/it]\n",
      "100%|██████████| 3/3 [00:09<00:00,  3.15s/it]\n"
     ]
    }
   ],
   "source": [
    "REPEATS = 3\n",
    "N_ITER = 40\n",
    "succ_rates = []\n",
    "results_list = []\n",
    "kappas = np.linspace(1.5, 4, 3)\n",
    "for kappa in kappas:\n",
    "    succ_rate, results = trial2(REPEATS, n_iter = N_ITER, init_points = 3, kappa = kappa, verbose = 0)\n",
    "    succ_rates.append(succ_rate)\n",
    "    results_list.append(results)"
   ]
  },
  {
   "cell_type": "code",
   "execution_count": 22,
   "id": "eaabafd9-3498-4430-9849-089de7f76bd4",
   "metadata": {},
   "outputs": [],
   "source": [
    "np.savetxt(\"results%drepeat%diter.csv\"%(REPEATS,N_ITER), np.array(results_list))"
   ]
  },
  {
   "cell_type": "code",
   "execution_count": 23,
   "id": "7a54377b-b933-473a-b5ea-9bc4b10206e3",
   "metadata": {},
   "outputs": [
    {
     "data": {
      "text/plain": [
       "(3, 3)"
      ]
     },
     "execution_count": 23,
     "metadata": {},
     "output_type": "execute_result"
    }
   ],
   "source": [
    "results_list = np.loadtxt(\"results%drepeat%diter.csv\"%(REPEATS,N_ITER))\n",
    "results_list.shape"
   ]
  },
  {
   "cell_type": "code",
   "execution_count": 24,
   "id": "2d14cba5-3168-43f8-b6e9-2637d85eaeca",
   "metadata": {},
   "outputs": [
    {
     "data": {
      "text/plain": [
       "3"
      ]
     },
     "execution_count": 24,
     "metadata": {},
     "output_type": "execute_result"
    }
   ],
   "source": [
    "REPEATS"
   ]
  },
  {
   "cell_type": "code",
   "execution_count": 25,
   "id": "d243f2ad-7b71-49e8-a863-bdca6a0aa768",
   "metadata": {},
   "outputs": [
    {
     "data": {
      "image/png": "[encoded data removed]",
      "text/plain": [
       "<Figure size 1200x800 with 1 Axes>"
      ]
     },
     "metadata": {
      "needs_background": "light"
     },
     "output_type": "display_data"
    }
   ],
   "source": [
    "succ_rate_err = [FairCoinVar(rate*REPEATS, REPEATS) ** (1/2) for rate in succ_rates]\n",
    "plt.errorbar(kappas, succ_rates, yerr=succ_rate_err, fmt=\"x\", color='black', ecolor=\"red\")\n",
    "plt.xlabel(\"kappa\")\n",
    "plt.ylabel(\"success rate\")\n",
    "plt.ylim([0.3,1])\n",
    "plt.title(\"success rate in %d rounds, %d repeats\"%(N_ITER, REPEATS))\n",
    "dist = kappas[2]-kappas[1]\n",
    "for index, value in enumerate(succ_rates):\n",
    "    x = kappas[index]\n",
    "    plt.text(x+0.01, value+0.01, \"%.2f\"%value)\n",
    "    plt.text(x-0.1, value-0.08, \"k%.2f\"%x, color=\"green\")\n",
    "plt.savefig(\"Graphs/succ_rate%drepeats%diters.png\"%(REPEATS, N_ITER))\n",
    "plt.show()"
   ]
  },
  {
   "cell_type": "code",
   "execution_count": null,
   "id": "a423677a-3625-40c7-be86-7c7ca0a41da6",
   "metadata": {},
   "outputs": [],
   "source": [
    "MIN = 100\n",
    "MAX = 150\n",
    "hist_bin = list(np.linspace(MIN, MAX, 10))\n",
    "hist_list = []\n",
    "for results in results_list:\n",
    "    hist, bins = np.histogram(results, bins=hist_bin)\n",
    "    hist_list.append(hist)\n",
    "hist_results = np.vstack(hist_list).T[::-1]\n",
    "hist_bin = [round(h,2) for h in hist_bin][:-1][::-1] # data manipulation for plots\n",
    "\n",
    "fig, ax = plt.subplots(figsize=(10, 10))\n",
    "im = ax.imshow(hist_results)\n",
    "\n",
    "# avg_list = [(sum(results)/len(results)-MIN)/(MAX-MIN) for results in results_list]\n",
    "# ax.plot(avg_list, color=\"red\")\n",
    "\n",
    "# Show all ticks and label them with the respective list entries\n",
    "ax.set_xticks(np.arange(len(kappas)))\n",
    "ax.set_xticklabels([round(k,2) for k in kappas])\n",
    "ax.set_yticks(np.arange(len(hist_bin)))\n",
    "ax.set_yticklabels(hist_bin)\n",
    "\n",
    "# Rotate the tick labels and set their alignment.\n",
    "plt.setp(ax.get_xticklabels(), rotation=45, ha=\"right\",\n",
    "         rotation_mode=\"anchor\")\n",
    "\n",
    "# Loop over data dimensions and create text annotations.\n",
    "for i in range(len(hist_bin)):\n",
    "    for j in range(len(kappas)):\n",
    "        text = ax.text(j, i, hist_results[i, j],\n",
    "                       ha=\"center\", va=\"center\", color=\"w\")\n",
    "\n",
    "ax.set_title(\"Heatmap with %d repeats\"%REPEATS)\n",
    "fig.tight_layout()\n",
    "plt.savefig(\"Graphs/heatmap%drepeats%diters.png\"%(REPEATS, N_ITER))\n",
    "plt.show()"
   ]
  },
  {
   "cell_type": "code",
   "execution_count": null,
   "id": "32752c93-9205-4d71-8630-07699e8f9219",
   "metadata": {},
   "outputs": [],
   "source": [
    "REPEATS = 100\n",
    "N_ITER = 40\n",
    "succ_rates = []\n",
    "results_list = []\n",
    "alphas = np.linspace(0.01, 1, 10)\n",
    "for alpha in alphas:\n",
    "    succ_rate, results = trial2(REPEATS, n_iter = N_ITER, init_points = 3, kappa = 2.3, verbose = 0)\n",
    "    succ_rates.append(succ_rate)\n",
    "    results_list.append(results)"
   ]
  },
  {
   "cell_type": "markdown",
   "id": "69b294a0-31a3-4eba-a812-6e41527acf96",
   "metadata": {},
   "source": [
    "## Simple Trial"
   ]
  },
  {
   "cell_type": "code",
   "execution_count": null,
   "id": "dfa75204-adea-4ed8-8ce6-ef297ae2eebb",
   "metadata": {},
   "outputs": [],
   "source": [
    "trial(1, n_iter = 40, init_points = 5, kappa = 2.3, verbose = 2)"
   ]
  },
  {
   "cell_type": "markdown",
   "id": "0db7b939-1d08-41f2-afb9-cbf4a4434555",
   "metadata": {},
   "source": [
    "## Making sure our method is better than random"
   ]
  },
  {
   "cell_type": "code",
   "execution_count": null,
   "id": "5d5a3003-9d85-4b98-ae00-3be66e4418c0",
   "metadata": {},
   "outputs": [],
   "source": [
    "trial(50, n_iter = 20, init_points = 3, kappa = 2.3, verbose = 1)"
   ]
  },
  {
   "cell_type": "code",
   "execution_count": null,
   "id": "47bcd372-beaa-4a38-a7e8-8f68ebd8b59a",
   "metadata": {},
   "outputs": [],
   "source": [
    "# we see that more iteration is better than more initial points, meaning our sampling is more efficient than random sample\n",
    "trial(50, n_iter = 3, init_points = 20, kappa = 2.3, verbose = 1)"
   ]
  },
  {
   "cell_type": "code",
   "execution_count": null,
   "id": "819cc73a-413d-4179-9b19-afb4f0463937",
   "metadata": {},
   "outputs": [],
   "source": []
  }
 ],
 "metadata": {
  "kernelspec": {
   "display_name": "Python 3",
   "language": "python",
   "name": "python3"
  },
  "language_info": {
   "codemirror_mode": {
    "name": "ipython",
    "version": 3
   },
   "file_extension": ".py",
   "mimetype": "text/x-python",
   "name": "python",
   "nbconvert_exporter": "python",
   "pygments_lexer": "ipython3",
   "version": "3.8.8"
  }
 },
 "nbformat": 4,
 "nbformat_minor": 5
}

{
 "cells": [
  {
   "cell_type": "code",
   "execution_count": 15,
   "id": "fcabbe6f",
   "metadata": {},
   "outputs": [],
   "source": [
    "%matplotlib inline\n",
    "\n",
    "import numpy as np\n",
    "from tqdm import tqdm\n",
    "import matplotlib.pyplot as plt\n",
    "plt.rcParams['figure.dpi']=200\n"
   ]
  },
  {
   "cell_type": "code",
   "execution_count": 16,
   "id": "9c098e60-8247-429f-b999-9071365aae7c",
   "metadata": {},
   "outputs": [
    {
     "data": {
      "text/plain": [
       "42.23986794972206"
      ]
     },
     "execution_count": 16,
     "metadata": {},
     "output_type": "execute_result"
    }
   ],
   "source": [
    "# import the function we are trying to optimize\n",
    "import pickle\n",
    "gpr_model = pickle.load(open(\"gprMatern0.66.dump\",\"rb\"))\n",
    "normalizer = lambda X: (X - [103.16726412, 103.05644853, 122.86389106] )/ [3.54492885, 3.87407133, 3.28592364]\n",
    "func = lambda currents: gpr_model.predict(normalizer(currents.reshape(1, -1)))[0]\n",
    "func(np.array([110,110,120]))"
   ]
  },
  {
   "cell_type": "code",
   "execution_count": 17,
   "id": "f95baeb2",
   "metadata": {},
   "outputs": [],
   "source": [
    "class Venus:\n",
    "    def __init__(\n",
    "        self,\n",
    "        inj_limits=[97, 110],\n",
    "        mid_limits=[97, 110],\n",
    "        ext_limits=[116, 128],\n",
    "        beam_range=[0.50, 1.00],\n",
    "        jitter=0\n",
    "    ):\n",
    "        \"\"\"The limits on the magnetic solenoids currents and the beam range (ouput).\n",
    "        A random jitter can be added also (fraction of 1.).\"\"\"\n",
    "        self.inj_limits = inj_limits\n",
    "        self.mid_limits = mid_limits\n",
    "        self.ext_limits = ext_limits\n",
    "        self.beam_range = beam_range\n",
    "        self.currents = np.zeros(3)\n",
    "        self.jitter = jitter\n",
    "        self.rng = np.random.default_rng(42)\n",
    "\n",
    "    def set_mag_currents(self, inj, mid, ext):\n",
    "        \"\"\"Set the magnetic currents on the coils.\"\"\"\n",
    "        for v, lim in zip([inj, mid, ext], [self.inj_limits, self.mid_limits, self.ext_limits]):\n",
    "            if v < lim[0] or v > lim[1]:\n",
    "                raise ValueError(\"Setting outside limits\")\n",
    "        self.currents = np.array([inj, mid, ext])\n",
    "\n",
    "    def _rescale_inputs(self, inputs):\n",
    "        \"\"\"input to himmelblau4 must be in [-6, 6].\"\"\"\n",
    "        return (\n",
    "            (c - l[0]) * 12.0 / (l[1] - l[0]) - 6.0\n",
    "            for c, l in zip(inputs, [self.inj_limits, self.mid_limits, self.ext_limits])\n",
    "        )\n",
    "\n",
    "    def _rescale_output(self, output):\n",
    "        \"\"\"simple square returns values betwen 0 and 27 for w, x, y, z in [-6, 6].\"\"\"\n",
    "        return (\n",
    "            (1. - (output / 27.0) + self.rng.normal(0.0, self.jitter)) *\n",
    "            (self.beam_range[1] - self.beam_range[0]) + self.beam_range[0]\n",
    "        )\n",
    "    \n",
    "    def get_noise_level(self):\n",
    "        # return std of the noise\n",
    "        noise = self.jitter*(self.beam_range[1] - self.beam_range[0])\n",
    "        return noise\n",
    "\n",
    "    def get_beam_current(self):\n",
    "        \"\"\"Read the current value of the beam current\"\"\"\n",
    "        return func(self.currents)\n",
    "\n",
    "    @staticmethod\n",
    "    def _simple_square(w, x, y):\n",
    "        \"\"\"A not so funky 3 dimensional parameter space with a single minima.\"\"\"\n",
    "        return (\n",
    "            (w - 3.)**2 + (x - 3.)**2 + (y - 3.)**2\n",
    "        )"
   ]
  },
  {
   "cell_type": "markdown",
   "id": "11120a9a",
   "metadata": {},
   "source": [
    "create a venus object, defaults might be refined by values from Damon. For simpler algorithm the jitter can be set to 0 initially but it should work with a value larger than that in the end."
   ]
  },
  {
   "cell_type": "code",
   "execution_count": 18,
   "id": "e2fbb622",
   "metadata": {},
   "outputs": [],
   "source": [
    "venus = Venus(jitter=0.15)"
   ]
  },
  {
   "cell_type": "markdown",
   "id": "9a1c49e2",
   "metadata": {},
   "source": [
    "set the currents and read the beam value"
   ]
  },
  {
   "cell_type": "code",
   "execution_count": 19,
   "id": "182df4b0",
   "metadata": {},
   "outputs": [
    {
     "name": "stdout",
     "output_type": "stream",
     "text": [
      "99.8081477254076\n"
     ]
    }
   ],
   "source": [
    "venus.set_mag_currents(100, 100, 120)\n",
    "bc = venus.get_beam_current()\n",
    "print(bc)"
   ]
  },
  {
   "cell_type": "markdown",
   "id": "08ad2af8",
   "metadata": {},
   "source": [
    "if currents are outside the range a `ValueError` is raised and can be captured."
   ]
  },
  {
   "cell_type": "code",
   "execution_count": 20,
   "id": "7d180c10",
   "metadata": {},
   "outputs": [
    {
     "ename": "ValueError",
     "evalue": "Setting outside limits",
     "output_type": "error",
     "traceback": [
      "\u001b[0;31m---------------------------------------------------------------------------\u001b[0m",
      "\u001b[0;31mValueError\u001b[0m                                Traceback (most recent call last)",
      "\u001b[0;32m<ipython-input-20-ca1d21990887>\u001b[0m in \u001b[0;36m<module>\u001b[0;34m\u001b[0m\n\u001b[0;32m----> 1\u001b[0;31m \u001b[0mvenus\u001b[0m\u001b[0;34m.\u001b[0m\u001b[0mset_mag_currents\u001b[0m\u001b[0;34m(\u001b[0m\u001b[0;36m50\u001b[0m\u001b[0;34m,\u001b[0m \u001b[0;36m200\u001b[0m\u001b[0;34m,\u001b[0m \u001b[0;36m200\u001b[0m\u001b[0;34m)\u001b[0m\u001b[0;34m\u001b[0m\u001b[0;34m\u001b[0m\u001b[0m\n\u001b[0m",
      "\u001b[0;32m<ipython-input-17-240d287b2fc1>\u001b[0m in \u001b[0;36mset_mag_currents\u001b[0;34m(self, inj, mid, ext)\u001b[0m\n\u001b[1;32m     22\u001b[0m         \u001b[0;32mfor\u001b[0m \u001b[0mv\u001b[0m\u001b[0;34m,\u001b[0m \u001b[0mlim\u001b[0m \u001b[0;32min\u001b[0m \u001b[0mzip\u001b[0m\u001b[0;34m(\u001b[0m\u001b[0;34m[\u001b[0m\u001b[0minj\u001b[0m\u001b[0;34m,\u001b[0m \u001b[0mmid\u001b[0m\u001b[0;34m,\u001b[0m \u001b[0mext\u001b[0m\u001b[0;34m]\u001b[0m\u001b[0;34m,\u001b[0m \u001b[0;34m[\u001b[0m\u001b[0mself\u001b[0m\u001b[0;34m.\u001b[0m\u001b[0minj_limits\u001b[0m\u001b[0;34m,\u001b[0m \u001b[0mself\u001b[0m\u001b[0;34m.\u001b[0m\u001b[0mmid_limits\u001b[0m\u001b[0;34m,\u001b[0m \u001b[0mself\u001b[0m\u001b[0;34m.\u001b[0m\u001b[0mext_limits\u001b[0m\u001b[0;34m]\u001b[0m\u001b[0;34m)\u001b[0m\u001b[0;34m:\u001b[0m\u001b[0;34m\u001b[0m\u001b[0;34m\u001b[0m\u001b[0m\n\u001b[1;32m     23\u001b[0m             \u001b[0;32mif\u001b[0m \u001b[0mv\u001b[0m \u001b[0;34m<\u001b[0m \u001b[0mlim\u001b[0m\u001b[0;34m[\u001b[0m\u001b[0;36m0\u001b[0m\u001b[0;34m]\u001b[0m \u001b[0;32mor\u001b[0m \u001b[0mv\u001b[0m \u001b[0;34m>\u001b[0m \u001b[0mlim\u001b[0m\u001b[0;34m[\u001b[0m\u001b[0;36m1\u001b[0m\u001b[0;34m]\u001b[0m\u001b[0;34m:\u001b[0m\u001b[0;34m\u001b[0m\u001b[0;34m\u001b[0m\u001b[0m\n\u001b[0;32m---> 24\u001b[0;31m                 \u001b[0;32mraise\u001b[0m \u001b[0mValueError\u001b[0m\u001b[0;34m(\u001b[0m\u001b[0;34m\"Setting outside limits\"\u001b[0m\u001b[0;34m)\u001b[0m\u001b[0;34m\u001b[0m\u001b[0;34m\u001b[0m\u001b[0m\n\u001b[0m\u001b[1;32m     25\u001b[0m         \u001b[0mself\u001b[0m\u001b[0;34m.\u001b[0m\u001b[0mcurrents\u001b[0m \u001b[0;34m=\u001b[0m \u001b[0mnp\u001b[0m\u001b[0;34m.\u001b[0m\u001b[0marray\u001b[0m\u001b[0;34m(\u001b[0m\u001b[0;34m[\u001b[0m\u001b[0minj\u001b[0m\u001b[0;34m,\u001b[0m \u001b[0mmid\u001b[0m\u001b[0;34m,\u001b[0m \u001b[0mext\u001b[0m\u001b[0;34m]\u001b[0m\u001b[0;34m)\u001b[0m\u001b[0;34m\u001b[0m\u001b[0;34m\u001b[0m\u001b[0m\n\u001b[1;32m     26\u001b[0m \u001b[0;34m\u001b[0m\u001b[0m\n",
      "\u001b[0;31mValueError\u001b[0m: Setting outside limits"
     ]
    }
   ],
   "source": [
    "venus.set_mag_currents(50, 200, 200)"
   ]
  },
  {
   "cell_type": "markdown",
   "id": "193aacdc-9109-4165-abe8-a160bfc1830d",
   "metadata": {},
   "source": [
    "# Bayesian Optimization"
   ]
  },
  {
   "cell_type": "code",
   "execution_count": 21,
   "id": "e9c59706",
   "metadata": {},
   "outputs": [
    {
     "name": "stdout",
     "output_type": "stream",
     "text": [
      "|   iter    |  target   |     A     |     B     |     C     |\n",
      "-------------------------------------------------------------\n",
      "| \u001b[0m 1       \u001b[0m | \u001b[0m 29.78   \u001b[0m | \u001b[0m 108.2   \u001b[0m | \u001b[0m 100.7   \u001b[0m | \u001b[0m 116.9   \u001b[0m |\n",
      "| \u001b[95m 2       \u001b[0m | \u001b[95m 75.98   \u001b[0m | \u001b[95m 106.9   \u001b[0m | \u001b[95m 102.9   \u001b[0m | \u001b[95m 122.5   \u001b[0m |\n",
      "| \u001b[95m 3       \u001b[0m | \u001b[95m 116.3   \u001b[0m | \u001b[95m 106.4   \u001b[0m | \u001b[95m 108.0   \u001b[0m | \u001b[95m 125.2   \u001b[0m |\n",
      "| \u001b[0m 4       \u001b[0m | \u001b[0m 94.33   \u001b[0m | \u001b[0m 106.5   \u001b[0m | \u001b[0m 100.1   \u001b[0m | \u001b[0m 124.6   \u001b[0m |\n",
      "| \u001b[0m 5       \u001b[0m | \u001b[0m 100.2   \u001b[0m | \u001b[0m 97.76   \u001b[0m | \u001b[0m 102.3   \u001b[0m | \u001b[0m 123.3   \u001b[0m |\n",
      "| \u001b[0m 6       \u001b[0m | \u001b[0m 62.41   \u001b[0m | \u001b[0m 101.1   \u001b[0m | \u001b[0m 109.1   \u001b[0m | \u001b[0m 128.0   \u001b[0m |\n",
      "| \u001b[0m 7       \u001b[0m | \u001b[0m 86.73   \u001b[0m | \u001b[0m 102.8   \u001b[0m | \u001b[0m 108.4   \u001b[0m | \u001b[0m 122.6   \u001b[0m |\n",
      "| \u001b[95m 8       \u001b[0m | \u001b[95m 118.2   \u001b[0m | \u001b[95m 105.8   \u001b[0m | \u001b[95m 104.6   \u001b[0m | \u001b[95m 127.8   \u001b[0m |\n",
      "| \u001b[0m 9       \u001b[0m | \u001b[0m 98.57   \u001b[0m | \u001b[0m 110.0   \u001b[0m | \u001b[0m 106.8   \u001b[0m | \u001b[0m 128.0   \u001b[0m |\n",
      "| \u001b[0m 10      \u001b[0m | \u001b[0m 81.35   \u001b[0m | \u001b[0m 101.9   \u001b[0m | \u001b[0m 99.82   \u001b[0m | \u001b[0m 128.0   \u001b[0m |\n",
      "| \u001b[0m 11      \u001b[0m | \u001b[0m 58.25   \u001b[0m | \u001b[0m 110.0   \u001b[0m | \u001b[0m 109.9   \u001b[0m | \u001b[0m 123.4   \u001b[0m |\n",
      "| \u001b[0m 12      \u001b[0m | \u001b[0m 89.23   \u001b[0m | \u001b[0m 106.7   \u001b[0m | \u001b[0m 107.1   \u001b[0m | \u001b[0m 127.4   \u001b[0m |\n",
      "| \u001b[95m 13      \u001b[0m | \u001b[95m 134.4   \u001b[0m | \u001b[95m 105.6   \u001b[0m | \u001b[95m 105.0   \u001b[0m | \u001b[95m 126.5   \u001b[0m |\n",
      "| \u001b[0m 14      \u001b[0m | \u001b[0m 125.1   \u001b[0m | \u001b[0m 104.9   \u001b[0m | \u001b[0m 105.8   \u001b[0m | \u001b[0m 125.2   \u001b[0m |\n",
      "| \u001b[95m 15      \u001b[0m | \u001b[95m 137.9   \u001b[0m | \u001b[95m 104.0   \u001b[0m | \u001b[95m 103.7   \u001b[0m | \u001b[95m 126.1   \u001b[0m |\n",
      "| \u001b[0m 16      \u001b[0m | \u001b[0m 122.5   \u001b[0m | \u001b[0m 102.2   \u001b[0m | \u001b[0m 103.9   \u001b[0m | \u001b[0m 124.8   \u001b[0m |\n",
      "| \u001b[0m 17      \u001b[0m | \u001b[0m 44.97   \u001b[0m | \u001b[0m 97.0    \u001b[0m | \u001b[0m 97.0    \u001b[0m | \u001b[0m 116.0   \u001b[0m |\n",
      "| \u001b[0m 18      \u001b[0m | \u001b[0m 87.22   \u001b[0m | \u001b[0m 97.0    \u001b[0m | \u001b[0m 110.0   \u001b[0m | \u001b[0m 116.0   \u001b[0m |\n",
      "| \u001b[0m 19      \u001b[0m | \u001b[0m 79.19   \u001b[0m | \u001b[0m 110.0   \u001b[0m | \u001b[0m 101.1   \u001b[0m | \u001b[0m 128.0   \u001b[0m |\n",
      "| \u001b[0m 20      \u001b[0m | \u001b[0m 118.4   \u001b[0m | \u001b[0m 103.4   \u001b[0m | \u001b[0m 104.2   \u001b[0m | \u001b[0m 127.3   \u001b[0m |\n",
      "| \u001b[95m 21      \u001b[0m | \u001b[95m 143.2   \u001b[0m | \u001b[95m 104.9   \u001b[0m | \u001b[95m 103.5   \u001b[0m | \u001b[95m 125.6   \u001b[0m |\n",
      "| \u001b[0m 22      \u001b[0m | \u001b[0m 143.2   \u001b[0m | \u001b[0m 105.0   \u001b[0m | \u001b[0m 103.1   \u001b[0m | \u001b[0m 125.9   \u001b[0m |\n",
      "| \u001b[0m 23      \u001b[0m | \u001b[0m 85.09   \u001b[0m | \u001b[0m 97.0    \u001b[0m | \u001b[0m 97.0    \u001b[0m | \u001b[0m 128.0   \u001b[0m |\n",
      "| \u001b[0m 24      \u001b[0m | \u001b[0m 140.3   \u001b[0m | \u001b[0m 104.4   \u001b[0m | \u001b[0m 103.7   \u001b[0m | \u001b[0m 124.9   \u001b[0m |\n",
      "| \u001b[0m 25      \u001b[0m | \u001b[0m 135.4   \u001b[0m | \u001b[0m 104.0   \u001b[0m | \u001b[0m 102.6   \u001b[0m | \u001b[0m 125.3   \u001b[0m |\n",
      "=============================================================\n",
      "Best result: {'A': 104.85190435045695, 'B': 103.49913631361805, 'C': 125.55856548375117}; f(x) = 143.24285053321537.\n"
     ]
    }
   ],
   "source": [
    "from bayes_opt import BayesianOptimization, UtilityFunction\n",
    "import warnings\n",
    "warnings.filterwarnings(\"ignore\")\n",
    "\n",
    "# Define the black box function to optimize.\n",
    "def black_box_function(A, B, C):\n",
    "    # C: SVC hyper parameter to optimize for.\n",
    "    venus.set_mag_currents(A, B, C)\n",
    "    v = venus.get_beam_current()\n",
    "    return v\n",
    "\n",
    "# Set range of C to optimize for.\n",
    "# bayes_opt requires this to be a dictionary.\n",
    "pbounds = {\"A\": [97, 110], \"B\": [97, 110], \"C\": [116, 128]}\n",
    "# Create a BayesianOptimization optimizer,\n",
    "# and optimize the given black_box_function.\n",
    "optimizer = BayesianOptimization(f = black_box_function,\n",
    "                                 pbounds = pbounds, verbose = 2,\n",
    "                                 random_state = 29)\n",
    "optimizer.maximize(init_points = 5, n_iter = 20, kappa=2.3, alpha=0.15)\n",
    "print(\"Best result: {}; f(x) = {}.\".format(optimizer.max[\"params\"], optimizer.max[\"target\"]))"
   ]
  },
  {
   "cell_type": "code",
   "execution_count": 31,
   "id": "940a04dc-f4b7-4719-beab-cb11dff501a2",
   "metadata": {},
   "outputs": [
    {
     "data": {
      "text/plain": [
       "0.030563159973920874"
      ]
     },
     "execution_count": 31,
     "metadata": {},
     "output_type": "execute_result"
    }
   ],
   "source": [
    "import random\n",
    "# try a certain times and see how many converges\n",
    "CUTOFF = 140\n",
    "def trial(N, n_iter = 15, init_points = 5, kappa = 3, verbose = 0, rand_adder = 0):\n",
    "    # higher kappa prefers exploration\n",
    "    # initial points are randomly chosen within bounds\n",
    "    # rand_adder is to make sure we probe some different randstates in each trial\n",
    "    # rand_adder = random.randint(1,1000)\n",
    "    results = []\n",
    "    coords = []\n",
    "    pbounds = {\"A\": [97, 110], \"B\": [97, 110], \"C\": [116, 128]}\n",
    "    noise = 0.15 # max(venus.get_noise_level(), 1e-5)\n",
    "    print(noise)\n",
    "\n",
    "    for i in tqdm(range(N)):\n",
    "        # Create a BayesianOptimization optimizer,\n",
    "        # and optimize the given black_box_function.\n",
    "        optimizer = BayesianOptimization(f = black_box_function,\n",
    "                                         pbounds = pbounds, verbose = 0)\n",
    "                                         # random_state = i+rand_adder)\n",
    "        optimizer.maximize(init_points = init_points, n_iter = n_iter, kappa=kappa, alpha=noise) # \n",
    "        if verbose>1:\n",
    "            print(\"Best result: {}; f(x) = {}.\".format(optimizer.max[\"params\"], optimizer.max[\"target\"]))\n",
    "        results.append(optimizer.max[\"target\"])\n",
    "        coords.append(optimizer.max[\"params\"])\n",
    "        del optimizer\n",
    "    \n",
    "    plt.title(\"n_iter = {}, init_points = {}, kappa = {}\".format(n_iter, init_points, kappa))\n",
    "    plt.hist(results)\n",
    "    plt.show()\n",
    "    \n",
    "    plt.scatter([coords[i]['A'] for i in range(len(coords))], [coords[i]['B'] for i in range(len(coords))]) #, [coords[i]['C'] for i in range(len(coords))]\n",
    "    plt.xlim(pbounds['A'][0], pbounds['A'][1])\n",
    "    plt.ylim(pbounds['B'][0], pbounds['B'][1])\n",
    "    # ax.set_zlim3d(pbounds['C'][0], pbounds['C'][1])\n",
    "    \n",
    "    plt.show()\n",
    "    if verbose > 0:\n",
    "        print(list(reversed(sorted(results))))   \n",
    "def trial2(N, n_iter = 15, init_points = 5, kappa = 3, verbose = 0, rand_adder = 0):\n",
    "    # higher kappa prefers exploration\n",
    "    # initial points are randomly chosen within bounds\n",
    "    # rand_adder is to make sure we probe some different randstates in each trial\n",
    "    # rand_adder = random.randint(1,1000)\n",
    "    results = []\n",
    "    coords = []\n",
    "    pbounds = {\"A\": [97, 110], \"B\": [97, 110], \"C\": [116, 128]}\n",
    "    noise = max(venus.get_noise_level(), 1e-5)\n",
    "    \n",
    "    for i in tqdm(range(N)):\n",
    "        # Create a BayesianOptimization optimizer,\n",
    "        # and optimize the given black_box_function.\n",
    "        optimizer = BayesianOptimization(f = black_box_function,\n",
    "                                         pbounds = pbounds, verbose = 0)\n",
    "                                         # random_state = i+rand_adder)\n",
    "        optimizer.maximize(init_points = init_points, n_iter = n_iter, kappa=kappa, alpha=noise) # \n",
    "        if verbose>1:\n",
    "            print(\"Best result: {}; f(x) = {}.\".format(optimizer.max[\"params\"], optimizer.max[\"target\"]))\n",
    "        results.append(optimizer.max[\"target\"])\n",
    "        coords.append(optimizer.max[\"params\"])\n",
    "        del optimizer\n",
    "    # print(\"Results:\", results)\n",
    "    n_succ = sum([i>=CUTOFF for i in results]) / len(results)\n",
    "    return n_succ, results\n",
    "\n",
    "# Fair coin problem\n",
    "# prior is f(p) = 1 for p in range [0,1]  \n",
    "# observation O is H positive in N trials  \n",
    "# ask: what is the posterior f(p|O)\n",
    "# f(p|O) = Pr(O|p) * f(p) / Pr(O) = Pr(O|p) * f(p) * const.\n",
    "# f(p|O) ~ p^H * (1-p)^(N-H)\n",
    "# var(p|O) = E((p|O)^2) - E(p|O)^2\n",
    "#          = [continued in mathematica \"Parameter Exploration - Theory and Simulation/FairCoinProb Posterior.nb\"]\n",
    "def FairCoinVar(H, N):\n",
    "    return (1 - H**2 + N + H * N)/((2 + N)**2 * (3 + N))\n",
    "FairCoinVar(10, 100) ** (1/2)\n",
    "\n",
    "# TODO; double check this equatio with Marco"
   ]
  },
  {
   "cell_type": "code",
   "execution_count": 23,
   "id": "9c64a110-27ba-4ce8-9017-24c30608969f",
   "metadata": {},
   "outputs": [
    {
     "name": "stderr",
     "output_type": "stream",
     "text": [
      "100%|██████████| 10/10 [00:07<00:00,  1.31it/s]\n"
     ]
    },
    {
     "data": {
      "text/plain": [
       "(0.3,\n",
       " [137.67657799559476,\n",
       "  142.06922017611203,\n",
       "  138.1942036509884,\n",
       "  146.00257881589897,\n",
       "  128.3669949995407,\n",
       "  141.12610381900484,\n",
       "  132.0072655336598,\n",
       "  110.34123458857945,\n",
       "  133.27694668293353,\n",
       "  118.69560858502705])"
      ]
     },
     "execution_count": 23,
     "metadata": {},
     "output_type": "execute_result"
    }
   ],
   "source": [
    "trial2(10, n_iter = 10, init_points = 5, kappa = 2.3, verbose = 0)"
   ]
  },
  {
   "cell_type": "code",
   "execution_count": 68,
   "id": "2aebfb9b-72e7-45bf-8336-4e1df5918955",
   "metadata": {},
   "outputs": [
    {
     "name": "stderr",
     "output_type": "stream",
     "text": [
      "  1%|          | 3/300 [00:10<18:08,  3.67s/it]\n"
     ]
    },
    {
     "ename": "KeyboardInterrupt",
     "evalue": "",
     "output_type": "error",
     "traceback": [
      "\u001b[0;31m---------------------------------------------------------------------------\u001b[0m",
      "\u001b[0;31mStopIteration\u001b[0m                             Traceback (most recent call last)",
      "\u001b[0;32m/usr/local/anaconda3/lib/python3.8/site-packages/bayes_opt/bayesian_optimization.py\u001b[0m in \u001b[0;36mmaximize\u001b[0;34m(self, init_points, n_iter, acq, kappa, xi, **gp_params)\u001b[0m\n\u001b[1;32m    168\u001b[0m             \u001b[0;32mtry\u001b[0m\u001b[0;34m:\u001b[0m\u001b[0;34m\u001b[0m\u001b[0;34m\u001b[0m\u001b[0m\n\u001b[0;32m--> 169\u001b[0;31m                 \u001b[0mx_probe\u001b[0m \u001b[0;34m=\u001b[0m \u001b[0mnext\u001b[0m\u001b[0;34m(\u001b[0m\u001b[0mself\u001b[0m\u001b[0;34m.\u001b[0m\u001b[0m_queue\u001b[0m\u001b[0;34m)\u001b[0m\u001b[0;34m\u001b[0m\u001b[0;34m\u001b[0m\u001b[0m\n\u001b[0m\u001b[1;32m    170\u001b[0m             \u001b[0;32mexcept\u001b[0m \u001b[0mStopIteration\u001b[0m\u001b[0;34m:\u001b[0m\u001b[0;34m\u001b[0m\u001b[0;34m\u001b[0m\u001b[0m\n",
      "\u001b[0;32m/usr/local/anaconda3/lib/python3.8/site-packages/bayes_opt/bayesian_optimization.py\u001b[0m in \u001b[0;36m__next__\u001b[0;34m(self)\u001b[0m\n\u001b[1;32m     25\u001b[0m         \u001b[0;32mif\u001b[0m \u001b[0mself\u001b[0m\u001b[0;34m.\u001b[0m\u001b[0mempty\u001b[0m\u001b[0;34m:\u001b[0m\u001b[0;34m\u001b[0m\u001b[0;34m\u001b[0m\u001b[0m\n\u001b[0;32m---> 26\u001b[0;31m             \u001b[0;32mraise\u001b[0m \u001b[0mStopIteration\u001b[0m\u001b[0;34m(\u001b[0m\u001b[0;34m\"Queue is empty, no more objects to retrieve.\"\u001b[0m\u001b[0;34m)\u001b[0m\u001b[0;34m\u001b[0m\u001b[0;34m\u001b[0m\u001b[0m\n\u001b[0m\u001b[1;32m     27\u001b[0m         \u001b[0mobj\u001b[0m \u001b[0;34m=\u001b[0m \u001b[0mself\u001b[0m\u001b[0;34m.\u001b[0m\u001b[0m_queue\u001b[0m\u001b[0;34m[\u001b[0m\u001b[0;36m0\u001b[0m\u001b[0;34m]\u001b[0m\u001b[0;34m\u001b[0m\u001b[0;34m\u001b[0m\u001b[0m\n",
      "\u001b[0;31mStopIteration\u001b[0m: Queue is empty, no more objects to retrieve.",
      "\nDuring handling of the above exception, another exception occurred:\n",
      "\u001b[0;31mKeyboardInterrupt\u001b[0m                         Traceback (most recent call last)",
      "\u001b[0;32m<ipython-input-68-2d6510cc8d79>\u001b[0m in \u001b[0;36m<module>\u001b[0;34m\u001b[0m\n\u001b[1;32m      5\u001b[0m \u001b[0mkappas\u001b[0m \u001b[0;34m=\u001b[0m \u001b[0mnp\u001b[0m\u001b[0;34m.\u001b[0m\u001b[0mlinspace\u001b[0m\u001b[0;34m(\u001b[0m\u001b[0;36m1.5\u001b[0m\u001b[0;34m,\u001b[0m \u001b[0;36m4\u001b[0m\u001b[0;34m,\u001b[0m \u001b[0;36m10\u001b[0m\u001b[0;34m)\u001b[0m\u001b[0;34m\u001b[0m\u001b[0;34m\u001b[0m\u001b[0m\n\u001b[1;32m      6\u001b[0m \u001b[0;32mfor\u001b[0m \u001b[0mkappa\u001b[0m \u001b[0;32min\u001b[0m \u001b[0mkappas\u001b[0m\u001b[0;34m:\u001b[0m\u001b[0;34m\u001b[0m\u001b[0;34m\u001b[0m\u001b[0m\n\u001b[0;32m----> 7\u001b[0;31m     \u001b[0msucc_rate\u001b[0m\u001b[0;34m,\u001b[0m \u001b[0mresults\u001b[0m \u001b[0;34m=\u001b[0m \u001b[0mtrial2\u001b[0m\u001b[0;34m(\u001b[0m\u001b[0mREPEATS\u001b[0m\u001b[0;34m,\u001b[0m \u001b[0mn_iter\u001b[0m \u001b[0;34m=\u001b[0m \u001b[0mN_ITER\u001b[0m\u001b[0;34m,\u001b[0m \u001b[0minit_points\u001b[0m \u001b[0;34m=\u001b[0m \u001b[0;36m3\u001b[0m\u001b[0;34m,\u001b[0m \u001b[0mkappa\u001b[0m \u001b[0;34m=\u001b[0m \u001b[0mkappa\u001b[0m\u001b[0;34m,\u001b[0m \u001b[0mverbose\u001b[0m \u001b[0;34m=\u001b[0m \u001b[0;36m0\u001b[0m\u001b[0;34m)\u001b[0m\u001b[0;34m\u001b[0m\u001b[0;34m\u001b[0m\u001b[0m\n\u001b[0m\u001b[1;32m      8\u001b[0m     \u001b[0msucc_rates\u001b[0m\u001b[0;34m.\u001b[0m\u001b[0mappend\u001b[0m\u001b[0;34m(\u001b[0m\u001b[0msucc_rate\u001b[0m\u001b[0;34m)\u001b[0m\u001b[0;34m\u001b[0m\u001b[0;34m\u001b[0m\u001b[0m\n\u001b[1;32m      9\u001b[0m     \u001b[0mresults_list\u001b[0m\u001b[0;34m.\u001b[0m\u001b[0mappend\u001b[0m\u001b[0;34m(\u001b[0m\u001b[0mresults\u001b[0m\u001b[0;34m)\u001b[0m\u001b[0;34m\u001b[0m\u001b[0;34m\u001b[0m\u001b[0m\n",
      "\u001b[0;32m<ipython-input-31-82bd98451177>\u001b[0m in \u001b[0;36mtrial2\u001b[0;34m(N, n_iter, init_points, kappa, verbose, rand_adder)\u001b[0m\n\u001b[1;32m     54\u001b[0m                                          pbounds = pbounds, verbose = 0)\n\u001b[1;32m     55\u001b[0m                                          \u001b[0;31m# random_state = i+rand_adder)\u001b[0m\u001b[0;34m\u001b[0m\u001b[0;34m\u001b[0m\u001b[0;34m\u001b[0m\u001b[0m\n\u001b[0;32m---> 56\u001b[0;31m         \u001b[0moptimizer\u001b[0m\u001b[0;34m.\u001b[0m\u001b[0mmaximize\u001b[0m\u001b[0;34m(\u001b[0m\u001b[0minit_points\u001b[0m \u001b[0;34m=\u001b[0m \u001b[0minit_points\u001b[0m\u001b[0;34m,\u001b[0m \u001b[0mn_iter\u001b[0m \u001b[0;34m=\u001b[0m \u001b[0mn_iter\u001b[0m\u001b[0;34m,\u001b[0m \u001b[0mkappa\u001b[0m\u001b[0;34m=\u001b[0m\u001b[0mkappa\u001b[0m\u001b[0;34m,\u001b[0m \u001b[0malpha\u001b[0m\u001b[0;34m=\u001b[0m\u001b[0mnoise\u001b[0m\u001b[0;34m)\u001b[0m \u001b[0;31m#\u001b[0m\u001b[0;34m\u001b[0m\u001b[0;34m\u001b[0m\u001b[0m\n\u001b[0m\u001b[1;32m     57\u001b[0m         \u001b[0;32mif\u001b[0m \u001b[0mverbose\u001b[0m\u001b[0;34m>\u001b[0m\u001b[0;36m1\u001b[0m\u001b[0;34m:\u001b[0m\u001b[0;34m\u001b[0m\u001b[0;34m\u001b[0m\u001b[0m\n\u001b[1;32m     58\u001b[0m             \u001b[0mprint\u001b[0m\u001b[0;34m(\u001b[0m\u001b[0;34m\"Best result: {}; f(x) = {}.\"\u001b[0m\u001b[0;34m.\u001b[0m\u001b[0mformat\u001b[0m\u001b[0;34m(\u001b[0m\u001b[0moptimizer\u001b[0m\u001b[0;34m.\u001b[0m\u001b[0mmax\u001b[0m\u001b[0;34m[\u001b[0m\u001b[0;34m\"params\"\u001b[0m\u001b[0;34m]\u001b[0m\u001b[0;34m,\u001b[0m \u001b[0moptimizer\u001b[0m\u001b[0;34m.\u001b[0m\u001b[0mmax\u001b[0m\u001b[0;34m[\u001b[0m\u001b[0;34m\"target\"\u001b[0m\u001b[0;34m]\u001b[0m\u001b[0;34m)\u001b[0m\u001b[0;34m)\u001b[0m\u001b[0;34m\u001b[0m\u001b[0;34m\u001b[0m\u001b[0m\n",
      "\u001b[0;32m/usr/local/anaconda3/lib/python3.8/site-packages/bayes_opt/bayesian_optimization.py\u001b[0m in \u001b[0;36mmaximize\u001b[0;34m(self, init_points, n_iter, acq, kappa, xi, **gp_params)\u001b[0m\n\u001b[1;32m    169\u001b[0m                 \u001b[0mx_probe\u001b[0m \u001b[0;34m=\u001b[0m \u001b[0mnext\u001b[0m\u001b[0;34m(\u001b[0m\u001b[0mself\u001b[0m\u001b[0;34m.\u001b[0m\u001b[0m_queue\u001b[0m\u001b[0;34m)\u001b[0m\u001b[0;34m\u001b[0m\u001b[0;34m\u001b[0m\u001b[0m\n\u001b[1;32m    170\u001b[0m             \u001b[0;32mexcept\u001b[0m \u001b[0mStopIteration\u001b[0m\u001b[0;34m:\u001b[0m\u001b[0;34m\u001b[0m\u001b[0;34m\u001b[0m\u001b[0m\n\u001b[0;32m--> 171\u001b[0;31m                 \u001b[0mx_probe\u001b[0m \u001b[0;34m=\u001b[0m \u001b[0mself\u001b[0m\u001b[0;34m.\u001b[0m\u001b[0msuggest\u001b[0m\u001b[0;34m(\u001b[0m\u001b[0mutil\u001b[0m\u001b[0;34m)\u001b[0m\u001b[0;34m\u001b[0m\u001b[0;34m\u001b[0m\u001b[0m\n\u001b[0m\u001b[1;32m    172\u001b[0m                 \u001b[0miteration\u001b[0m \u001b[0;34m+=\u001b[0m \u001b[0;36m1\u001b[0m\u001b[0;34m\u001b[0m\u001b[0;34m\u001b[0m\u001b[0m\n\u001b[1;32m    173\u001b[0m \u001b[0;34m\u001b[0m\u001b[0m\n",
      "\u001b[0;32m/usr/local/anaconda3/lib/python3.8/site-packages/bayes_opt/bayesian_optimization.py\u001b[0m in \u001b[0;36msuggest\u001b[0;34m(self, utility_function)\u001b[0m\n\u001b[1;32m    122\u001b[0m         \u001b[0;32mwith\u001b[0m \u001b[0mwarnings\u001b[0m\u001b[0;34m.\u001b[0m\u001b[0mcatch_warnings\u001b[0m\u001b[0;34m(\u001b[0m\u001b[0;34m)\u001b[0m\u001b[0;34m:\u001b[0m\u001b[0;34m\u001b[0m\u001b[0;34m\u001b[0m\u001b[0m\n\u001b[1;32m    123\u001b[0m             \u001b[0mwarnings\u001b[0m\u001b[0;34m.\u001b[0m\u001b[0msimplefilter\u001b[0m\u001b[0;34m(\u001b[0m\u001b[0;34m\"ignore\"\u001b[0m\u001b[0;34m)\u001b[0m\u001b[0;34m\u001b[0m\u001b[0;34m\u001b[0m\u001b[0m\n\u001b[0;32m--> 124\u001b[0;31m             \u001b[0mself\u001b[0m\u001b[0;34m.\u001b[0m\u001b[0m_gp\u001b[0m\u001b[0;34m.\u001b[0m\u001b[0mfit\u001b[0m\u001b[0;34m(\u001b[0m\u001b[0mself\u001b[0m\u001b[0;34m.\u001b[0m\u001b[0m_space\u001b[0m\u001b[0;34m.\u001b[0m\u001b[0mparams\u001b[0m\u001b[0;34m,\u001b[0m \u001b[0mself\u001b[0m\u001b[0;34m.\u001b[0m\u001b[0m_space\u001b[0m\u001b[0;34m.\u001b[0m\u001b[0mtarget\u001b[0m\u001b[0;34m)\u001b[0m\u001b[0;34m\u001b[0m\u001b[0;34m\u001b[0m\u001b[0m\n\u001b[0m\u001b[1;32m    125\u001b[0m \u001b[0;34m\u001b[0m\u001b[0m\n\u001b[1;32m    126\u001b[0m         \u001b[0;31m# Finding argmax of the acquisition function.\u001b[0m\u001b[0;34m\u001b[0m\u001b[0;34m\u001b[0m\u001b[0;34m\u001b[0m\u001b[0m\n",
      "\u001b[0;32m/usr/local/anaconda3/lib/python3.8/site-packages/sklearn/gaussian_process/_gpr.py\u001b[0m in \u001b[0;36mfit\u001b[0;34m(self, X, y)\u001b[0m\n\u001b[1;32m    252\u001b[0m                         \u001b[0mself\u001b[0m\u001b[0;34m.\u001b[0m\u001b[0m_rng\u001b[0m\u001b[0;34m.\u001b[0m\u001b[0muniform\u001b[0m\u001b[0;34m(\u001b[0m\u001b[0mbounds\u001b[0m\u001b[0;34m[\u001b[0m\u001b[0;34m:\u001b[0m\u001b[0;34m,\u001b[0m \u001b[0;36m0\u001b[0m\u001b[0;34m]\u001b[0m\u001b[0;34m,\u001b[0m \u001b[0mbounds\u001b[0m\u001b[0;34m[\u001b[0m\u001b[0;34m:\u001b[0m\u001b[0;34m,\u001b[0m \u001b[0;36m1\u001b[0m\u001b[0;34m]\u001b[0m\u001b[0;34m)\u001b[0m\u001b[0;34m\u001b[0m\u001b[0;34m\u001b[0m\u001b[0m\n\u001b[1;32m    253\u001b[0m                     optima.append(\n\u001b[0;32m--> 254\u001b[0;31m                         self._constrained_optimization(obj_func, theta_initial,\n\u001b[0m\u001b[1;32m    255\u001b[0m                                                        bounds))\n\u001b[1;32m    256\u001b[0m             \u001b[0;31m# Select result from run with minimal (negative) log-marginal\u001b[0m\u001b[0;34m\u001b[0m\u001b[0;34m\u001b[0m\u001b[0;34m\u001b[0m\u001b[0m\n",
      "\u001b[0;32m/usr/local/anaconda3/lib/python3.8/site-packages/sklearn/gaussian_process/_gpr.py\u001b[0m in \u001b[0;36m_constrained_optimization\u001b[0;34m(self, obj_func, initial_theta, bounds)\u001b[0m\n\u001b[1;32m    501\u001b[0m     \u001b[0;32mdef\u001b[0m \u001b[0m_constrained_optimization\u001b[0m\u001b[0;34m(\u001b[0m\u001b[0mself\u001b[0m\u001b[0;34m,\u001b[0m \u001b[0mobj_func\u001b[0m\u001b[0;34m,\u001b[0m \u001b[0minitial_theta\u001b[0m\u001b[0;34m,\u001b[0m \u001b[0mbounds\u001b[0m\u001b[0;34m)\u001b[0m\u001b[0;34m:\u001b[0m\u001b[0;34m\u001b[0m\u001b[0;34m\u001b[0m\u001b[0m\n\u001b[1;32m    502\u001b[0m         \u001b[0;32mif\u001b[0m \u001b[0mself\u001b[0m\u001b[0;34m.\u001b[0m\u001b[0moptimizer\u001b[0m \u001b[0;34m==\u001b[0m \u001b[0;34m\"fmin_l_bfgs_b\"\u001b[0m\u001b[0;34m:\u001b[0m\u001b[0;34m\u001b[0m\u001b[0;34m\u001b[0m\u001b[0m\n\u001b[0;32m--> 503\u001b[0;31m             opt_res = scipy.optimize.minimize(\n\u001b[0m\u001b[1;32m    504\u001b[0m                 \u001b[0mobj_func\u001b[0m\u001b[0;34m,\u001b[0m \u001b[0minitial_theta\u001b[0m\u001b[0;34m,\u001b[0m \u001b[0mmethod\u001b[0m\u001b[0;34m=\u001b[0m\u001b[0;34m\"L-BFGS-B\"\u001b[0m\u001b[0;34m,\u001b[0m \u001b[0mjac\u001b[0m\u001b[0;34m=\u001b[0m\u001b[0;32mTrue\u001b[0m\u001b[0;34m,\u001b[0m\u001b[0;34m\u001b[0m\u001b[0;34m\u001b[0m\u001b[0m\n\u001b[1;32m    505\u001b[0m                 bounds=bounds)\n",
      "\u001b[0;32m/usr/local/anaconda3/lib/python3.8/site-packages/scipy/optimize/_minimize.py\u001b[0m in \u001b[0;36mminimize\u001b[0;34m(fun, x0, args, method, jac, hess, hessp, bounds, constraints, tol, callback, options)\u001b[0m\n\u001b[1;32m    617\u001b[0m                                   **options)\n\u001b[1;32m    618\u001b[0m     \u001b[0;32melif\u001b[0m \u001b[0mmeth\u001b[0m \u001b[0;34m==\u001b[0m \u001b[0;34m'l-bfgs-b'\u001b[0m\u001b[0;34m:\u001b[0m\u001b[0;34m\u001b[0m\u001b[0;34m\u001b[0m\u001b[0m\n\u001b[0;32m--> 619\u001b[0;31m         return _minimize_lbfgsb(fun, x0, args, jac, bounds,\n\u001b[0m\u001b[1;32m    620\u001b[0m                                 callback=callback, **options)\n\u001b[1;32m    621\u001b[0m     \u001b[0;32melif\u001b[0m \u001b[0mmeth\u001b[0m \u001b[0;34m==\u001b[0m \u001b[0;34m'tnc'\u001b[0m\u001b[0;34m:\u001b[0m\u001b[0;34m\u001b[0m\u001b[0;34m\u001b[0m\u001b[0m\n",
      "\u001b[0;32m/usr/local/anaconda3/lib/python3.8/site-packages/scipy/optimize/lbfgsb.py\u001b[0m in \u001b[0;36m_minimize_lbfgsb\u001b[0;34m(fun, x0, args, jac, bounds, disp, maxcor, ftol, gtol, eps, maxfun, maxiter, iprint, callback, maxls, finite_diff_rel_step, **unknown_options)\u001b[0m\n\u001b[1;32m    358\u001b[0m             \u001b[0;31m# until the completion of the current minimization iteration.\u001b[0m\u001b[0;34m\u001b[0m\u001b[0;34m\u001b[0m\u001b[0;34m\u001b[0m\u001b[0m\n\u001b[1;32m    359\u001b[0m             \u001b[0;31m# Overwrite f and g:\u001b[0m\u001b[0;34m\u001b[0m\u001b[0;34m\u001b[0m\u001b[0;34m\u001b[0m\u001b[0m\n\u001b[0;32m--> 360\u001b[0;31m             \u001b[0mf\u001b[0m\u001b[0;34m,\u001b[0m \u001b[0mg\u001b[0m \u001b[0;34m=\u001b[0m \u001b[0mfunc_and_grad\u001b[0m\u001b[0;34m(\u001b[0m\u001b[0mx\u001b[0m\u001b[0;34m)\u001b[0m\u001b[0;34m\u001b[0m\u001b[0;34m\u001b[0m\u001b[0m\n\u001b[0m\u001b[1;32m    361\u001b[0m         \u001b[0;32melif\u001b[0m \u001b[0mtask_str\u001b[0m\u001b[0;34m.\u001b[0m\u001b[0mstartswith\u001b[0m\u001b[0;34m(\u001b[0m\u001b[0;34mb'NEW_X'\u001b[0m\u001b[0;34m)\u001b[0m\u001b[0;34m:\u001b[0m\u001b[0;34m\u001b[0m\u001b[0;34m\u001b[0m\u001b[0m\n\u001b[1;32m    362\u001b[0m             \u001b[0;31m# new iteration\u001b[0m\u001b[0;34m\u001b[0m\u001b[0;34m\u001b[0m\u001b[0;34m\u001b[0m\u001b[0m\n",
      "\u001b[0;32m/usr/local/anaconda3/lib/python3.8/site-packages/scipy/optimize/_differentiable_functions.py\u001b[0m in \u001b[0;36mfun_and_grad\u001b[0;34m(self, x)\u001b[0m\n\u001b[1;32m    258\u001b[0m         \u001b[0;32mif\u001b[0m \u001b[0;32mnot\u001b[0m \u001b[0mnp\u001b[0m\u001b[0;34m.\u001b[0m\u001b[0marray_equal\u001b[0m\u001b[0;34m(\u001b[0m\u001b[0mx\u001b[0m\u001b[0;34m,\u001b[0m \u001b[0mself\u001b[0m\u001b[0;34m.\u001b[0m\u001b[0mx\u001b[0m\u001b[0;34m)\u001b[0m\u001b[0;34m:\u001b[0m\u001b[0;34m\u001b[0m\u001b[0;34m\u001b[0m\u001b[0m\n\u001b[1;32m    259\u001b[0m             \u001b[0mself\u001b[0m\u001b[0;34m.\u001b[0m\u001b[0m_update_x_impl\u001b[0m\u001b[0;34m(\u001b[0m\u001b[0mx\u001b[0m\u001b[0;34m)\u001b[0m\u001b[0;34m\u001b[0m\u001b[0;34m\u001b[0m\u001b[0m\n\u001b[0;32m--> 260\u001b[0;31m         \u001b[0mself\u001b[0m\u001b[0;34m.\u001b[0m\u001b[0m_update_fun\u001b[0m\u001b[0;34m(\u001b[0m\u001b[0;34m)\u001b[0m\u001b[0;34m\u001b[0m\u001b[0;34m\u001b[0m\u001b[0m\n\u001b[0m\u001b[1;32m    261\u001b[0m         \u001b[0mself\u001b[0m\u001b[0;34m.\u001b[0m\u001b[0m_update_grad\u001b[0m\u001b[0;34m(\u001b[0m\u001b[0;34m)\u001b[0m\u001b[0;34m\u001b[0m\u001b[0;34m\u001b[0m\u001b[0m\n\u001b[1;32m    262\u001b[0m         \u001b[0;32mreturn\u001b[0m \u001b[0mself\u001b[0m\u001b[0;34m.\u001b[0m\u001b[0mf\u001b[0m\u001b[0;34m,\u001b[0m \u001b[0mself\u001b[0m\u001b[0;34m.\u001b[0m\u001b[0mg\u001b[0m\u001b[0;34m\u001b[0m\u001b[0;34m\u001b[0m\u001b[0m\n",
      "\u001b[0;32m/usr/local/anaconda3/lib/python3.8/site-packages/scipy/optimize/_differentiable_functions.py\u001b[0m in \u001b[0;36m_update_fun\u001b[0;34m(self)\u001b[0m\n\u001b[1;32m    224\u001b[0m     \u001b[0;32mdef\u001b[0m \u001b[0m_update_fun\u001b[0m\u001b[0;34m(\u001b[0m\u001b[0mself\u001b[0m\u001b[0;34m)\u001b[0m\u001b[0;34m:\u001b[0m\u001b[0;34m\u001b[0m\u001b[0;34m\u001b[0m\u001b[0m\n\u001b[1;32m    225\u001b[0m         \u001b[0;32mif\u001b[0m \u001b[0;32mnot\u001b[0m \u001b[0mself\u001b[0m\u001b[0;34m.\u001b[0m\u001b[0mf_updated\u001b[0m\u001b[0;34m:\u001b[0m\u001b[0;34m\u001b[0m\u001b[0;34m\u001b[0m\u001b[0m\n\u001b[0;32m--> 226\u001b[0;31m             \u001b[0mself\u001b[0m\u001b[0;34m.\u001b[0m\u001b[0m_update_fun_impl\u001b[0m\u001b[0;34m(\u001b[0m\u001b[0;34m)\u001b[0m\u001b[0;34m\u001b[0m\u001b[0;34m\u001b[0m\u001b[0m\n\u001b[0m\u001b[1;32m    227\u001b[0m             \u001b[0mself\u001b[0m\u001b[0;34m.\u001b[0m\u001b[0mf_updated\u001b[0m \u001b[0;34m=\u001b[0m \u001b[0;32mTrue\u001b[0m\u001b[0;34m\u001b[0m\u001b[0;34m\u001b[0m\u001b[0m\n\u001b[1;32m    228\u001b[0m \u001b[0;34m\u001b[0m\u001b[0m\n",
      "\u001b[0;32m/usr/local/anaconda3/lib/python3.8/site-packages/scipy/optimize/_differentiable_functions.py\u001b[0m in \u001b[0;36mupdate_fun\u001b[0;34m()\u001b[0m\n\u001b[1;32m    131\u001b[0m \u001b[0;34m\u001b[0m\u001b[0m\n\u001b[1;32m    132\u001b[0m         \u001b[0;32mdef\u001b[0m \u001b[0mupdate_fun\u001b[0m\u001b[0;34m(\u001b[0m\u001b[0;34m)\u001b[0m\u001b[0;34m:\u001b[0m\u001b[0;34m\u001b[0m\u001b[0;34m\u001b[0m\u001b[0m\n\u001b[0;32m--> 133\u001b[0;31m             \u001b[0mself\u001b[0m\u001b[0;34m.\u001b[0m\u001b[0mf\u001b[0m \u001b[0;34m=\u001b[0m \u001b[0mfun_wrapped\u001b[0m\u001b[0;34m(\u001b[0m\u001b[0mself\u001b[0m\u001b[0;34m.\u001b[0m\u001b[0mx\u001b[0m\u001b[0;34m)\u001b[0m\u001b[0;34m\u001b[0m\u001b[0;34m\u001b[0m\u001b[0m\n\u001b[0m\u001b[1;32m    134\u001b[0m \u001b[0;34m\u001b[0m\u001b[0m\n\u001b[1;32m    135\u001b[0m         \u001b[0mself\u001b[0m\u001b[0;34m.\u001b[0m\u001b[0m_update_fun_impl\u001b[0m \u001b[0;34m=\u001b[0m \u001b[0mupdate_fun\u001b[0m\u001b[0;34m\u001b[0m\u001b[0;34m\u001b[0m\u001b[0m\n",
      "\u001b[0;32m/usr/local/anaconda3/lib/python3.8/site-packages/scipy/optimize/_differentiable_functions.py\u001b[0m in \u001b[0;36mfun_wrapped\u001b[0;34m(x)\u001b[0m\n\u001b[1;32m    128\u001b[0m         \u001b[0;32mdef\u001b[0m \u001b[0mfun_wrapped\u001b[0m\u001b[0;34m(\u001b[0m\u001b[0mx\u001b[0m\u001b[0;34m)\u001b[0m\u001b[0;34m:\u001b[0m\u001b[0;34m\u001b[0m\u001b[0;34m\u001b[0m\u001b[0m\n\u001b[1;32m    129\u001b[0m             \u001b[0mself\u001b[0m\u001b[0;34m.\u001b[0m\u001b[0mnfev\u001b[0m \u001b[0;34m+=\u001b[0m \u001b[0;36m1\u001b[0m\u001b[0;34m\u001b[0m\u001b[0;34m\u001b[0m\u001b[0m\n\u001b[0;32m--> 130\u001b[0;31m             \u001b[0;32mreturn\u001b[0m \u001b[0mfun\u001b[0m\u001b[0;34m(\u001b[0m\u001b[0mx\u001b[0m\u001b[0;34m,\u001b[0m \u001b[0;34m*\u001b[0m\u001b[0margs\u001b[0m\u001b[0;34m)\u001b[0m\u001b[0;34m\u001b[0m\u001b[0;34m\u001b[0m\u001b[0m\n\u001b[0m\u001b[1;32m    131\u001b[0m \u001b[0;34m\u001b[0m\u001b[0m\n\u001b[1;32m    132\u001b[0m         \u001b[0;32mdef\u001b[0m \u001b[0mupdate_fun\u001b[0m\u001b[0;34m(\u001b[0m\u001b[0;34m)\u001b[0m\u001b[0;34m:\u001b[0m\u001b[0;34m\u001b[0m\u001b[0;34m\u001b[0m\u001b[0m\n",
      "\u001b[0;32m/usr/local/anaconda3/lib/python3.8/site-packages/scipy/optimize/optimize.py\u001b[0m in \u001b[0;36m__call__\u001b[0;34m(self, x, *args)\u001b[0m\n\u001b[1;32m     72\u001b[0m     \u001b[0;32mdef\u001b[0m \u001b[0m__call__\u001b[0m\u001b[0;34m(\u001b[0m\u001b[0mself\u001b[0m\u001b[0;34m,\u001b[0m \u001b[0mx\u001b[0m\u001b[0;34m,\u001b[0m \u001b[0;34m*\u001b[0m\u001b[0margs\u001b[0m\u001b[0;34m)\u001b[0m\u001b[0;34m:\u001b[0m\u001b[0;34m\u001b[0m\u001b[0;34m\u001b[0m\u001b[0m\n\u001b[1;32m     73\u001b[0m         \u001b[0;34m\"\"\" returns the the function value \"\"\"\u001b[0m\u001b[0;34m\u001b[0m\u001b[0;34m\u001b[0m\u001b[0m\n\u001b[0;32m---> 74\u001b[0;31m         \u001b[0mself\u001b[0m\u001b[0;34m.\u001b[0m\u001b[0m_compute_if_needed\u001b[0m\u001b[0;34m(\u001b[0m\u001b[0mx\u001b[0m\u001b[0;34m,\u001b[0m \u001b[0;34m*\u001b[0m\u001b[0margs\u001b[0m\u001b[0;34m)\u001b[0m\u001b[0;34m\u001b[0m\u001b[0;34m\u001b[0m\u001b[0m\n\u001b[0m\u001b[1;32m     75\u001b[0m         \u001b[0;32mreturn\u001b[0m \u001b[0mself\u001b[0m\u001b[0;34m.\u001b[0m\u001b[0m_value\u001b[0m\u001b[0;34m\u001b[0m\u001b[0;34m\u001b[0m\u001b[0m\n\u001b[1;32m     76\u001b[0m \u001b[0;34m\u001b[0m\u001b[0m\n",
      "\u001b[0;32m/usr/local/anaconda3/lib/python3.8/site-packages/scipy/optimize/optimize.py\u001b[0m in \u001b[0;36m_compute_if_needed\u001b[0;34m(self, x, *args)\u001b[0m\n\u001b[1;32m     66\u001b[0m         \u001b[0;32mif\u001b[0m \u001b[0;32mnot\u001b[0m \u001b[0mnp\u001b[0m\u001b[0;34m.\u001b[0m\u001b[0mall\u001b[0m\u001b[0;34m(\u001b[0m\u001b[0mx\u001b[0m \u001b[0;34m==\u001b[0m \u001b[0mself\u001b[0m\u001b[0;34m.\u001b[0m\u001b[0mx\u001b[0m\u001b[0;34m)\u001b[0m \u001b[0;32mor\u001b[0m \u001b[0mself\u001b[0m\u001b[0;34m.\u001b[0m\u001b[0m_value\u001b[0m \u001b[0;32mis\u001b[0m \u001b[0;32mNone\u001b[0m \u001b[0;32mor\u001b[0m \u001b[0mself\u001b[0m\u001b[0;34m.\u001b[0m\u001b[0mjac\u001b[0m \u001b[0;32mis\u001b[0m \u001b[0;32mNone\u001b[0m\u001b[0;34m:\u001b[0m\u001b[0;34m\u001b[0m\u001b[0;34m\u001b[0m\u001b[0m\n\u001b[1;32m     67\u001b[0m             \u001b[0mself\u001b[0m\u001b[0;34m.\u001b[0m\u001b[0mx\u001b[0m \u001b[0;34m=\u001b[0m \u001b[0mnp\u001b[0m\u001b[0;34m.\u001b[0m\u001b[0masarray\u001b[0m\u001b[0;34m(\u001b[0m\u001b[0mx\u001b[0m\u001b[0;34m)\u001b[0m\u001b[0;34m.\u001b[0m\u001b[0mcopy\u001b[0m\u001b[0;34m(\u001b[0m\u001b[0;34m)\u001b[0m\u001b[0;34m\u001b[0m\u001b[0;34m\u001b[0m\u001b[0m\n\u001b[0;32m---> 68\u001b[0;31m             \u001b[0mfg\u001b[0m \u001b[0;34m=\u001b[0m \u001b[0mself\u001b[0m\u001b[0;34m.\u001b[0m\u001b[0mfun\u001b[0m\u001b[0;34m(\u001b[0m\u001b[0mx\u001b[0m\u001b[0;34m,\u001b[0m \u001b[0;34m*\u001b[0m\u001b[0margs\u001b[0m\u001b[0;34m)\u001b[0m\u001b[0;34m\u001b[0m\u001b[0;34m\u001b[0m\u001b[0m\n\u001b[0m\u001b[1;32m     69\u001b[0m             \u001b[0mself\u001b[0m\u001b[0;34m.\u001b[0m\u001b[0mjac\u001b[0m \u001b[0;34m=\u001b[0m \u001b[0mfg\u001b[0m\u001b[0;34m[\u001b[0m\u001b[0;36m1\u001b[0m\u001b[0;34m]\u001b[0m\u001b[0;34m\u001b[0m\u001b[0;34m\u001b[0m\u001b[0m\n\u001b[1;32m     70\u001b[0m             \u001b[0mself\u001b[0m\u001b[0;34m.\u001b[0m\u001b[0m_value\u001b[0m \u001b[0;34m=\u001b[0m \u001b[0mfg\u001b[0m\u001b[0;34m[\u001b[0m\u001b[0;36m0\u001b[0m\u001b[0;34m]\u001b[0m\u001b[0;34m\u001b[0m\u001b[0;34m\u001b[0m\u001b[0m\n",
      "\u001b[0;32m/usr/local/anaconda3/lib/python3.8/site-packages/sklearn/gaussian_process/_gpr.py\u001b[0m in \u001b[0;36mobj_func\u001b[0;34m(theta, eval_gradient)\u001b[0m\n\u001b[1;32m    228\u001b[0m             \u001b[0;32mdef\u001b[0m \u001b[0mobj_func\u001b[0m\u001b[0;34m(\u001b[0m\u001b[0mtheta\u001b[0m\u001b[0;34m,\u001b[0m \u001b[0meval_gradient\u001b[0m\u001b[0;34m=\u001b[0m\u001b[0;32mTrue\u001b[0m\u001b[0;34m)\u001b[0m\u001b[0;34m:\u001b[0m\u001b[0;34m\u001b[0m\u001b[0;34m\u001b[0m\u001b[0m\n\u001b[1;32m    229\u001b[0m                 \u001b[0;32mif\u001b[0m \u001b[0meval_gradient\u001b[0m\u001b[0;34m:\u001b[0m\u001b[0;34m\u001b[0m\u001b[0;34m\u001b[0m\u001b[0m\n\u001b[0;32m--> 230\u001b[0;31m                     lml, grad = self.log_marginal_likelihood(\n\u001b[0m\u001b[1;32m    231\u001b[0m                         theta, eval_gradient=True, clone_kernel=False)\n\u001b[1;32m    232\u001b[0m                     \u001b[0;32mreturn\u001b[0m \u001b[0;34m-\u001b[0m\u001b[0mlml\u001b[0m\u001b[0;34m,\u001b[0m \u001b[0;34m-\u001b[0m\u001b[0mgrad\u001b[0m\u001b[0;34m\u001b[0m\u001b[0;34m\u001b[0m\u001b[0m\n",
      "\u001b[0;32m/usr/local/anaconda3/lib/python3.8/site-packages/sklearn/gaussian_process/_gpr.py\u001b[0m in \u001b[0;36mlog_marginal_likelihood\u001b[0;34m(self, theta, eval_gradient, clone_kernel)\u001b[0m\n\u001b[1;32m    457\u001b[0m         \u001b[0;32melse\u001b[0m\u001b[0;34m:\u001b[0m\u001b[0;34m\u001b[0m\u001b[0;34m\u001b[0m\u001b[0m\n\u001b[1;32m    458\u001b[0m             \u001b[0mkernel\u001b[0m \u001b[0;34m=\u001b[0m \u001b[0mself\u001b[0m\u001b[0;34m.\u001b[0m\u001b[0mkernel_\u001b[0m\u001b[0;34m\u001b[0m\u001b[0;34m\u001b[0m\u001b[0m\n\u001b[0;32m--> 459\u001b[0;31m             \u001b[0mkernel\u001b[0m\u001b[0;34m.\u001b[0m\u001b[0mtheta\u001b[0m \u001b[0;34m=\u001b[0m \u001b[0mtheta\u001b[0m\u001b[0;34m\u001b[0m\u001b[0;34m\u001b[0m\u001b[0m\n\u001b[0m\u001b[1;32m    460\u001b[0m \u001b[0;34m\u001b[0m\u001b[0m\n\u001b[1;32m    461\u001b[0m         \u001b[0;32mif\u001b[0m \u001b[0meval_gradient\u001b[0m\u001b[0;34m:\u001b[0m\u001b[0;34m\u001b[0m\u001b[0;34m\u001b[0m\u001b[0m\n",
      "\u001b[0;32m/usr/local/anaconda3/lib/python3.8/site-packages/sklearn/gaussian_process/kernels.py\u001b[0m in \u001b[0;36mtheta\u001b[0;34m(self, theta)\u001b[0m\n\u001b[1;32m    284\u001b[0m         \u001b[0mparams\u001b[0m \u001b[0;34m=\u001b[0m \u001b[0mself\u001b[0m\u001b[0;34m.\u001b[0m\u001b[0mget_params\u001b[0m\u001b[0;34m(\u001b[0m\u001b[0;34m)\u001b[0m\u001b[0;34m\u001b[0m\u001b[0;34m\u001b[0m\u001b[0m\n\u001b[1;32m    285\u001b[0m         \u001b[0mi\u001b[0m \u001b[0;34m=\u001b[0m \u001b[0;36m0\u001b[0m\u001b[0;34m\u001b[0m\u001b[0;34m\u001b[0m\u001b[0m\n\u001b[0;32m--> 286\u001b[0;31m         \u001b[0;32mfor\u001b[0m \u001b[0mhyperparameter\u001b[0m \u001b[0;32min\u001b[0m \u001b[0mself\u001b[0m\u001b[0;34m.\u001b[0m\u001b[0mhyperparameters\u001b[0m\u001b[0;34m:\u001b[0m\u001b[0;34m\u001b[0m\u001b[0;34m\u001b[0m\u001b[0m\n\u001b[0m\u001b[1;32m    287\u001b[0m             \u001b[0;32mif\u001b[0m \u001b[0mhyperparameter\u001b[0m\u001b[0;34m.\u001b[0m\u001b[0mfixed\u001b[0m\u001b[0;34m:\u001b[0m\u001b[0;34m\u001b[0m\u001b[0;34m\u001b[0m\u001b[0m\n\u001b[1;32m    288\u001b[0m                 \u001b[0;32mcontinue\u001b[0m\u001b[0;34m\u001b[0m\u001b[0;34m\u001b[0m\u001b[0m\n",
      "\u001b[0;32m/usr/local/anaconda3/lib/python3.8/site-packages/sklearn/gaussian_process/kernels.py\u001b[0m in \u001b[0;36mhyperparameters\u001b[0;34m(self)\u001b[0m\n\u001b[1;32m    245\u001b[0m     \u001b[0;32mdef\u001b[0m \u001b[0mhyperparameters\u001b[0m\u001b[0;34m(\u001b[0m\u001b[0mself\u001b[0m\u001b[0;34m)\u001b[0m\u001b[0;34m:\u001b[0m\u001b[0;34m\u001b[0m\u001b[0;34m\u001b[0m\u001b[0m\n\u001b[1;32m    246\u001b[0m         \u001b[0;34m\"\"\"Returns a list of all hyperparameter specifications.\"\"\"\u001b[0m\u001b[0;34m\u001b[0m\u001b[0;34m\u001b[0m\u001b[0m\n\u001b[0;32m--> 247\u001b[0;31m         r = [getattr(self, attr) for attr in dir(self)\n\u001b[0m\u001b[1;32m    248\u001b[0m              if attr.startswith(\"hyperparameter_\")]\n\u001b[1;32m    249\u001b[0m         \u001b[0;32mreturn\u001b[0m \u001b[0mr\u001b[0m\u001b[0;34m\u001b[0m\u001b[0;34m\u001b[0m\u001b[0m\n",
      "\u001b[0;32m/usr/local/anaconda3/lib/python3.8/site-packages/sklearn/gaussian_process/kernels.py\u001b[0m in \u001b[0;36m<listcomp>\u001b[0;34m(.0)\u001b[0m\n\u001b[1;32m    246\u001b[0m         \u001b[0;34m\"\"\"Returns a list of all hyperparameter specifications.\"\"\"\u001b[0m\u001b[0;34m\u001b[0m\u001b[0;34m\u001b[0m\u001b[0m\n\u001b[1;32m    247\u001b[0m         r = [getattr(self, attr) for attr in dir(self)\n\u001b[0;32m--> 248\u001b[0;31m              if attr.startswith(\"hyperparameter_\")]\n\u001b[0m\u001b[1;32m    249\u001b[0m         \u001b[0;32mreturn\u001b[0m \u001b[0mr\u001b[0m\u001b[0;34m\u001b[0m\u001b[0;34m\u001b[0m\u001b[0m\n\u001b[1;32m    250\u001b[0m \u001b[0;34m\u001b[0m\u001b[0m\n",
      "\u001b[0;31mKeyboardInterrupt\u001b[0m: "
     ]
    }
   ],
   "source": [
    "REPEATS = 300\n",
    "N_ITER = 40\n",
    "succ_rates = []\n",
    "results_list = []\n",
    "kappas = np.linspace(1.5, 4, 10)\n",
    "for kappa in kappas:\n",
    "    succ_rate, results = trial2(REPEATS, n_iter = N_ITER, init_points = 3, kappa = kappa, verbose = 0)\n",
    "    succ_rates.append(succ_rate)\n",
    "    results_list.append(results)"
   ]
  },
  {
   "cell_type": "code",
   "execution_count": null,
   "id": "eaabafd9-3498-4430-9849-089de7f76bd4",
   "metadata": {},
   "outputs": [],
   "source": [
    "np.savetxt(\"results%drepeat%diter.csv\"%(REPEATS,N_ITER), np.array(results_list))"
   ]
  },
  {
   "cell_type": "code",
   "execution_count": null,
   "id": "7a54377b-b933-473a-b5ea-9bc4b10206e3",
   "metadata": {},
   "outputs": [],
   "source": [
    "results_list = np.loadtxt(\"results%drepeat%diter.csv\"%(REPEATS,N_ITER))\n",
    "results_list.shape"
   ]
  },
  {
   "cell_type": "code",
   "execution_count": null,
   "id": "2d14cba5-3168-43f8-b6e9-2637d85eaeca",
   "metadata": {},
   "outputs": [],
   "source": [
    "REPEATS"
   ]
  },
  {
   "cell_type": "code",
   "execution_count": null,
   "id": "d243f2ad-7b71-49e8-a863-bdca6a0aa768",
   "metadata": {},
   "outputs": [],
   "source": [
    "succ_rate_err = [FairCoinVar(rate*REPEATS, REPEATS) ** (1/2) for rate in succ_rates]\n",
    "plt.errorbar(kappas, succ_rates, yerr=succ_rate_err, fmt=\"x\", color='black', ecolor=\"red\")\n",
    "plt.xlabel(\"kappa\")\n",
    "plt.ylabel(\"success rate\")\n",
    "plt.ylim([0.3,1])\n",
    "plt.title(\"success rate in %d rounds, %d repeats\"%(N_ITER, REPEATS))\n",
    "dist = kappas[2]-kappas[1]\n",
    "for index, value in enumerate(succ_rates):\n",
    "    x = kappas[index]\n",
    "    plt.text(x+0.01, value+0.01, \"%.2f\"%value)\n",
    "    plt.text(x-0.1, value-0.08, \"k%.2f\"%x, color=\"green\")\n",
    "plt.savefig(\"Graphs/succ_rate%drepeats%diters.png\"%(REPEATS, N_ITER))\n",
    "plt.show()"
   ]
  },
  {
   "cell_type": "code",
   "execution_count": null,
   "id": "a423677a-3625-40c7-be86-7c7ca0a41da6",
   "metadata": {},
   "outputs": [],
   "source": [
    "MIN = 100\n",
    "MAX = 150\n",
    "hist_bin = list(np.linspace(MIN, MAX, 10))\n",
    "hist_list = []\n",
    "for results in results_list:\n",
    "    hist, bins = np.histogram(results, bins=hist_bin)\n",
    "    hist_list.append(hist)\n",
    "hist_results = np.vstack(hist_list).T[::-1]\n",
    "hist_bin = [round(h,2) for h in hist_bin][:-1][::-1] # data manipulation for plots\n",
    "\n",
    "fig, ax = plt.subplots(figsize=(10, 10))\n",
    "im = ax.imshow(hist_results)\n",
    "\n",
    "# avg_list = [(sum(results)/len(results)-MIN)/(MAX-MIN) for results in results_list]\n",
    "# ax.plot(avg_list, color=\"red\")\n",
    "\n",
    "# Show all ticks and label them with the respective list entries\n",
    "ax.set_xticks(np.arange(len(kappas)))\n",
    "ax.set_xticklabels([round(k,2) for k in kappas])\n",
    "ax.set_yticks(np.arange(len(hist_bin)))\n",
    "ax.set_yticklabels(hist_bin)\n",
    "\n",
    "# Rotate the tick labels and set their alignment.\n",
    "plt.setp(ax.get_xticklabels(), rotation=45, ha=\"right\",\n",
    "         rotation_mode=\"anchor\")\n",
    "\n",
    "# Loop over data dimensions and create text annotations.\n",
    "for i in range(len(hist_bin)):\n",
    "    for j in range(len(kappas)):\n",
    "        text = ax.text(j, i, hist_results[i, j],\n",
    "                       ha=\"center\", va=\"center\", color=\"w\")\n",
    "\n",
    "ax.set_title(\"Heatmap with %d repeats\"%REPEATS)\n",
    "fig.tight_layout()\n",
    "plt.savefig(\"Graphs/heatmap%drepeats%diters.png\"%(REPEATS, N_ITER))\n",
    "plt.show()"
   ]
  },
  {
   "cell_type": "code",
   "execution_count": null,
   "id": "32752c93-9205-4d71-8630-07699e8f9219",
   "metadata": {},
   "outputs": [],
   "source": [
    "REPEATS = 100\n",
    "N_ITER = 40\n",
    "succ_rates = []\n",
    "results_list = []\n",
    "alphas = np.linspace(0.01, 1, 10)\n",
    "for alpha in alphas:\n",
    "    succ_rate, results = trial2(REPEATS, n_iter = N_ITER, init_points = 3, kappa = 2.3, verbose = 0)\n",
    "    succ_rates.append(succ_rate)\n",
    "    results_list.append(results)"
   ]
  },
  {
   "cell_type": "markdown",
   "id": "69b294a0-31a3-4eba-a812-6e41527acf96",
   "metadata": {},
   "source": [
    "## Simple Trial"
   ]
  },
  {
   "cell_type": "code",
   "execution_count": 27,
   "id": "dfa75204-adea-4ed8-8ce6-ef297ae2eebb",
   "metadata": {},
   "outputs": [
    {
     "name": "stdout",
     "output_type": "stream",
     "text": [
      "0.075\n"
     ]
    },
    {
     "name": "stderr",
     "output_type": "stream",
     "text": [
      "100%|██████████| 1/1 [00:03<00:00,  3.42s/it]"
     ]
    },
    {
     "name": "stdout",
     "output_type": "stream",
     "text": [
      "Best result: {'A': 102.06889102090035, 'B': 97.0, 'C': 125.84338618361845}; f(x) = 148.55273094936692.\n"
     ]
    },
    {
     "name": "stderr",
     "output_type": "stream",
     "text": [
      "\n"
     ]
    },
    {
     "data": {
      "image/png": "[encoded data removed]",
      "text/plain": [
       "<Figure size 432x288 with 1 Axes>"
      ]
     },
     "metadata": {
      "needs_background": "light"
     },
     "output_type": "display_data"
    },
    {
     "data": {
      "image/png": "[encoded data removed]",
      "text/plain": [
       "<Figure size 432x288 with 1 Axes>"
      ]
     },
     "metadata": {
      "needs_background": "light"
     },
     "output_type": "display_data"
    },
    {
     "name": "stdout",
     "output_type": "stream",
     "text": [
      "[148.55273094936692]\n"
     ]
    }
   ],
   "source": [
    "trial(1, n_iter = 40, init_points = 5, kappa = 2.3, verbose = 2)"
   ]
  },
  {
   "cell_type": "markdown",
   "id": "0db7b939-1d08-41f2-afb9-cbf4a4434555",
   "metadata": {},
   "source": [
    "## Making sure our method is better than random"
   ]
  },
  {
   "cell_type": "code",
   "execution_count": 70,
   "id": "5d5a3003-9d85-4b98-ae00-3be66e4418c0",
   "metadata": {},
   "outputs": [
    {
     "name": "stdout",
     "output_type": "stream",
     "text": [
      "0.15\n"
     ]
    },
    {
     "name": "stderr",
     "output_type": "stream",
     "text": [
      "100%|██████████| 50/50 [01:16<00:00,  1.54s/it]\n"
     ]
    },
    {
     "data": {
      "image/png": "[encoded data removed]",
      "text/plain": [
       "<Figure size 432x288 with 1 Axes>"
      ]
     },
     "metadata": {
      "needs_background": "light"
     },
     "output_type": "display_data"
    },
    {
     "data": {
      "image/png": "[encoded data removed]",
      "text/plain": [
       "<Figure size 432x288 with 1 Axes>"
      ]
     },
     "metadata": {
      "needs_background": "light"
     },
     "output_type": "display_data"
    },
    {
     "name": "stdout",
     "output_type": "stream",
     "text": [
      "[148.94083564944438, 148.80293350364641, 148.7804308971855, 148.61935274479188, 148.5289763923368, 148.06598084149138, 147.3610279717895, 147.18976971171958, 146.12354362556522, 144.25024624162748, 144.16503568531775, 143.24215145174185, 142.11688556428263, 141.98421279567341, 141.95195399628514, 141.75233814055687, 141.7174072258657, 141.48947936664055, 141.4313743113626, 141.1477179354017, 140.93284751457222, 139.97523908717832, 139.8283615542519, 139.66094659998166, 139.559813644353, 139.51138930083158, 139.4664540436107, 139.4231859011972, 138.94542341598026, 138.9074443080565, 138.8313909321047, 138.41573296938373, 137.5484412884773, 137.17704228583517, 137.0977993685779, 137.0362716432221, 136.73680949978296, 136.3196606189075, 136.25613863503335, 134.8336208005396, 133.55256605120434, 133.32332391584293, 130.82741483238712, 130.45136029515473, 127.88148339534604, 122.8432345212318, 119.51880295288537, 119.51754923273327, 119.1022863528063, 116.58310008409707]\n"
     ]
    }
   ],
   "source": [
    "trial(50, n_iter = 20, init_points = 3, kappa = 2.3, verbose = 1)"
   ]
  },
  {
   "cell_type": "code",
   "execution_count": 71,
   "id": "47bcd372-beaa-4a38-a7e8-8f68ebd8b59a",
   "metadata": {},
   "outputs": [
    {
     "name": "stdout",
     "output_type": "stream",
     "text": [
      "0.15\n"
     ]
    },
    {
     "name": "stderr",
     "output_type": "stream",
     "text": [
      "100%|██████████| 50/50 [00:11<00:00,  4.36it/s]\n"
     ]
    },
    {
     "data": {
      "image/png": "[encoded data removed]",
      "text/plain": [
       "<Figure size 432x288 with 1 Axes>"
      ]
     },
     "metadata": {
      "needs_background": "light"
     },
     "output_type": "display_data"
    },
    {
     "data": {
      "image/png": "[encoded data removed]",
      "text/plain": [
       "<Figure size 432x288 with 1 Axes>"
      ]
     },
     "metadata": {
      "needs_background": "light"
     },
     "output_type": "display_data"
    },
    {
     "name": "stdout",
     "output_type": "stream",
     "text": [
      "[148.60497691637062, 147.52605764966574, 143.732273991048, 142.60215145011867, 141.98159479291326, 141.71366977904802, 141.54859963840352, 141.11080600276279, 140.22492217340985, 140.18893667500285, 139.93188259992684, 139.52175289521378, 139.28884887333564, 139.13110441972145, 139.1045710218415, 138.7297493510525, 138.17503983630107, 138.065233726919, 138.05955279879643, 137.49961053169292, 137.20862789964204, 136.36644992189278, 135.33305042113108, 135.12793675987925, 134.2876222130726, 134.08161039952884, 133.99040448378582, 133.37358555525233, 132.91447823539238, 132.37739304666889, 132.0036048397521, 131.8356615123824, 131.31676482650772, 130.4700755409994, 130.23996218472954, 129.45132972319993, 128.9118316676865, 128.0993839529267, 126.92085663181928, 126.63022948419248, 126.6280477108036, 126.24890945709483, 125.38903932454623, 125.0258296095181, 124.16380024134672, 122.05308320945858, 121.97681730747395, 121.85899739558468, 120.6087233479306, 115.11346702958055]\n"
     ]
    }
   ],
   "source": [
    "# we see that more iteration is better than more initial points, meaning our sampling is more efficient than random sample\n",
    "trial(50, n_iter = 3, init_points = 20, kappa = 2.3, verbose = 1)"
   ]
  },
  {
   "cell_type": "code",
   "execution_count": null,
   "id": "819cc73a-413d-4179-9b19-afb4f0463937",
   "metadata": {},
   "outputs": [],
   "source": []
  }
 ],
 "metadata": {
  "kernelspec": {
   "display_name": "Python 3",
   "language": "python",
   "name": "python3"
  },
  "language_info": {
   "codemirror_mode": {
    "name": "ipython",
    "version": 3
   },
   "file_extension": ".py",
   "mimetype": "text/x-python",
   "name": "python",
   "nbconvert_exporter": "python",
   "pygments_lexer": "ipython3",
   "version": "3.8.8"
  }
 },
 "nbformat": 4,
 "nbformat_minor": 5
}
